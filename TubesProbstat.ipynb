{
 "cells": [
  {
   "cell_type": "markdown",
   "metadata": {},
   "source": [
    "# Tugas Besar - IF2220 - Probabilitas dan Statistika\n",
    "**Penarikan kesimpulan dan pengujian hipotesis**\n",
    "\n",
    "Enam Langkah Testing:\n",
    "1. Tentukan Hipotesis nol (H_0: θ = θ_0), dimana θ bisa berupa μ, σ^2, p, atau data lain berdistribusi tertentu (normal, binomial, dsc.).\n",
    "\n",
    "2. Pilih hipotesis alternatif H1 salah dari dari θ > θ_0, θ < θ_0, atau θ ≠ θ_0\n",
    "3. Tentukan tingkat signifikan α.\n",
    "4. Tentukan uji statistik yang sesuai dan tentukan daerah kritis.\n",
    "5. Hitung nilai uji statistik dari data sample. Hitung p-value sesuai dengan uji statistik yang digunakan.\n",
    "6. Ambil keputusan dengan TOLAK H_0 jika nilai uji terletak di daerah kritis atau dengan tes signifikan, TOLAK H_0 jika p-value lebih kecil dibanding tingkat signifikansi α yang diinginkan.\n",
    "\n",
    "Catatan : _ menandai subscript, ^ menandai superscript"
   ]
  },
  {
   "cell_type": "markdown",
   "metadata": {},
   "source": [
    "## Soal\n",
    "Diberikan sebuah data Gandum.csv yang dapat diakses pada utas berikut: Dataset Tugas Besar\n",
    "IF2220. Gandum.csv merupakan data klasifikasi biji gandum yang mengandung 12 kolom\n",
    "sebagai berikut:\n",
    "1. id\n",
    "2. Daerah\n",
    "3. SumbuUtama\n",
    "4. SumbuKecil\n",
    "5. Keunikan\n",
    "6. AreaBulatan\n",
    "7. Diameter\n",
    "8. KadarAir\n",
    "9. Keliling\n",
    "10. Bulatan\n",
    "11. Ransum\n",
    "12. Kelas\n",
    "Kolom 2-11 adalah kolom atribut (non-target), sedangkan kolom 12 adalah kolom target.\n",
    "\n",
    "\n",
    "\n",
    "\n",
    "\n",
    "\n"
   ]
  },
  {
   "cell_type": "markdown",
   "metadata": {},
   "source": [
    "Anda diminta untuk melakukan analisis statistika sebagai berikut:\n",
    "### 1. Menulis deskripsi statistika (Descriptive Statistics)\n",
    "dari semua kolom pada data yang bersifat numerik, terdiri dari mean, median, modus, standar deviasi, variansi, range, nilai minimum, maksimum, kuartil, IQR, skewness dan kurtosis. Boleh juga ditambahkan deskripsi lain."
   ]
  },
  {
   "cell_type": "code",
   "execution_count": null,
   "metadata": {},
   "outputs": [],
   "source": []
  },
  {
   "cell_type": "markdown",
   "metadata": {},
   "source": [
    "### 2. Membuat Visualisasi plot distribusi\n",
    "dalam bentuk histogram dan boxplot untuk setiap\n",
    "kolom numerik. Berikan uraian penjelasan kondisi setiap kolom berdasarkan kedua plot\n",
    "tersebut."
   ]
  },
  {
   "cell_type": "code",
   "execution_count": null,
   "metadata": {},
   "outputs": [],
   "source": []
  },
  {
   "cell_type": "markdown",
   "metadata": {},
   "source": [
    "### 3. Menentukan setiap kolom numerik berdistribusi normal atau tidak \n",
    "Gunakan normality test yang dikaitkan dengan histogram plot."
   ]
  },
  {
   "cell_type": "code",
   "execution_count": null,
   "metadata": {},
   "outputs": [],
   "source": []
  },
  {
   "cell_type": "markdown",
   "metadata": {},
   "source": [
    "### 4. Melakukan test hipotesis 1 sampel dan menuliskan 6 langkah testing \n",
    "Menampilkan juga boxplotnya untuk kolom/bagian yang bersesuaian.\n",
    "- Nilai rata-rata Daerah di atas 4700?\n",
    "- Nilai Rata-rata Sumbu Utama tidak sama dengan 116?\n",
    "- Nilai Rata-rata 20 baris pertama kolom Sumbu Kecil bukan 50?\n",
    "- Proporsi nilai Diameter yang lebih dari 85, adalah tidak sama dengan 15% ?\n",
    "- Proporsi nilai Keliling yang kurang dari 100, adalah kurang dari 5% ?"
   ]
  },
  {
   "cell_type": "code",
   "execution_count": null,
   "metadata": {},
   "outputs": [],
   "source": []
  },
  {
   "cell_type": "markdown",
   "metadata": {},
   "source": [
    "### 5. Melakukan test hipotesis 2 sampel dan menuliskan 6 langkah testing\n",
    "Menampilkan juga boxplotnya untuk kolom/bagian yang bersesuaian.\n",
    "- Data kolom AreaBulatan dibagi 2 sama rata: bagian awal dan bagian akhir kolom. Benarkah rata-rata kedua bagian tersebut sama?\n",
    "- Data kolom Kadar Air dibagi 2 sama rata: bagian awal dan bagian akhir kolom. Benarkah rata-rata bagian awal lebih besar dari pada bagian akhir sebesar 0.2?\n",
    "- Rata-rata 20 baris pertama kolom Bulatan sama dengan 20 baris terakhirnya?\n",
    "- Proporsi nilai bagian awal Ransum yang lebih dari 2, adalah lebih besar daripada, proporsi nilai yang sama di bagian akhir Ransum?\n",
    "- Bagian awal kolom Diameter memiliki variansi yang sama dengan bagian akhirnya?"
   ]
  },
  {
   "cell_type": "code",
   "execution_count": null,
   "metadata": {},
   "outputs": [],
   "source": []
  },
  {
   "cell_type": "markdown",
   "metadata": {},
   "source": [
    "### 6. Test korelasi\n",
    "Tentukan apakah setiap kolom non-target berkorelasi dengan kolom target, dengan menggambarkan juga scatter plot nya. Gunakan correlation test."
   ]
  },
  {
   "cell_type": "code",
   "execution_count": null,
   "metadata": {},
   "outputs": [],
   "source": []
  }
 ],
 "metadata": {
  "kernelspec": {
   "display_name": "Python 3",
   "language": "python",
   "name": "python3"
  },
  "language_info": {
   "codemirror_mode": {
    "name": "ipython",
    "version": 3
   },
   "file_extension": ".py",
   "mimetype": "text/x-python",
   "name": "python",
   "nbconvert_exporter": "python",
   "pygments_lexer": "ipython3",
   "version": "3.7.2"
  }
 },
 "nbformat": 4,
 "nbformat_minor": 2
}
