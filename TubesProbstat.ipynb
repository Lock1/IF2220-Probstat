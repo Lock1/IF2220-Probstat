{
 "cells": [
  {
   "cell_type": "markdown",
   "metadata": {},
   "source": [
    "# Tugas Besar - IF2220 - Probabilitas dan Statistika\n",
    "**Penarikan kesimpulan dan pengujian hipotesis**\n",
    "\n",
    "Enam Langkah Testing:\n",
    "1. Tentukan Hipotesis nol $(H_0: θ = θ_0)$, dimana $θ$ bisa berupa $μ$, $σ^2$, $p$, atau data lain berdistribusi tertentu (normal, binomial, dsc.).\n",
    "\n",
    "2. Pilih hipotesis alternatif $H_1$ salah dari dari $θ > θ_0$, $θ < θ_0$, atau $θ ≠ θ_0$\n",
    "3. Tentukan tingkat signifikan $α$.\n",
    "4. Tentukan uji statistik yang sesuai dan tentukan daerah kritis.\n",
    "5. Hitung nilai uji statistik dari data sample. Hitung $p$-value sesuai dengan uji statistik yang digunakan.\n",
    "6. Ambil keputusan dengan TOLAK $H_0$ jika nilai uji terletak di daerah kritis atau dengan tes signifikan, TOLAK $H_0$ jika $p$-value lebih kecil dibanding tingkat signifikansi $α$ yang diinginkan."
   ]
  },
  {
   "cell_type": "markdown",
   "metadata": {},
   "source": [
    "# Soal\n",
    "Diberikan sebuah data Gandum.csv yang dapat diakses pada utas berikut: Dataset Tugas Besar IF2220. \n",
    "\n",
    "Gandum.csv merupakan data klasifikasi biji gandum yang mengandung 12 kolom sebagai berikut:\n",
    "1. ID\n",
    "2. Daerah\n",
    "3. SumbuUtama\n",
    "4. SumbuKecil\n",
    "5. Keunikan\n",
    "6. AreaBulatan\n",
    "7. Diameter\n",
    "8. KadarAir\n",
    "9. Keliling\n",
    "10. Bulatan\n",
    "11. Ransum\n",
    "12. Kelas\n",
    "\n",
    "Kolom 2-11 adalah kolom atribut (non-target), sedangkan kolom 12 adalah kolom target."
   ]
  },
  {
   "cell_type": "markdown",
   "metadata": {},
   "source": [
    "Anda diminta untuk melakukan analisis statistika sebagai berikut:\n",
    "### 1. Menulis deskripsi statistika (Descriptive Statistics)\n",
    "Tuliskan descriptive statistics dari semua kolom pada data yang bersifat numerik, terdiri dari mean, median, modus, standar deviasi, variansi, range, nilai minimum, maksimum, kuartil, IQR, skewness dan kurtosis. Boleh juga ditambahkan deskripsi lain."
   ]
  },
  {
   "cell_type": "code",
   "execution_count": 35,
   "metadata": {},
   "outputs": [
    {
     "data": {
      "text/markdown": [
       "#### Mean, Standar deviasi, Minimum, Maximum, dan Kuartil"
      ],
      "text/plain": [
       "<IPython.core.display.Markdown object>"
      ]
     },
     "metadata": {},
     "output_type": "display_data"
    },
    {
     "data": {
      "text/html": [
       "<div>\n",
       "<style scoped>\n",
       "    .dataframe tbody tr th:only-of-type {\n",
       "        vertical-align: middle;\n",
       "    }\n",
       "\n",
       "    .dataframe tbody tr th {\n",
       "        vertical-align: top;\n",
       "    }\n",
       "\n",
       "    .dataframe thead th {\n",
       "        text-align: right;\n",
       "    }\n",
       "</style>\n",
       "<table border=\"1\" class=\"dataframe\">\n",
       "  <thead>\n",
       "    <tr style=\"text-align: right;\">\n",
       "      <th></th>\n",
       "      <th>ID</th>\n",
       "      <th>Daerah</th>\n",
       "      <th>SumbuUtama</th>\n",
       "      <th>SumbuKecil</th>\n",
       "      <th>Keunikan</th>\n",
       "      <th>AreaBulatan</th>\n",
       "      <th>Diameter</th>\n",
       "      <th>KadarAir</th>\n",
       "      <th>Keliling</th>\n",
       "      <th>Bulatan</th>\n",
       "      <th>Ransum</th>\n",
       "      <th>Target</th>\n",
       "    </tr>\n",
       "  </thead>\n",
       "  <tbody>\n",
       "    <tr>\n",
       "      <th>count</th>\n",
       "      <td>500.000000</td>\n",
       "      <td>500.000000</td>\n",
       "      <td>500.000000</td>\n",
       "      <td>500.000000</td>\n",
       "      <td>500.000000</td>\n",
       "      <td>500.000000</td>\n",
       "      <td>500.000000</td>\n",
       "      <td>500.000000</td>\n",
       "      <td>500.000000</td>\n",
       "      <td>500.000000</td>\n",
       "      <td>500.000000</td>\n",
       "      <td>500.000000</td>\n",
       "    </tr>\n",
       "    <tr>\n",
       "      <th>mean</th>\n",
       "      <td>250.500000</td>\n",
       "      <td>4801.246000</td>\n",
       "      <td>116.045171</td>\n",
       "      <td>53.715246</td>\n",
       "      <td>0.878764</td>\n",
       "      <td>4937.048000</td>\n",
       "      <td>77.771158</td>\n",
       "      <td>0.648372</td>\n",
       "      <td>281.479722</td>\n",
       "      <td>0.761737</td>\n",
       "      <td>2.150915</td>\n",
       "      <td>1.502000</td>\n",
       "    </tr>\n",
       "    <tr>\n",
       "      <th>std</th>\n",
       "      <td>144.481833</td>\n",
       "      <td>986.395491</td>\n",
       "      <td>18.282626</td>\n",
       "      <td>4.071075</td>\n",
       "      <td>0.036586</td>\n",
       "      <td>1011.696255</td>\n",
       "      <td>8.056867</td>\n",
       "      <td>0.094367</td>\n",
       "      <td>37.335402</td>\n",
       "      <td>0.061702</td>\n",
       "      <td>0.249767</td>\n",
       "      <td>0.500497</td>\n",
       "    </tr>\n",
       "    <tr>\n",
       "      <th>min</th>\n",
       "      <td>1.000000</td>\n",
       "      <td>2522.000000</td>\n",
       "      <td>74.133114</td>\n",
       "      <td>39.906517</td>\n",
       "      <td>0.719916</td>\n",
       "      <td>2579.000000</td>\n",
       "      <td>56.666658</td>\n",
       "      <td>0.409927</td>\n",
       "      <td>197.015000</td>\n",
       "      <td>0.174590</td>\n",
       "      <td>1.440796</td>\n",
       "      <td>1.000000</td>\n",
       "    </tr>\n",
       "    <tr>\n",
       "      <th>25%</th>\n",
       "      <td>125.750000</td>\n",
       "      <td>4042.750000</td>\n",
       "      <td>104.116098</td>\n",
       "      <td>51.193576</td>\n",
       "      <td>0.863676</td>\n",
       "      <td>4170.250000</td>\n",
       "      <td>71.745308</td>\n",
       "      <td>0.572632</td>\n",
       "      <td>255.883000</td>\n",
       "      <td>0.731991</td>\n",
       "      <td>1.983939</td>\n",
       "      <td>1.000000</td>\n",
       "    </tr>\n",
       "    <tr>\n",
       "      <th>50%</th>\n",
       "      <td>250.500000</td>\n",
       "      <td>4735.000000</td>\n",
       "      <td>115.405140</td>\n",
       "      <td>53.731199</td>\n",
       "      <td>0.890045</td>\n",
       "      <td>4857.000000</td>\n",
       "      <td>77.645277</td>\n",
       "      <td>0.626117</td>\n",
       "      <td>280.045500</td>\n",
       "      <td>0.761288</td>\n",
       "      <td>2.193599</td>\n",
       "      <td>2.000000</td>\n",
       "    </tr>\n",
       "    <tr>\n",
       "      <th>75%</th>\n",
       "      <td>375.250000</td>\n",
       "      <td>5495.500000</td>\n",
       "      <td>129.046792</td>\n",
       "      <td>56.325158</td>\n",
       "      <td>0.907578</td>\n",
       "      <td>5654.250000</td>\n",
       "      <td>83.648598</td>\n",
       "      <td>0.726633</td>\n",
       "      <td>306.062500</td>\n",
       "      <td>0.796361</td>\n",
       "      <td>2.381612</td>\n",
       "      <td>2.000000</td>\n",
       "    </tr>\n",
       "    <tr>\n",
       "      <th>max</th>\n",
       "      <td>500.000000</td>\n",
       "      <td>7453.000000</td>\n",
       "      <td>227.928583</td>\n",
       "      <td>68.977700</td>\n",
       "      <td>0.914001</td>\n",
       "      <td>7720.000000</td>\n",
       "      <td>97.413830</td>\n",
       "      <td>0.878899</td>\n",
       "      <td>488.837000</td>\n",
       "      <td>0.904748</td>\n",
       "      <td>2.464809</td>\n",
       "      <td>2.000000</td>\n",
       "    </tr>\n",
       "  </tbody>\n",
       "</table>\n",
       "</div>"
      ],
      "text/plain": [
       "               ID       Daerah  SumbuUtama  SumbuKecil    Keunikan  \\\n",
       "count  500.000000   500.000000  500.000000  500.000000  500.000000   \n",
       "mean   250.500000  4801.246000  116.045171   53.715246    0.878764   \n",
       "std    144.481833   986.395491   18.282626    4.071075    0.036586   \n",
       "min      1.000000  2522.000000   74.133114   39.906517    0.719916   \n",
       "25%    125.750000  4042.750000  104.116098   51.193576    0.863676   \n",
       "50%    250.500000  4735.000000  115.405140   53.731199    0.890045   \n",
       "75%    375.250000  5495.500000  129.046792   56.325158    0.907578   \n",
       "max    500.000000  7453.000000  227.928583   68.977700    0.914001   \n",
       "\n",
       "       AreaBulatan    Diameter    KadarAir    Keliling     Bulatan  \\\n",
       "count   500.000000  500.000000  500.000000  500.000000  500.000000   \n",
       "mean   4937.048000   77.771158    0.648372  281.479722    0.761737   \n",
       "std    1011.696255    8.056867    0.094367   37.335402    0.061702   \n",
       "min    2579.000000   56.666658    0.409927  197.015000    0.174590   \n",
       "25%    4170.250000   71.745308    0.572632  255.883000    0.731991   \n",
       "50%    4857.000000   77.645277    0.626117  280.045500    0.761288   \n",
       "75%    5654.250000   83.648598    0.726633  306.062500    0.796361   \n",
       "max    7720.000000   97.413830    0.878899  488.837000    0.904748   \n",
       "\n",
       "           Ransum      Target  \n",
       "count  500.000000  500.000000  \n",
       "mean     2.150915    1.502000  \n",
       "std      0.249767    0.500497  \n",
       "min      1.440796    1.000000  \n",
       "25%      1.983939    1.000000  \n",
       "50%      2.193599    2.000000  \n",
       "75%      2.381612    2.000000  \n",
       "max      2.464809    2.000000  "
      ]
     },
     "execution_count": 35,
     "metadata": {},
     "output_type": "execute_result"
    }
   ],
   "source": [
    "# Load dataset\n",
    "# import import_ipynb\n",
    "from IPython.display import Markdown, display\n",
    "from pandas import *\n",
    "from matplotlib import *\n",
    "# import seaborn as sns\n",
    "dataset = read_csv(\"dataset/Gandum.csv\")\n",
    "\n",
    "def printMarkdown(rawString):\n",
    "    display(Markdown(rawString))\n",
    "\n",
    "# Print mean, std, min, max, quartile\n",
    "printMarkdown(\"#### Mean, Standar deviasi, Minimum, Maximum, dan Kuartil\")\n",
    "dataset.describe()"
   ]
  },
  {
   "cell_type": "code",
   "execution_count": 50,
   "metadata": {},
   "outputs": [
    {
     "data": {
      "text/markdown": [
       "#### Range, Varians, Median, Modus, IQR, Skewness, dan Kurtosis"
      ],
      "text/plain": [
       "<IPython.core.display.Markdown object>"
      ]
     },
     "metadata": {},
     "output_type": "display_data"
    },
    {
     "data": {
      "text/html": [
       "<div>\n",
       "<style scoped>\n",
       "    .dataframe tbody tr th:only-of-type {\n",
       "        vertical-align: middle;\n",
       "    }\n",
       "\n",
       "    .dataframe tbody tr th {\n",
       "        vertical-align: top;\n",
       "    }\n",
       "\n",
       "    .dataframe thead th {\n",
       "        text-align: right;\n",
       "    }\n",
       "</style>\n",
       "<table border=\"1\" class=\"dataframe\">\n",
       "  <thead>\n",
       "    <tr style=\"text-align: right;\">\n",
       "      <th></th>\n",
       "      <th>Kolom</th>\n",
       "      <th>Range</th>\n",
       "      <th>Varians</th>\n",
       "      <th>Median</th>\n",
       "      <th>Modus</th>\n",
       "      <th>IQR</th>\n",
       "      <th>Skewness</th>\n",
       "      <th>Kurtosis</th>\n",
       "    </tr>\n",
       "  </thead>\n",
       "  <tbody>\n",
       "    <tr>\n",
       "      <th>1</th>\n",
       "      <td>ID</td>\n",
       "      <td>499.000000</td>\n",
       "      <td>2.087500e+04</td>\n",
       "      <td>250.500000</td>\n",
       "      <td>1.000000</td>\n",
       "      <td>249.500000</td>\n",
       "      <td>0.000000</td>\n",
       "      <td>-1.200000</td>\n",
       "    </tr>\n",
       "    <tr>\n",
       "      <th>2</th>\n",
       "      <td>Daerah</td>\n",
       "      <td>4931.000000</td>\n",
       "      <td>9.729761e+05</td>\n",
       "      <td>4735.000000</td>\n",
       "      <td>3992.000000</td>\n",
       "      <td>1452.750000</td>\n",
       "      <td>0.238144</td>\n",
       "      <td>-0.434631</td>\n",
       "    </tr>\n",
       "    <tr>\n",
       "      <th>3</th>\n",
       "      <td>SumbuUtama</td>\n",
       "      <td>153.795469</td>\n",
       "      <td>3.342544e+02</td>\n",
       "      <td>115.405140</td>\n",
       "      <td>74.133114</td>\n",
       "      <td>24.930694</td>\n",
       "      <td>0.761529</td>\n",
       "      <td>4.330534</td>\n",
       "    </tr>\n",
       "    <tr>\n",
       "      <th>4</th>\n",
       "      <td>SumbuKecil</td>\n",
       "      <td>29.071182</td>\n",
       "      <td>1.657365e+01</td>\n",
       "      <td>53.731199</td>\n",
       "      <td>39.906517</td>\n",
       "      <td>5.131582</td>\n",
       "      <td>-0.010828</td>\n",
       "      <td>0.475568</td>\n",
       "    </tr>\n",
       "    <tr>\n",
       "      <th>5</th>\n",
       "      <td>Keunikan</td>\n",
       "      <td>0.194085</td>\n",
       "      <td>1.338528e-03</td>\n",
       "      <td>0.890045</td>\n",
       "      <td>0.719916</td>\n",
       "      <td>0.043902</td>\n",
       "      <td>-1.623472</td>\n",
       "      <td>2.917256</td>\n",
       "    </tr>\n",
       "    <tr>\n",
       "      <th>6</th>\n",
       "      <td>AreaBulatan</td>\n",
       "      <td>5141.000000</td>\n",
       "      <td>1.023529e+06</td>\n",
       "      <td>4857.000000</td>\n",
       "      <td>3802.000000</td>\n",
       "      <td>1484.000000</td>\n",
       "      <td>0.257560</td>\n",
       "      <td>-0.409685</td>\n",
       "    </tr>\n",
       "    <tr>\n",
       "      <th>7</th>\n",
       "      <td>Diameter</td>\n",
       "      <td>40.747172</td>\n",
       "      <td>6.491311e+01</td>\n",
       "      <td>77.645277</td>\n",
       "      <td>71.293564</td>\n",
       "      <td>11.903290</td>\n",
       "      <td>0.002725</td>\n",
       "      <td>-0.466455</td>\n",
       "    </tr>\n",
       "    <tr>\n",
       "      <th>8</th>\n",
       "      <td>KadarAir</td>\n",
       "      <td>0.468972</td>\n",
       "      <td>8.905149e-03</td>\n",
       "      <td>0.626117</td>\n",
       "      <td>0.735849</td>\n",
       "      <td>0.154001</td>\n",
       "      <td>0.493661</td>\n",
       "      <td>-0.740326</td>\n",
       "    </tr>\n",
       "    <tr>\n",
       "      <th>9</th>\n",
       "      <td>Keliling</td>\n",
       "      <td>291.822000</td>\n",
       "      <td>1.393932e+03</td>\n",
       "      <td>280.045500</td>\n",
       "      <td>197.015000</td>\n",
       "      <td>50.179500</td>\n",
       "      <td>0.733627</td>\n",
       "      <td>2.272685</td>\n",
       "    </tr>\n",
       "    <tr>\n",
       "      <th>10</th>\n",
       "      <td>Bulatan</td>\n",
       "      <td>0.730158</td>\n",
       "      <td>3.807194e-03</td>\n",
       "      <td>0.761288</td>\n",
       "      <td>0.174590</td>\n",
       "      <td>0.064370</td>\n",
       "      <td>-3.599237</td>\n",
       "      <td>29.975096</td>\n",
       "    </tr>\n",
       "    <tr>\n",
       "      <th>11</th>\n",
       "      <td>Ransum</td>\n",
       "      <td>1.024013</td>\n",
       "      <td>6.238350e-02</td>\n",
       "      <td>2.193599</td>\n",
       "      <td>1.440796</td>\n",
       "      <td>0.397673</td>\n",
       "      <td>-0.658188</td>\n",
       "      <td>-0.428656</td>\n",
       "    </tr>\n",
       "    <tr>\n",
       "      <th>12</th>\n",
       "      <td>Target</td>\n",
       "      <td>1.000000</td>\n",
       "      <td>2.504970e-01</td>\n",
       "      <td>2.000000</td>\n",
       "      <td>2.000000</td>\n",
       "      <td>1.000000</td>\n",
       "      <td>-0.008024</td>\n",
       "      <td>-2.007984</td>\n",
       "    </tr>\n",
       "  </tbody>\n",
       "</table>\n",
       "</div>"
      ],
      "text/plain": [
       "          Kolom        Range       Varians       Median        Modus  \\\n",
       "1            ID   499.000000  2.087500e+04   250.500000     1.000000   \n",
       "2        Daerah  4931.000000  9.729761e+05  4735.000000  3992.000000   \n",
       "3    SumbuUtama   153.795469  3.342544e+02   115.405140    74.133114   \n",
       "4    SumbuKecil    29.071182  1.657365e+01    53.731199    39.906517   \n",
       "5      Keunikan     0.194085  1.338528e-03     0.890045     0.719916   \n",
       "6   AreaBulatan  5141.000000  1.023529e+06  4857.000000  3802.000000   \n",
       "7      Diameter    40.747172  6.491311e+01    77.645277    71.293564   \n",
       "8      KadarAir     0.468972  8.905149e-03     0.626117     0.735849   \n",
       "9      Keliling   291.822000  1.393932e+03   280.045500   197.015000   \n",
       "10      Bulatan     0.730158  3.807194e-03     0.761288     0.174590   \n",
       "11       Ransum     1.024013  6.238350e-02     2.193599     1.440796   \n",
       "12       Target     1.000000  2.504970e-01     2.000000     2.000000   \n",
       "\n",
       "            IQR  Skewness   Kurtosis  \n",
       "1    249.500000  0.000000  -1.200000  \n",
       "2   1452.750000  0.238144  -0.434631  \n",
       "3     24.930694  0.761529   4.330534  \n",
       "4      5.131582 -0.010828   0.475568  \n",
       "5      0.043902 -1.623472   2.917256  \n",
       "6   1484.000000  0.257560  -0.409685  \n",
       "7     11.903290  0.002725  -0.466455  \n",
       "8      0.154001  0.493661  -0.740326  \n",
       "9     50.179500  0.733627   2.272685  \n",
       "10     0.064370 -3.599237  29.975096  \n",
       "11     0.397673 -0.658188  -0.428656  \n",
       "12     1.000000 -0.008024  -2.007984  "
      ]
     },
     "metadata": {},
     "output_type": "display_data"
    }
   ],
   "source": [
    "# Range, Variance, Median, Modus, IQR, Skewness, & Kurtosis \n",
    "printMarkdown(\"#### Range, Varians, Median, Modus, IQR, Skewness, dan Kurtosis\")\n",
    "describe_pandas = dataset.describe()\n",
    "\n",
    "# Inisiasi dictionary\n",
    "dictionary_gandum = {}\n",
    "dictionary_gandum[\"Kolom\"] = []\n",
    "dictionary_gandum[\"Range\"] = []\n",
    "dictionary_gandum[\"Varians\"] = []\n",
    "dictionary_gandum[\"Median\"] = []\n",
    "dictionary_gandum[\"Modus\"] = []\n",
    "dictionary_gandum[\"IQR\"] = []\n",
    "dictionary_gandum[\"Skewness\"] = []\n",
    "dictionary_gandum[\"Kurtosis\"] = []\n",
    "\n",
    "# Menambahkan informasi ke dictionary\n",
    "for column in describe_pandas:\n",
    "    dictionary_gandum[\"Kolom\"].append(column)\n",
    "    # Range, Variance, Median, & Modus\n",
    "    dictionary_gandum[\"Range\"].append(describe_pandas[column][\"max\"] - describe_pandas[column][\"min\"])\n",
    "    # | Range merupakan rentang nilai data\n",
    "    dictionary_gandum[\"Varians\"].append(dataset.var()[column])\n",
    "    # | Varians adalah nilai bagaimana data tersebar\n",
    "    dictionary_gandum[\"Median\"].append(dataset.median()[column])\n",
    "    # | Median adalah nilai tengah dari data, atau\n",
    "    #    dapat diinterpretasikan terdapat tepat \n",
    "    #    50% data diatas dan dibawah data tersebut\n",
    "    dictionary_gandum[\"Modus\"].append(dataset.mode(\"index\")[column][0])\n",
    "    # | Modus urutan dari banyaknya kemunculan nilai\n",
    "    # Note : Ambil hasil modus teratas dengan index 0\n",
    "    \n",
    "    # IQR, Skewness, & Kurtosis \n",
    "    dictionary_gandum[\"IQR\"].append(describe_pandas[column][\"75%\"] - describe_pandas[column][\"25%\"])\n",
    "    # | IQR adalah Selisih antara Q3 - Q1\n",
    "    dictionary_gandum[\"Skewness\"].append(dataset.skew()[column])\n",
    "    # | Skewness adalah kecenderungan arah distribusi,\n",
    "    #    dengan - menunjukan arah ke kanan dan sebaliknya\n",
    "    dictionary_gandum[\"Kurtosis\"].append(dataset.kurtosis()[column])\n",
    "    # | Kurtosis dapat digunakan diinterpretasikan sebagai\n",
    "    #    apakah distribusi memiliki banyak outlier atau tidak\n",
    "    \n",
    "\n",
    "\n",
    "\n",
    "# Perubahan dictionary ke dataframe dan menampilkannya\n",
    "dataframe_gandum = DataFrame(dictionary_gandum, index=[i for i in range(1,13)])\n",
    "display(dataframe_gandum)"
   ]
  },
  {
   "cell_type": "markdown",
   "metadata": {},
   "source": [
    "***\n",
    "```\n",
    "\n",
    "\n",
    "\n",
    "\n",
    "\n",
    "```"
   ]
  },
  {
   "cell_type": "markdown",
   "metadata": {},
   "source": [
    "### 2. Membuat Visualisasi plot distribusi\n",
    "Buatlah visualisasi dalam bentuk histogram dan boxplot untuk setiap\n",
    "kolom numerik. Berikan uraian penjelasan kondisi setiap kolom berdasarkan kedua plot\n",
    "tersebut."
   ]
  },
  {
   "cell_type": "markdown",
   "metadata": {},
   "source": [
    "#### Daerah\n",
    "Distribusi data daerah cenderung normal dan tidak ada outlier yang dapat dilihat pada boxplot."
   ]
  },
  {
   "cell_type": "code",
   "execution_count": 103,
   "metadata": {},
   "outputs": [
    {
     "name": "stdout",
     "output_type": "stream",
     "text": [
      "Daerah\n"
     ]
    },
    {
     "data": {
      "text/plain": [
       "<matplotlib.axes._subplots.AxesSubplot at 0x2bbb82c4048>"
      ]
     },
     "execution_count": 103,
     "metadata": {},
     "output_type": "execute_result"
    },
    {
     "data": {
      "image/png": "[encoded data removed]",
      "text/plain": [
       "<Figure size 432x288 with 1 Axes>"
      ]
     },
     "metadata": {
      "needs_background": "light"
     },
     "output_type": "display_data"
    }
   ],
   "source": [
    "dataset[\"Daerah\"].hist()"
   ]
  },
  {
   "cell_type": "code",
   "execution_count": 104,
   "metadata": {},
   "outputs": [
    {
     "data": {
      "text/plain": [
       "<matplotlib.axes._subplots.AxesSubplot at 0x2bbb833ada0>"
      ]
     },
     "execution_count": 104,
     "metadata": {},
     "output_type": "execute_result"
    },
    {
     "data": {
      "image/png": "[encoded data removed]",
      "text/plain": [
       "<Figure size 432x288 with 1 Axes>"
      ]
     },
     "metadata": {
      "needs_background": "light"
     },
     "output_type": "display_data"
    }
   ],
   "source": [
    "dataset.boxplot(\"Daerah\")"
   ]
  },
  {
   "cell_type": "markdown",
   "metadata": {},
   "source": [
    "***\n",
    "```\n",
    "\n",
    "```"
   ]
  },
  {
   "cell_type": "markdown",
   "metadata": {},
   "source": [
    "#### SumbuUtama\n",
    "Distribusi SumbuUtama terlihat normal meski terdapat satu outlier pada 220."
   ]
  },
  {
   "cell_type": "code",
   "execution_count": 105,
   "metadata": {},
   "outputs": [
    {
     "data": {
      "text/plain": [
       "<matplotlib.axes._subplots.AxesSubplot at 0x2bbb8388f98>"
      ]
     },
     "execution_count": 105,
     "metadata": {},
     "output_type": "execute_result"
    },
    {
     "data": {
      "image/png": "[encoded data removed]",
      "text/plain": [
       "<Figure size 432x288 with 1 Axes>"
      ]
     },
     "metadata": {
      "needs_background": "light"
     },
     "output_type": "display_data"
    }
   ],
   "source": [
    "# outlier, lebih dari 1.5IQR + Q3\n",
    "dataset[\"SumbuUtama\"].hist()"
   ]
  },
  {
   "cell_type": "code",
   "execution_count": 106,
   "metadata": {},
   "outputs": [
    {
     "data": {
      "text/plain": [
       "<matplotlib.axes._subplots.AxesSubplot at 0x2bbb8320eb8>"
      ]
     },
     "execution_count": 106,
     "metadata": {},
     "output_type": "execute_result"
    },
    {
     "data": {
      "image/png": "[encoded data removed]",
      "text/plain": [
       "<Figure size 432x288 with 1 Axes>"
      ]
     },
     "metadata": {
      "needs_background": "light"
     },
     "output_type": "display_data"
    }
   ],
   "source": [
    "dataset.boxplot(\"SumbuUtama\")"
   ]
  },
  {
   "cell_type": "markdown",
   "metadata": {},
   "source": [
    "***\n",
    "```\n",
    "\n",
    "```"
   ]
  },
  {
   "cell_type": "markdown",
   "metadata": {},
   "source": [
    "#### SumbuKecil\n",
    "Pada histogram distribusi SumbuKecil terlihat normal, namun pada boxplot terlihat terdapat satu outlier yang terletak pada sekitar 230. Data terlihat memiliki kecenderungan standar deviasi yang kecil jika diamati dari histogram."
   ]
  },
  {
   "cell_type": "code",
   "execution_count": 98,
   "metadata": {},
   "outputs": [
    {
     "name": "stdout",
     "output_type": "stream",
     "text": [
      "SumbuKecil\n"
     ]
    },
    {
     "data": {
      "text/plain": [
       "<matplotlib.axes._subplots.AxesSubplot at 0x2bbb8010048>"
      ]
     },
     "execution_count": 98,
     "metadata": {},
     "output_type": "execute_result"
    },
    {
     "data": {
      "image/png": "[encoded data removed]",
      "text/plain": [
       "<Figure size 432x288 with 1 Axes>"
      ]
     },
     "metadata": {
      "needs_background": "light"
     },
     "output_type": "display_data"
    }
   ],
   "source": [
    "dataset[\"SumbuKecil\"].hist()"
   ]
  },
  {
   "cell_type": "code",
   "execution_count": 107,
   "metadata": {},
   "outputs": [
    {
     "data": {
      "text/plain": [
       "<matplotlib.axes._subplots.AxesSubplot at 0x2bbb8401d30>"
      ]
     },
     "execution_count": 107,
     "metadata": {},
     "output_type": "execute_result"
    },
    {
     "data": {
      "image/png": "[encoded data removed]",
      "text/plain": [
       "<Figure size 432x288 with 1 Axes>"
      ]
     },
     "metadata": {
      "needs_background": "light"
     },
     "output_type": "display_data"
    }
   ],
   "source": [
    "dataset.boxplot(\"SumbuUtama\")"
   ]
  },
  {
   "cell_type": "markdown",
   "metadata": {},
   "source": [
    "***\n",
    "```\n",
    "\n",
    "```"
   ]
  },
  {
   "cell_type": "markdown",
   "metadata": {},
   "source": [
    "#### Keunikan\n",
    "Distribusi Keunikan pada histogram terlihat seperti distribusi half-normal terbalik. Sebagian data juga terletak dibawah $Q_1 - 1.5IQR$ yang menyebabkan banyak data diklasifikasikan menjadi outlier pada boxplot."
   ]
  },
  {
   "cell_type": "code",
   "execution_count": 97,
   "metadata": {},
   "outputs": [
    {
     "name": "stdout",
     "output_type": "stream",
     "text": [
      "Keunikan\n"
     ]
    },
    {
     "data": {
      "text/plain": [
       "<matplotlib.axes._subplots.AxesSubplot at 0x2bbb7fc2588>"
      ]
     },
     "execution_count": 97,
     "metadata": {},
     "output_type": "execute_result"
    },
    {
     "data": {
      "image/png": "[encoded data removed]",
      "text/plain": [
       "<Figure size 432x288 with 1 Axes>"
      ]
     },
     "metadata": {
      "needs_background": "light"
     },
     "output_type": "display_data"
    }
   ],
   "source": [
    "dataset[\"Keunikan\"].hist()"
   ]
  },
  {
   "cell_type": "code",
   "execution_count": 108,
   "metadata": {},
   "outputs": [
    {
     "data": {
      "text/plain": [
       "<matplotlib.axes._subplots.AxesSubplot at 0x2bbb846ec18>"
      ]
     },
     "execution_count": 108,
     "metadata": {},
     "output_type": "execute_result"
    },
    {
     "data": {
      "image/png": "[encoded data removed]",
      "text/plain": [
       "<Figure size 432x288 with 1 Axes>"
      ]
     },
     "metadata": {
      "needs_background": "light"
     },
     "output_type": "display_data"
    }
   ],
   "source": [
    "dataset.boxplot(\"Keunikan\")"
   ]
  },
  {
   "cell_type": "markdown",
   "metadata": {},
   "source": [
    "***\n",
    "```\n",
    "\n",
    "```"
   ]
  },
  {
   "cell_type": "markdown",
   "metadata": {},
   "source": [
    "#### AreaBulatan\n",
    "Distribusi AreaBulatan terlihat normal dan tidak ada outlier pada boxplot. Skewness terlihat cenderung positif dari histogram dan varians cenderung tinggi."
   ]
  },
  {
   "cell_type": "code",
   "execution_count": 96,
   "metadata": {},
   "outputs": [
    {
     "name": "stdout",
     "output_type": "stream",
     "text": [
      "AreaBulatan\n"
     ]
    },
    {
     "data": {
      "text/plain": [
       "<matplotlib.axes._subplots.AxesSubplot at 0x2bbb7f50c18>"
      ]
     },
     "execution_count": 96,
     "metadata": {},
     "output_type": "execute_result"
    },
    {
     "data": {
      "image/png": "[encoded data removed]",
      "text/plain": [
       "<Figure size 432x288 with 1 Axes>"
      ]
     },
     "metadata": {
      "needs_background": "light"
     },
     "output_type": "display_data"
    }
   ],
   "source": [
    "dataset[\"AreaBulatan\"].hist()"
   ]
  },
  {
   "cell_type": "code",
   "execution_count": 109,
   "metadata": {},
   "outputs": [
    {
     "data": {
      "text/plain": [
       "<matplotlib.axes._subplots.AxesSubplot at 0x2bbb84db400>"
      ]
     },
     "execution_count": 109,
     "metadata": {},
     "output_type": "execute_result"
    },
    {
     "data": {
      "image/png": "[encoded data removed]",
      "text/plain": [
       "<Figure size 432x288 with 1 Axes>"
      ]
     },
     "metadata": {
      "needs_background": "light"
     },
     "output_type": "display_data"
    }
   ],
   "source": [
    "dataset.boxplot(\"AreaBulatan\")"
   ]
  },
  {
   "cell_type": "markdown",
   "metadata": {},
   "source": [
    "***\n",
    "```\n",
    "\n",
    "```"
   ]
  },
  {
   "cell_type": "markdown",
   "metadata": {},
   "source": [
    "#### Diameter\n",
    "Distribusi Diameter terlihat normal dan tidak ada outlier yang terlihat pada boxplot. Terlihat pada histogram standar deviasi data cukup besar sehingga data antara 70 dan 85 memiliki bentuk yang cenderung datar."
   ]
  },
  {
   "cell_type": "code",
   "execution_count": 95,
   "metadata": {},
   "outputs": [
    {
     "name": "stdout",
     "output_type": "stream",
     "text": [
      "Diameter\n"
     ]
    },
    {
     "data": {
      "text/plain": [
       "<matplotlib.axes._subplots.AxesSubplot at 0x2bbb7ebdd30>"
      ]
     },
     "execution_count": 95,
     "metadata": {},
     "output_type": "execute_result"
    },
    {
     "data": {
      "image/png": "[encoded data removed]",
      "text/plain": [
       "<Figure size 432x288 with 1 Axes>"
      ]
     },
     "metadata": {
      "needs_background": "light"
     },
     "output_type": "display_data"
    }
   ],
   "source": [
    "dataset[\"Diameter\"].hist()"
   ]
  },
  {
   "cell_type": "code",
   "execution_count": 110,
   "metadata": {},
   "outputs": [
    {
     "data": {
      "text/plain": [
       "<matplotlib.axes._subplots.AxesSubplot at 0x2bbb8539e80>"
      ]
     },
     "execution_count": 110,
     "metadata": {},
     "output_type": "execute_result"
    },
    {
     "data": {
      "image/png": "[encoded data removed]",
      "text/plain": [
       "<Figure size 432x288 with 1 Axes>"
      ]
     },
     "metadata": {
      "needs_background": "light"
     },
     "output_type": "display_data"
    }
   ],
   "source": [
    "dataset.boxplot(\"Diameter\")"
   ]
  },
  {
   "cell_type": "markdown",
   "metadata": {},
   "source": [
    "***\n",
    "```\n",
    "\n",
    "```"
   ]
  },
  {
   "cell_type": "markdown",
   "metadata": {},
   "source": [
    "#### KadarAir\n",
    "Distribusi KadarAir terlihat seperti distribusi gamma dan $α$ yang cukup tinggi menyebabkan bentuk tajam keatas. Tidak ada outlier yang terlihat pada boxplot."
   ]
  },
  {
   "cell_type": "code",
   "execution_count": 94,
   "metadata": {},
   "outputs": [
    {
     "name": "stdout",
     "output_type": "stream",
     "text": [
      "KadarAir\n"
     ]
    },
    {
     "data": {
      "text/plain": [
       "<matplotlib.axes._subplots.AxesSubplot at 0x2bbb7e49208>"
      ]
     },
     "execution_count": 94,
     "metadata": {},
     "output_type": "execute_result"
    },
    {
     "data": {
      "image/png": "[encoded data removed]",
      "text/plain": [
       "<Figure size 432x288 with 1 Axes>"
      ]
     },
     "metadata": {
      "needs_background": "light"
     },
     "output_type": "display_data"
    }
   ],
   "source": [
    "dataset[\"KadarAir\"].hist()"
   ]
  },
  {
   "cell_type": "code",
   "execution_count": 111,
   "metadata": {},
   "outputs": [
    {
     "data": {
      "text/plain": [
       "<matplotlib.axes._subplots.AxesSubplot at 0x2bbb85a3550>"
      ]
     },
     "execution_count": 111,
     "metadata": {},
     "output_type": "execute_result"
    },
    {
     "data": {
      "image/png": "[encoded data removed]",
      "text/plain": [
       "<Figure size 432x288 with 1 Axes>"
      ]
     },
     "metadata": {
      "needs_background": "light"
     },
     "output_type": "display_data"
    }
   ],
   "source": [
    "dataset.boxplot(\"KadarAir\")"
   ]
  },
  {
   "cell_type": "markdown",
   "metadata": {},
   "source": [
    "***\n",
    "```\n",
    "\n",
    "```"
   ]
  },
  {
   "cell_type": "markdown",
   "metadata": {},
   "source": [
    "#### Keliling\n",
    "Distribusi Keliling terlihat seperti distribusi normal meskipun terdapat beberapa outlier. Distribusi Keliling mungkin juga merupakan distribusi gamma jika sampel yang lebih besar menunjukan bahwa outlier-outlier tersebut masuk kedalam range $Q_3 + 1.5IQR$."
   ]
  },
  {
   "cell_type": "code",
   "execution_count": 93,
   "metadata": {},
   "outputs": [
    {
     "name": "stdout",
     "output_type": "stream",
     "text": [
      "Keliling\n"
     ]
    },
    {
     "data": {
      "text/plain": [
       "<matplotlib.axes._subplots.AxesSubplot at 0x2bbb7dcfb00>"
      ]
     },
     "execution_count": 93,
     "metadata": {},
     "output_type": "execute_result"
    },
    {
     "data": {
      "image/png": "[encoded data removed]",
      "text/plain": [
       "<Figure size 432x288 with 1 Axes>"
      ]
     },
     "metadata": {
      "needs_background": "light"
     },
     "output_type": "display_data"
    }
   ],
   "source": [
    "#outlier q3+1.5iqr\n",
    "dataset[\"Keliling\"].hist()"
   ]
  },
  {
   "cell_type": "code",
   "execution_count": 112,
   "metadata": {},
   "outputs": [
    {
     "data": {
      "text/plain": [
       "<matplotlib.axes._subplots.AxesSubplot at 0x2bbb8611eb8>"
      ]
     },
     "execution_count": 112,
     "metadata": {},
     "output_type": "execute_result"
    },
    {
     "data": {
      "image/png": "[encoded data removed]",
      "text/plain": [
       "<Figure size 432x288 with 1 Axes>"
      ]
     },
     "metadata": {
      "needs_background": "light"
     },
     "output_type": "display_data"
    }
   ],
   "source": [
    "dataset.boxplot(\"Keliling\")"
   ]
  },
  {
   "cell_type": "markdown",
   "metadata": {},
   "source": [
    "***\n",
    "```\n",
    "\n",
    "```"
   ]
  },
  {
   "cell_type": "markdown",
   "metadata": {},
   "source": [
    "#### Bulatan\n",
    "Distribusi Bulatan terlihat seperti distribusi normal dengan standar deviasi yang besar. Mungkin juga distribusi bulatan merupakan distribusi gamma yang terbalik jika sampel yang diambil kurang merepresentasikan populasi."
   ]
  },
  {
   "cell_type": "code",
   "execution_count": 92,
   "metadata": {},
   "outputs": [
    {
     "name": "stdout",
     "output_type": "stream",
     "text": [
      "Bulatan\n"
     ]
    },
    {
     "data": {
      "text/plain": [
       "<matplotlib.axes._subplots.AxesSubplot at 0x2bbb7cd74a8>"
      ]
     },
     "execution_count": 92,
     "metadata": {},
     "output_type": "execute_result"
    },
    {
     "data": {
      "image/png": "[encoded data removed]",
      "text/plain": [
       "<Figure size 432x288 with 1 Axes>"
      ]
     },
     "metadata": {
      "needs_background": "light"
     },
     "output_type": "display_data"
    }
   ],
   "source": [
    "dataset[\"Bulatan\"].hist()\n",
    "#outlier diatas dan bawah"
   ]
  },
  {
   "cell_type": "code",
   "execution_count": 113,
   "metadata": {},
   "outputs": [
    {
     "data": {
      "text/plain": [
       "<matplotlib.axes._subplots.AxesSubplot at 0x2bbb8676c18>"
      ]
     },
     "execution_count": 113,
     "metadata": {},
     "output_type": "execute_result"
    },
    {
     "data": {
      "image/png": "[encoded data removed]",
      "text/plain": [
       "<Figure size 432x288 with 1 Axes>"
      ]
     },
     "metadata": {
      "needs_background": "light"
     },
     "output_type": "display_data"
    }
   ],
   "source": [
    "dataset.boxplot(\"Bulatan\")"
   ]
  },
  {
   "cell_type": "markdown",
   "metadata": {},
   "source": [
    "***\n",
    "```\n",
    "\n",
    "```"
   ]
  },
  {
   "cell_type": "markdown",
   "metadata": {},
   "source": [
    "#### Ransum\n",
    "Distribusi Ransum terlihat seperti distribusi half-normal terbalik. Pada boxplot tidak terlihat outlier."
   ]
  },
  {
   "cell_type": "code",
   "execution_count": 91,
   "metadata": {},
   "outputs": [
    {
     "name": "stdout",
     "output_type": "stream",
     "text": [
      "Ransum\n"
     ]
    },
    {
     "data": {
      "text/plain": [
       "<matplotlib.axes._subplots.AxesSubplot at 0x2bbb7cd4940>"
      ]
     },
     "execution_count": 91,
     "metadata": {},
     "output_type": "execute_result"
    },
    {
     "data": {
      "image/png": "[encoded data removed]",
      "text/plain": [
       "<Figure size 432x288 with 1 Axes>"
      ]
     },
     "metadata": {
      "needs_background": "light"
     },
     "output_type": "display_data"
    }
   ],
   "source": [
    "dataset[\"Ransum\"].hist()"
   ]
  },
  {
   "cell_type": "code",
   "execution_count": 115,
   "metadata": {},
   "outputs": [
    {
     "data": {
      "text/plain": [
       "<matplotlib.axes._subplots.AxesSubplot at 0x2bbb86dad30>"
      ]
     },
     "execution_count": 115,
     "metadata": {},
     "output_type": "execute_result"
    },
    {
     "data": {
      "image/png": "[encoded data removed]",
      "text/plain": [
       "<Figure size 432x288 with 1 Axes>"
      ]
     },
     "metadata": {
      "needs_background": "light"
     },
     "output_type": "display_data"
    }
   ],
   "source": [
    "dataset.boxplot(\"Ransum\")"
   ]
  },
  {
   "cell_type": "markdown",
   "metadata": {},
   "source": [
    "***\n",
    "```\n",
    "\n",
    "\n",
    "\n",
    "\n",
    "\n",
    "```"
   ]
  },
  {
   "cell_type": "markdown",
   "metadata": {},
   "source": [
    "### 3. Menentukan setiap kolom numerik berdistribusi normal atau tidak \n",
    "Gunakan normality test yang dikaitkan dengan histogram plot."
   ]
  },
  {
   "cell_type": "markdown",
   "metadata": {},
   "source": [
    "#### Penjelasan D’Agostino’s and Pearson’s Omnibus Test Of Normality\n",
    "Normality test dilakukan dengan menggabungkan variabel skewness dan kurtosis pada setiap kolom.\n",
    "Apabila hasil tes menyimpulkan distribusi normal, maka pada histogram plot (yang dalam hal ini divisualisasikan\n",
    "dengan `seaborn.distplot()`) akan tergambar bell-shaped curve (kurva mirip bentuk bell).\n",
    "\n",
    "Pada tes omnibus ini, $K^2 = Z_s^2 + Z_k^2$. $Z_s$ merupakan hasil dari tes Skewness Agostino dan $Z_k$ merupakan\n",
    "hasil tes Kurtosis Agostino. $K^2$ diaproksimasi terdistribusi secara $\\chi^2$ (chi-squared) dengan 2 degrees of freedom.\n",
    "\n",
    "Hipotesis null $H_0$ dalam test ini adalah diasumsikan bahwa masing-masing kolom memiliki distribusi normal.\n",
    "Normality test akan menghasilkan dua output, yaitu stat dan $p$. Apabila nilai $p > 0.05$,\n",
    "maka hasil test gagal untuk menolak $H_0$, sehingga kolom dapat disimpulkan memiliki distribusi normal.\n",
    "Sebaliknya apabila nilai $p \\leq 0.05$, maka hasil test yang dilakukan berhasil menolak $H_0$, sehingga \n",
    "kolom yang bersangkutan dapat disimpulkan tidak memiliki distribusi normal.\n",
    "\n",
    "Hasil tes untuk setiap kolom dapat dilihat di bawah. Apabila dilihat, maka kolom yang tergolong memiliki distribusi normal\n",
    "melalui Omnibus Test Of Normality hanyalah kolom SumbuKecil. Hal ini sesuai dengan visualisasi pada histogram di mana \n",
    "memang hanya kolom SumbuKecil yang menyerupai bell-shape."
   ]
  },
  {
   "cell_type": "code",
   "execution_count": null,
   "metadata": {
    "scrolled": true
   },
   "outputs": [],
   "source": [
    "from scipy.stats import normaltest"
   ]
  },
  {
   "cell_type": "markdown",
   "metadata": {},
   "source": [
    "#### Daerah"
   ]
  },
  {
   "cell_type": "code",
   "execution_count": 79,
   "metadata": {
    "scrolled": true
   },
   "outputs": [
    {
     "data": {
      "text/plain": [
       "<matplotlib.axes._subplots.AxesSubplot at 0x1ce90dd0>"
      ]
     },
     "execution_count": 79,
     "metadata": {},
     "output_type": "execute_result"
    },
    {
     "data": {
      "image/png": "[encoded data removed]",
      "text/plain": [
       "<Figure size 432x288 with 1 Axes>"
      ]
     },
     "metadata": {
      "needs_background": "light"
     },
     "output_type": "display_data"
    }
   ],
   "source": [
    "sns.distplot(dataset[\"Daerah\"])"
   ]
  },
  {
   "cell_type": "code",
   "execution_count": 78,
   "metadata": {
    "scrolled": true
   },
   "outputs": [
    {
     "name": "stdout",
     "output_type": "stream",
     "text": [
      "Kolom Daerah\n",
      "D’Agostino’s Test : stat=10.859, p=0.004\n",
      "Tidak Berdistribusi Normal\n"
     ]
    }
   ],
   "source": [
    "print(\"Kolom Daerah\")\n",
    "stat, p = normaltest(dataset[\"Daerah\"])\n",
    "print(\"D’Agostino’s Test : stat=%.3f, p=%.3f\" % (stat, p))\n",
    "if(p > 0.05):\n",
    "    print(\"Berdistribusi Normal\")\n",
    "else:\n",
    "    print(\"Tidak Berdistribusi Normal\")"
   ]
  },
  {
   "cell_type": "markdown",
   "metadata": {},
   "source": [
    "***\n",
    "```\n",
    "\n",
    "```"
   ]
  },
  {
   "cell_type": "markdown",
   "metadata": {},
   "source": [
    "#### SumbuUtama"
   ]
  },
  {
   "cell_type": "code",
   "execution_count": 80,
   "metadata": {},
   "outputs": [
    {
     "data": {
      "text/plain": [
       "<matplotlib.axes._subplots.AxesSubplot at 0x1cecbcf0>"
      ]
     },
     "execution_count": 80,
     "metadata": {},
     "output_type": "execute_result"
    },
    {
     "data": {
      "image/png": "[encoded data removed]",
      "text/plain": [
       "<Figure size 432x288 with 1 Axes>"
      ]
     },
     "metadata": {
      "needs_background": "light"
     },
     "output_type": "display_data"
    }
   ],
   "source": [
    "sns.distplot(dataset[\"SumbuUtama\"])"
   ]
  },
  {
   "cell_type": "code",
   "execution_count": 81,
   "metadata": {},
   "outputs": [
    {
     "name": "stdout",
     "output_type": "stream",
     "text": [
      "Kolom SumbuUtama\n",
      "D’Agostino’s Test : stat=95.120, p=0.000\n",
      "Tidak Berdistribusi Normal\n"
     ]
    }
   ],
   "source": [
    "print(\"Kolom SumbuUtama\")\n",
    "stat, p = normaltest(dataset[\"SumbuUtama\"])\n",
    "print(\"D’Agostino’s Test : stat=%.3f, p=%.3f\" % (stat, p))\n",
    "if(p > 0.05):\n",
    "    print(\"Berdistribusi Normal\")\n",
    "else:\n",
    "    print(\"Tidak Berdistribusi Normal\")"
   ]
  },
  {
   "cell_type": "markdown",
   "metadata": {},
   "source": [
    "***\n",
    "```\n",
    "\n",
    "```"
   ]
  },
  {
   "cell_type": "markdown",
   "metadata": {},
   "source": [
    "#### SumbuKecil"
   ]
  },
  {
   "cell_type": "code",
   "execution_count": 82,
   "metadata": {},
   "outputs": [
    {
     "data": {
      "text/plain": [
       "<matplotlib.axes._subplots.AxesSubplot at 0x1cf34370>"
      ]
     },
     "execution_count": 82,
     "metadata": {},
     "output_type": "execute_result"
    },
    {
     "data": {
      "image/png": "[encoded data removed]",
      "text/plain": [
       "<Figure size 432x288 with 1 Axes>"
      ]
     },
     "metadata": {
      "needs_background": "light"
     },
     "output_type": "display_data"
    }
   ],
   "source": [
    "sns.distplot(dataset[\"SumbuKecil\"])"
   ]
  },
  {
   "cell_type": "code",
   "execution_count": 83,
   "metadata": {},
   "outputs": [
    {
     "name": "stdout",
     "output_type": "stream",
     "text": [
      "Kolom SumbuKecil\n",
      "D’Agostino’s Test : stat=3.698, p=0.157\n",
      "Berdistribusi Normal\n"
     ]
    }
   ],
   "source": [
    "print(\"Kolom SumbuKecil\")\n",
    "stat, p = normaltest(dataset[\"SumbuKecil\"])\n",
    "print(\"D’Agostino’s Test : stat=%.3f, p=%.3f\" % (stat, p))\n",
    "if(p > 0.05):\n",
    "    print(\"Berdistribusi Normal\")\n",
    "else:\n",
    "    print(\"Tidak Berdistribusi Normal\")"
   ]
  },
  {
   "cell_type": "markdown",
   "metadata": {},
   "source": [
    "***\n",
    "```\n",
    "\n",
    "```"
   ]
  },
  {
   "cell_type": "markdown",
   "metadata": {},
   "source": [
    "#### Keunikan"
   ]
  },
  {
   "cell_type": "code",
   "execution_count": 84,
   "metadata": {},
   "outputs": [
    {
     "data": {
      "text/plain": [
       "<matplotlib.axes._subplots.AxesSubplot at 0x1cf9c190>"
      ]
     },
     "execution_count": 84,
     "metadata": {},
     "output_type": "execute_result"
    },
    {
     "data": {
      "image/png": "[encoded data removed]",
      "text/plain": [
       "<Figure size 432x288 with 1 Axes>"
      ]
     },
     "metadata": {
      "needs_background": "light"
     },
     "output_type": "display_data"
    }
   ],
   "source": [
    "sns.distplot(dataset[\"Keunikan\"])"
   ]
  },
  {
   "cell_type": "code",
   "execution_count": 85,
   "metadata": {},
   "outputs": [
    {
     "name": "stdout",
     "output_type": "stream",
     "text": [
      "Kolom Keunikan\n",
      "D’Agostino’s Test : stat=158.617, p=0.000\n",
      "Tidak Berdistribusi Normal\n"
     ]
    }
   ],
   "source": [
    "print(\"Kolom Keunikan\")\n",
    "stat, p = normaltest(dataset[\"Keunikan\"])\n",
    "print(\"D’Agostino’s Test : stat=%.3f, p=%.3f\" % (stat, p))\n",
    "if(p > 0.05):\n",
    "    print(\"Berdistribusi Normal\")\n",
    "else:\n",
    "    print(\"Tidak Berdistribusi Normal\")"
   ]
  },
  {
   "cell_type": "markdown",
   "metadata": {},
   "source": [
    "***\n",
    "```\n",
    "\n",
    "```"
   ]
  },
  {
   "cell_type": "markdown",
   "metadata": {},
   "source": [
    "#### AreaBulatan"
   ]
  },
  {
   "cell_type": "code",
   "execution_count": 86,
   "metadata": {},
   "outputs": [
    {
     "data": {
      "text/plain": [
       "<matplotlib.axes._subplots.AxesSubplot at 0x1cffaab0>"
      ]
     },
     "execution_count": 86,
     "metadata": {},
     "output_type": "execute_result"
    },
    {
     "data": {
      "image/png": "[encoded data removed]",
      "text/plain": [
       "<Figure size 432x288 with 1 Axes>"
      ]
     },
     "metadata": {
      "needs_background": "light"
     },
     "output_type": "display_data"
    }
   ],
   "source": [
    "sns.distplot(dataset[\"AreaBulatan\"])"
   ]
  },
  {
   "cell_type": "code",
   "execution_count": 87,
   "metadata": {
    "scrolled": true
   },
   "outputs": [
    {
     "name": "stdout",
     "output_type": "stream",
     "text": [
      "Kolom AreaBulatan\n",
      "D’Agostino’s Test : stat=10.739, p=0.005\n",
      "Tidak Berdistribusi Normal\n"
     ]
    }
   ],
   "source": [
    "print(\"Kolom AreaBulatan\")\n",
    "stat, p = normaltest(dataset[\"AreaBulatan\"])\n",
    "print(\"D’Agostino’s Test : stat=%.3f, p=%.3f\" % (stat, p))\n",
    "if(p > 0.05):\n",
    "    print(\"Berdistribusi Normal\")\n",
    "else:\n",
    "    print(\"Tidak Berdistribusi Normal\")"
   ]
  },
  {
   "cell_type": "markdown",
   "metadata": {},
   "source": [
    "***\n",
    "```\n",
    "\n",
    "```"
   ]
  },
  {
   "cell_type": "markdown",
   "metadata": {},
   "source": [
    "#### Diameter"
   ]
  },
  {
   "cell_type": "code",
   "execution_count": 88,
   "metadata": {},
   "outputs": [
    {
     "data": {
      "text/plain": [
       "<matplotlib.axes._subplots.AxesSubplot at 0x1d01d2f0>"
      ]
     },
     "execution_count": 88,
     "metadata": {},
     "output_type": "execute_result"
    },
    {
     "data": {
      "image/png": "[encoded data removed]",
      "text/plain": [
       "<Figure size 432x288 with 1 Axes>"
      ]
     },
     "metadata": {
      "needs_background": "light"
     },
     "output_type": "display_data"
    }
   ],
   "source": [
    "sns.distplot(dataset[\"Diameter\"])"
   ]
  },
  {
   "cell_type": "code",
   "execution_count": 89,
   "metadata": {},
   "outputs": [
    {
     "name": "stdout",
     "output_type": "stream",
     "text": [
      "Kolom Diameter\n",
      "D’Agostino’s Test : stat=7.446, p=0.024\n",
      "Tidak Berdistribusi Normal\n"
     ]
    }
   ],
   "source": [
    "print(\"Kolom Diameter\")\n",
    "stat, p = normaltest(dataset[\"Diameter\"])\n",
    "print(\"D’Agostino’s Test : stat=%.3f, p=%.3f\" % (stat, p))\n",
    "if(p > 0.05):\n",
    "    print(\"Berdistribusi Normal\")\n",
    "else:\n",
    "    print(\"Tidak Berdistribusi Normal\")"
   ]
  },
  {
   "cell_type": "markdown",
   "metadata": {},
   "source": [
    "***\n",
    "```\n",
    "\n",
    "```"
   ]
  },
  {
   "cell_type": "markdown",
   "metadata": {},
   "source": [
    "#### KadarAir"
   ]
  },
  {
   "cell_type": "code",
   "execution_count": 90,
   "metadata": {},
   "outputs": [
    {
     "data": {
      "text/plain": [
       "<matplotlib.axes._subplots.AxesSubplot at 0x1d0a1c30>"
      ]
     },
     "execution_count": 90,
     "metadata": {},
     "output_type": "execute_result"
    },
    {
     "data": {
      "image/png": "[encoded data removed]",
      "text/plain": [
       "<Figure size 432x288 with 1 Axes>"
      ]
     },
     "metadata": {
      "needs_background": "light"
     },
     "output_type": "display_data"
    }
   ],
   "source": [
    "sns.distplot(dataset[\"KadarAir\"])"
   ]
  },
  {
   "cell_type": "code",
   "execution_count": 91,
   "metadata": {},
   "outputs": [
    {
     "name": "stdout",
     "output_type": "stream",
     "text": [
      "Kolom KadarAir\n",
      "D’Agostino’s Test : stat=48.756, p=0.000\n",
      "Tidak Berdistribusi Normal\n"
     ]
    }
   ],
   "source": [
    "print(\"Kolom KadarAir\")\n",
    "stat, p = normaltest(dataset[\"KadarAir\"])\n",
    "print(\"D’Agostino’s Test : stat=%.3f, p=%.3f\" % (stat, p))\n",
    "if(p > 0.05):\n",
    "    print(\"Berdistribusi Normal\")\n",
    "else:\n",
    "    print(\"Tidak Berdistribusi Normal\")"
   ]
  },
  {
   "cell_type": "markdown",
   "metadata": {},
   "source": [
    "***\n",
    "```\n",
    "\n",
    "```"
   ]
  },
  {
   "cell_type": "markdown",
   "metadata": {},
   "source": [
    "####  Keliling"
   ]
  },
  {
   "cell_type": "code",
   "execution_count": 92,
   "metadata": {},
   "outputs": [
    {
     "data": {
      "text/plain": [
       "<matplotlib.axes._subplots.AxesSubplot at 0x1d0d0370>"
      ]
     },
     "execution_count": 92,
     "metadata": {},
     "output_type": "execute_result"
    },
    {
     "data": {
      "image/png": "[encoded data removed]",
      "text/plain": [
       "<Figure size 432x288 with 1 Axes>"
      ]
     },
     "metadata": {
      "needs_background": "light"
     },
     "output_type": "display_data"
    }
   ],
   "source": [
    "sns.distplot(dataset[\"Keliling\"])"
   ]
  },
  {
   "cell_type": "code",
   "execution_count": 93,
   "metadata": {},
   "outputs": [
    {
     "name": "stdout",
     "output_type": "stream",
     "text": [
      "Kolom Keliling\n",
      "D’Agostino’s Test : stat=67.465, p=0.000\n",
      "Tidak Berdistribusi Normal\n"
     ]
    }
   ],
   "source": [
    "print(\"Kolom Keliling\")\n",
    "stat, p = normaltest(dataset[\"Keliling\"])\n",
    "print(\"D’Agostino’s Test : stat=%.3f, p=%.3f\" % (stat, p))\n",
    "if(p > 0.05):\n",
    "    print(\"Berdistribusi Normal\")\n",
    "else:\n",
    "    print(\"Tidak Berdistribusi Normal\")"
   ]
  },
  {
   "cell_type": "markdown",
   "metadata": {},
   "source": [
    "***\n",
    "```\n",
    "\n",
    "```"
   ]
  },
  {
   "cell_type": "markdown",
   "metadata": {},
   "source": [
    "#### Bulatan"
   ]
  },
  {
   "cell_type": "code",
   "execution_count": 94,
   "metadata": {},
   "outputs": [
    {
     "data": {
      "text/plain": [
       "<matplotlib.axes._subplots.AxesSubplot at 0x1d155b70>"
      ]
     },
     "execution_count": 94,
     "metadata": {},
     "output_type": "execute_result"
    },
    {
     "data": {
      "image/png": "[encoded data removed]",
      "text/plain": [
       "<Figure size 432x288 with 1 Axes>"
      ]
     },
     "metadata": {
      "needs_background": "light"
     },
     "output_type": "display_data"
    }
   ],
   "source": [
    "sns.distplot(dataset[\"Bulatan\"])"
   ]
  },
  {
   "cell_type": "code",
   "execution_count": 95,
   "metadata": {},
   "outputs": [
    {
     "name": "stdout",
     "output_type": "stream",
     "text": [
      "Kolom Bulatan\n",
      "D’Agostino’s Test : stat=442.119, p=0.000\n",
      "Tidak Berdistribusi Normal\n"
     ]
    }
   ],
   "source": [
    "print(\"Kolom Bulatan\")\n",
    "stat, p = normaltest(dataset[\"Bulatan\"])\n",
    "print(\"D’Agostino’s Test : stat=%.3f, p=%.3f\" % (stat, p))\n",
    "if(p > 0.05):\n",
    "    print(\"Berdistribusi Normal\")\n",
    "else:\n",
    "    print(\"Tidak Berdistribusi Normal\")"
   ]
  },
  {
   "cell_type": "markdown",
   "metadata": {},
   "source": [
    "***\n",
    "```\n",
    "\n",
    "```"
   ]
  },
  {
   "cell_type": "markdown",
   "metadata": {},
   "source": [
    "#### Ransum"
   ]
  },
  {
   "cell_type": "code",
   "execution_count": 97,
   "metadata": {},
   "outputs": [
    {
     "data": {
      "text/plain": [
       "<matplotlib.axes._subplots.AxesSubplot at 0x1d1dba30>"
      ]
     },
     "execution_count": 97,
     "metadata": {},
     "output_type": "execute_result"
    },
    {
     "data": {
      "image/png": "[encoded data removed]",
      "text/plain": [
       "<Figure size 432x288 with 1 Axes>"
      ]
     },
     "metadata": {
      "needs_background": "light"
     },
     "output_type": "display_data"
    }
   ],
   "source": [
    "sns.distplot(dataset[\"Ransum\"])"
   ]
  },
  {
   "cell_type": "code",
   "execution_count": 96,
   "metadata": {
    "scrolled": true
   },
   "outputs": [
    {
     "name": "stdout",
     "output_type": "stream",
     "text": [
      "Kolom Ransum\n",
      "D’Agostino’s Test : stat=37.060, p=0.000\n",
      "Tidak Berdistribusi Normal\n"
     ]
    }
   ],
   "source": [
    "print(\"Kolom Ransum\")\n",
    "stat, p = normaltest(dataset[\"Ransum\"])\n",
    "print(\"D’Agostino’s Test : stat=%.3f, p=%.3f\" % (stat, p))\n",
    "if(p > 0.05):\n",
    "    print(\"Berdistribusi Normal\")\n",
    "else:\n",
    "    print(\"Tidak Berdistribusi Normal\")"
   ]
  },
  {
   "cell_type": "markdown",
   "metadata": {},
   "source": [
    "***\n",
    "```\n",
    "\n",
    "```"
   ]
  },
  {
   "cell_type": "markdown",
   "metadata": {},
   "source": [
    "#### Target"
   ]
  },
  {
   "cell_type": "code",
   "execution_count": 98,
   "metadata": {
    "scrolled": true
   },
   "outputs": [
    {
     "data": {
      "text/plain": [
       "<matplotlib.axes._subplots.AxesSubplot at 0x1d23c410>"
      ]
     },
     "execution_count": 98,
     "metadata": {},
     "output_type": "execute_result"
    },
    {
     "data": {
      "image/png": "[encoded data removed]",
      "text/plain": [
       "<Figure size 432x288 with 1 Axes>"
      ]
     },
     "metadata": {
      "needs_background": "light"
     },
     "output_type": "display_data"
    }
   ],
   "source": [
    "sns.distplot(dataset[\"Target\"])"
   ]
  },
  {
   "cell_type": "code",
   "execution_count": 99,
   "metadata": {},
   "outputs": [
    {
     "name": "stdout",
     "output_type": "stream",
     "text": [
      "Kolom Target\n",
      "D’Agostino’s Test : stat=2069.995, p=0.000\n",
      "Tidak Berdistribusi Normal\n"
     ]
    }
   ],
   "source": [
    "print(\"Kolom Target\")\n",
    "stat, p = normaltest(dataset[\"Target\"])\n",
    "print(\"D’Agostino’s Test : stat=%.3f, p=%.3f\" % (stat, p))\n",
    "if(p > 0.05):\n",
    "    print(\"Berdistribusi Normal\")\n",
    "else:\n",
    "    print(\"Tidak Berdistribusi Normal\")"
   ]
  },
  {
   "cell_type": "markdown",
   "metadata": {},
   "source": [
    "***\n",
    "```\n",
    "\n",
    "\n",
    "\n",
    "\n",
    "\n",
    "\n",
    "```"
   ]
  },
  {
   "cell_type": "markdown",
   "metadata": {},
   "source": [
    "### 4. Melakukan test hipotesis 1 sampel dan menuliskan 6 langkah testing \n",
    "Menampilkan juga boxplotnya untuk kolom / bagian yang bersesuaian.\n",
    "- Nilai rata-rata Daerah di atas 4700?\n",
    "- Nilai Rata-rata Sumbu Utama tidak sama dengan 116?\n",
    "- Nilai Rata-rata 20 baris pertama kolom Sumbu Kecil bukan 50?\n",
    "- Proporsi nilai Diameter yang lebih dari 85, adalah tidak sama dengan 15% ?\n",
    "- Proporsi nilai Keliling yang kurang dari 100, adalah kurang dari 5% ?"
   ]
  },
  {
   "cell_type": "code",
   "execution_count": null,
   "metadata": {},
   "outputs": [],
   "source": []
  },
  {
   "cell_type": "markdown",
   "metadata": {},
   "source": [
    "### 5. Melakukan test hipotesis 2 sampel dan menuliskan 6 langkah testing\n",
    "Menampilkan juga boxplotnya untuk kolom / bagian yang bersesuaian.\n",
    "- Data kolom AreaBulatan dibagi 2 sama rata: bagian awal dan bagian akhir kolom. Benarkah rata-rata kedua bagian tersebut sama?\n",
    "- Data kolom Kadar Air dibagi 2 sama rata: bagian awal dan bagian akhir kolom. Benarkah rata-rata bagian awal lebih besar dari pada bagian akhir sebesar 0.2?\n",
    "- Rata-rata 20 baris pertama kolom Bulatan sama dengan 20 baris terakhirnya?\n",
    "- Proporsi nilai bagian awal Ransum yang lebih dari 2, adalah lebih besar daripada, proporsi nilai yang sama di bagian akhir Ransum?\n",
    "- Bagian awal kolom Diameter memiliki variansi yang sama dengan bagian akhirnya?"
   ]
  },
  {
   "cell_type": "code",
   "execution_count": null,
   "metadata": {},
   "outputs": [],
   "source": []
  },
  {
   "cell_type": "markdown",
   "metadata": {},
   "source": [
    "### 6. Test korelasi\n",
    "Tentukan apakah setiap kolom non-target berkorelasi dengan kolom target, dengan menggambarkan juga scatter plot nya. Gunakan correlation test."
   ]
  },
  {
   "cell_type": "code",
   "execution_count": 1,
   "metadata": {},
   "outputs": [],
   "source": [
    "# Pengimportan library yang digunakan untuk tes korelasi\n",
    "import numpy as np\n",
    "import matplotlib.pyplot as plt"
   ]
  },
  {
   "cell_type": "markdown",
   "metadata": {},
   "source": [
    "Test korelasi akan menghasilkan Pearson Correlation Coefficient $\\rho_{X,Y}$ untuk suatu random variable $X$ dan $Y$ yang memiliki rentang nilai $-1 \\geq \\rho_{X,Y}\\geq 1$.\n",
    "- Bila mendekati $1$, maka variabel $X$ dan $Y$ berkolerasi berbanding lurus.\n",
    "- Bila mendekati $0$, maka variabel $X$ dan $Y$  tidak berkolerasi.\n",
    "- Bila mendekati $-1$, maka variabel $X$ dan $Y$  berkolerasi berbanding terbalik.\n",
    "\n",
    "#### Klasifikasi\n",
    "- **Perfect**\n",
    "  - Koefisien bernilai tepat $\\pm 1$, dapat dikatakan sebagai perfect correlation\n",
    "- **High degree**\n",
    "  - Koefisien bernilai $0.5 \\leq | \\rho_{X,Y} | < 1$, dapat dikatakan sebagai strong correlation.\n",
    "- **Moderate degree**\n",
    "  - Koefisien bernilai $0.3 \\leq | \\rho_{X,Y} | < 0.5$, dapat dikatakan sebagai medium correlation.\n",
    "- **Low degree**\n",
    "  - Koefisien bernilai  $0 < | \\rho_{X,Y} | < 0.3$, dapat dikatakan sebagai small correlation.\n",
    "- **No correlation**\n",
    "  - Koefisien bernilai tepat $0$, dapat dikatakan sebagai no correlation."
   ]
  },
  {
   "cell_type": "code",
   "execution_count": 57,
   "metadata": {},
   "outputs": [
    {
     "name": "stdout",
     "output_type": "stream",
     "text": [
      "Kolom Daerah dengan kolom target\n",
      "-0.6027466517416663\n",
      "\n"
     ]
    },
    {
     "data": {
      "text/plain": [
       "<matplotlib.collections.PathCollection at 0x1c948990>"
      ]
     },
     "execution_count": 57,
     "metadata": {},
     "output_type": "execute_result"
    },
    {
     "data": {
      "image/png": "[encoded data removed]",
      "text/plain": [
       "<Figure size 432x288 with 1 Axes>"
      ]
     },
     "metadata": {
      "needs_background": "light"
     },
     "output_type": "display_data"
    }
   ],
   "source": [
    "print(\"Kolom Daerah dengan kolom target\")\n",
    "rho = np.corrcoef(dataset[\"Daerah\"], dataset[\"Target\"])\n",
    "print(rho[0][1]) # rho[0][1] = rho[1][0]. Dipilih satu untuk ditampilkan\n",
    "print()\n",
    "plt.scatter(dataset[\"Daerah\"], dataset[\"Target\"])"
   ]
  },
  {
   "cell_type": "code",
   "execution_count": 60,
   "metadata": {},
   "outputs": [
    {
     "data": {
      "text/plain": [
       "<matplotlib.axes._subplots.AxesSubplot at 0x1ae53f0>"
      ]
     },
     "execution_count": 60,
     "metadata": {},
     "output_type": "execute_result"
    },
    {
     "data": {
      "image/png": "[encoded data removed]",
      "text/plain": [
       "<Figure size 432x288 with 1 Axes>"
      ]
     },
     "metadata": {
      "needs_background": "light"
     },
     "output_type": "display_data"
    }
   ],
   "source": [
    "# Dari nilai koefisien Pearson dan Scatterplot di atas, maka dapat disimpulkan bahwa kolom Daerah dan Target\n",
    "# berkorelasi berbanding terbalik secara high degree (strong correlation).\n",
    "\n",
    "# Dapat dilihat lebih jelas pada regplot berikut:\n",
    "sns.regplot(dataset[\"Daerah\"], dataset[\"Target\"])"
   ]
  },
  {
   "cell_type": "code",
   "execution_count": 58,
   "metadata": {},
   "outputs": [
    {
     "name": "stdout",
     "output_type": "stream",
     "text": [
      "Kolom SumbuUtama dengan kolom target\n",
      "-0.7130906104204592\n",
      "\n"
     ]
    },
    {
     "data": {
      "text/plain": [
       "<matplotlib.collections.PathCollection at 0x1c977470>"
      ]
     },
     "execution_count": 58,
     "metadata": {},
     "output_type": "execute_result"
    },
    {
     "data": {
      "image/png": "[encoded data removed]",
      "text/plain": [
       "<Figure size 432x288 with 1 Axes>"
      ]
     },
     "metadata": {
      "needs_background": "light"
     },
     "output_type": "display_data"
    }
   ],
   "source": [
    "print(\"Kolom SumbuUtama dengan kolom target\")\n",
    "rho = np.corrcoef(dataset[\"SumbuUtama\"], dataset[\"Target\"])\n",
    "print(rho[0][1]) # rho[0][1] = rho[1][0]. Dipilih satu untuk ditampilkan\n",
    "print()\n",
    "plt.scatter(dataset[\"SumbuUtama\"], dataset[\"Target\"])"
   ]
  },
  {
   "cell_type": "code",
   "execution_count": 61,
   "metadata": {},
   "outputs": [
    {
     "data": {
      "text/plain": [
       "<matplotlib.axes._subplots.AxesSubplot at 0x1ca12430>"
      ]
     },
     "execution_count": 61,
     "metadata": {},
     "output_type": "execute_result"
    },
    {
     "data": {
      "image/png": "[encoded data removed]",
      "text/plain": [
       "<Figure size 432x288 with 1 Axes>"
      ]
     },
     "metadata": {
      "needs_background": "light"
     },
     "output_type": "display_data"
    }
   ],
   "source": [
    "# Dari nilai koefisien Pearson dan Scatterplot di atas, maka dapat disimpulkan bahwa kolom SumbuUtama dan Target \n",
    "# berkorelasi berbanding terbalik secara high degree (strong correlation).\n",
    "\n",
    "# Dapat dilihat lebih jelas pada regplot berikut:\n",
    "sns.regplot(dataset[\"SumbuUtama\"], dataset[\"Target\"])"
   ]
  },
  {
   "cell_type": "code",
   "execution_count": 59,
   "metadata": {},
   "outputs": [
    {
     "name": "stdout",
     "output_type": "stream",
     "text": [
      "Kolom SumbuKecil dengan kolom target\n",
      "-0.15297517335535038\n",
      "\n"
     ]
    },
    {
     "data": {
      "text/plain": [
       "<matplotlib.collections.PathCollection at 0x1c9b4890>"
      ]
     },
     "execution_count": 59,
     "metadata": {},
     "output_type": "execute_result"
    },
    {
     "data": {
      "image/png": "[encoded data removed]",
      "text/plain": [
       "<Figure size 432x288 with 1 Axes>"
      ]
     },
     "metadata": {
      "needs_background": "light"
     },
     "output_type": "display_data"
    }
   ],
   "source": [
    "print(\"Kolom SumbuKecil dengan kolom target\")\n",
    "rho = np.corrcoef(dataset[\"SumbuKecil\"], dataset[\"Target\"])\n",
    "print(rho[0][1]) # rho[0][1] = rho[1][0]. Dipilih satu untuk ditampilkan\n",
    "print()\n",
    "plt.scatter(dataset[\"SumbuKecil\"], dataset[\"Target\"])"
   ]
  },
  {
   "cell_type": "code",
   "execution_count": 62,
   "metadata": {},
   "outputs": [
    {
     "data": {
      "text/plain": [
       "<matplotlib.axes._subplots.AxesSubplot at 0x1ca65af0>"
      ]
     },
     "execution_count": 62,
     "metadata": {},
     "output_type": "execute_result"
    },
    {
     "data": {
      "image/png": "[encoded data removed]",
      "text/plain": [
       "<Figure size 432x288 with 1 Axes>"
      ]
     },
     "metadata": {
      "needs_background": "light"
     },
     "output_type": "display_data"
    }
   ],
   "source": [
    "# Dari nilai koefisien Pearson dan Scatterplot di atas, maka dapat disimpulkan bahwa kolom SumbuKecil dan Target \n",
    "# berkorelasi berbanding terbalik secara low degree (small correlation).\n",
    "\n",
    "# Dapat dilihat lebih jelas pada regplot berikut:\n",
    "sns.regplot(dataset[\"SumbuKecil\"], dataset[\"Target\"])"
   ]
  },
  {
   "cell_type": "code",
   "execution_count": 63,
   "metadata": {},
   "outputs": [
    {
     "name": "stdout",
     "output_type": "stream",
     "text": [
      "Kolom Keunikan dengan kolom target\n",
      "-0.7304563686511925\n",
      "\n"
     ]
    },
    {
     "data": {
      "text/plain": [
       "<matplotlib.collections.PathCollection at 0x1c9f4ed0>"
      ]
     },
     "execution_count": 63,
     "metadata": {},
     "output_type": "execute_result"
    },
    {
     "data": {
      "image/png": "[encoded data removed]",
      "text/plain": [
       "<Figure size 432x288 with 1 Axes>"
      ]
     },
     "metadata": {
      "needs_background": "light"
     },
     "output_type": "display_data"
    }
   ],
   "source": [
    "print(\"Kolom Keunikan dengan kolom target\")\n",
    "rho = np.corrcoef(dataset[\"Keunikan\"], dataset[\"Target\"])\n",
    "print(rho[0][1]) # rho[0][1] = rho[1][0]. Dipilih satu untuk ditampilkan\n",
    "print()\n",
    "plt.scatter(dataset[\"Keunikan\"], dataset[\"Target\"])"
   ]
  },
  {
   "cell_type": "code",
   "execution_count": 64,
   "metadata": {},
   "outputs": [
    {
     "data": {
      "text/plain": [
       "<matplotlib.axes._subplots.AxesSubplot at 0x1cadbc70>"
      ]
     },
     "execution_count": 64,
     "metadata": {},
     "output_type": "execute_result"
    },
    {
     "data": {
      "image/png": "[encoded data removed]",
      "text/plain": [
       "<Figure size 432x288 with 1 Axes>"
      ]
     },
     "metadata": {
      "needs_background": "light"
     },
     "output_type": "display_data"
    }
   ],
   "source": [
    "# Dari nilai koefisien Pearson dan Scatterplot di atas, maka dapat disimpulkan bahwa kolom Keunikan dan Target \n",
    "# berkorelasi berbanding terbalik secara high degree (strong correlation).\n",
    "\n",
    "# Dapat dilihat lebih jelas pada regplot berikut:\n",
    "sns.regplot(dataset[\"Keunikan\"], dataset[\"Target\"])"
   ]
  },
  {
   "cell_type": "code",
   "execution_count": 65,
   "metadata": {},
   "outputs": [
    {
     "name": "stdout",
     "output_type": "stream",
     "text": [
      "Kolom AreaBulatan dengan kolom target\n",
      "-0.6073125434153752\n",
      "\n"
     ]
    },
    {
     "data": {
      "text/plain": [
       "<matplotlib.collections.PathCollection at 0x1cb423d0>"
      ]
     },
     "execution_count": 65,
     "metadata": {},
     "output_type": "execute_result"
    },
    {
     "data": {
      "image/png": "[encoded data removed]",
      "text/plain": [
       "<Figure size 432x288 with 1 Axes>"
      ]
     },
     "metadata": {
      "needs_background": "light"
     },
     "output_type": "display_data"
    }
   ],
   "source": [
    "print(\"Kolom AreaBulatan dengan kolom target\")\n",
    "rho = np.corrcoef(dataset[\"AreaBulatan\"], dataset[\"Target\"])\n",
    "print(rho[0][1]) # rho[0][1] = rho[1][0]. Dipilih satu untuk ditampilkan\n",
    "print()\n",
    "plt.scatter(dataset[\"AreaBulatan\"], dataset[\"Target\"])"
   ]
  },
  {
   "cell_type": "code",
   "execution_count": 71,
   "metadata": {},
   "outputs": [
    {
     "data": {
      "text/plain": [
       "<matplotlib.axes._subplots.AxesSubplot at 0x1cc948d0>"
      ]
     },
     "execution_count": 71,
     "metadata": {},
     "output_type": "execute_result"
    },
    {
     "data": {
      "image/png": "[encoded data removed]",
      "text/plain": [
       "<Figure size 432x288 with 1 Axes>"
      ]
     },
     "metadata": {
      "needs_background": "light"
     },
     "output_type": "display_data"
    }
   ],
   "source": [
    "# Dari nilai koefisien Pearson dan Scatterplot di atas, maka dapat disimpulkan bahwa kolom AreaBulatan dan Target \n",
    "# berkorelasi berbanding terbalik secara high degree (strong correlation).\n",
    "\n",
    "# Dapat dilihat lebih jelas pada regplot berikut:\n",
    "sns.regplot(dataset[\"AreaBulatan\"], dataset[\"Target\"])"
   ]
  },
  {
   "cell_type": "code",
   "execution_count": 66,
   "metadata": {},
   "outputs": [
    {
     "name": "stdout",
     "output_type": "stream",
     "text": [
      "Kolom Diameter dengan kolom target\n",
      "-0.6025356896618812\n",
      "\n"
     ]
    },
    {
     "data": {
      "text/plain": [
       "<matplotlib.collections.PathCollection at 0x1cb74e90>"
      ]
     },
     "execution_count": 66,
     "metadata": {},
     "output_type": "execute_result"
    },
    {
     "data": {
      "image/png": "[encoded data removed]",
      "text/plain": [
       "<Figure size 432x288 with 1 Axes>"
      ]
     },
     "metadata": {
      "needs_background": "light"
     },
     "output_type": "display_data"
    }
   ],
   "source": [
    "print(\"Kolom Diameter dengan kolom target\")\n",
    "rho = np.corrcoef(dataset[\"Diameter\"], dataset[\"Target\"])\n",
    "print(rho[0][1]) # rho[0][1] = rho[1][0]. Dipilih satu untuk ditampilkan\n",
    "print()\n",
    "plt.scatter(dataset[\"Diameter\"], dataset[\"Target\"])"
   ]
  },
  {
   "cell_type": "code",
   "execution_count": 72,
   "metadata": {},
   "outputs": [
    {
     "data": {
      "text/plain": [
       "<matplotlib.axes._subplots.AxesSubplot at 0x1ccddef0>"
      ]
     },
     "execution_count": 72,
     "metadata": {},
     "output_type": "execute_result"
    },
    {
     "data": {
      "image/png": "[encoded data removed]",
      "text/plain": [
       "<Figure size 432x288 with 1 Axes>"
      ]
     },
     "metadata": {
      "needs_background": "light"
     },
     "output_type": "display_data"
    }
   ],
   "source": [
    "# Dari nilai koefisien Pearson dan Scatterplot di atas, maka dapat disimpulkan bahwa kolom Diameter dan Target \n",
    "# berkorelasi berbanding terbalik secara high degree (strong correlation).\n",
    "\n",
    "# Dapat dilihat lebih jelas pada regplot berikut:\n",
    "sns.regplot(dataset[\"Diameter\"], dataset[\"Target\"])"
   ]
  },
  {
   "cell_type": "code",
   "execution_count": 70,
   "metadata": {},
   "outputs": [
    {
     "name": "stdout",
     "output_type": "stream",
     "text": [
      "Kolom KadarAir dengan kolom target\n",
      "0.1343442260572765\n",
      "\n"
     ]
    },
    {
     "data": {
      "text/plain": [
       "<matplotlib.collections.PathCollection at 0x1cc758f0>"
      ]
     },
     "execution_count": 70,
     "metadata": {},
     "output_type": "execute_result"
    },
    {
     "data": {
      "image/png": "[encoded data removed]",
      "text/plain": [
       "<Figure size 432x288 with 1 Axes>"
      ]
     },
     "metadata": {
      "needs_background": "light"
     },
     "output_type": "display_data"
    }
   ],
   "source": [
    "print(\"Kolom KadarAir dengan kolom target\")\n",
    "rho = np.corrcoef(dataset[\"KadarAir\"], dataset[\"Target\"])\n",
    "print(rho[0][1]) # rho[0][1] = rho[1][0]. Dipilih satu untuk ditampilkan\n",
    "print()\n",
    "plt.scatter(dataset[\"KadarAir\"], dataset[\"Target\"])"
   ]
  },
  {
   "cell_type": "code",
   "execution_count": 73,
   "metadata": {},
   "outputs": [
    {
     "data": {
      "text/plain": [
       "<matplotlib.axes._subplots.AxesSubplot at 0x1cd26d90>"
      ]
     },
     "execution_count": 73,
     "metadata": {},
     "output_type": "execute_result"
    },
    {
     "data": {
      "image/png": "[encoded data removed]",
      "text/plain": [
       "<Figure size 432x288 with 1 Axes>"
      ]
     },
     "metadata": {
      "needs_background": "light"
     },
     "output_type": "display_data"
    }
   ],
   "source": [
    "# Dari nilai koefisien Pearson dan Scatterplot di atas, maka dapat disimpulkan bahwa kolom KadarAir dan Target \n",
    "# berkorelasi berbanding lurus secara low degree (small correlation).\n",
    "\n",
    "# Dapat dilihat lebih jelas pada regplot berikut:\n",
    "sns.regplot(dataset[\"KadarAir\"], dataset[\"Target\"])"
   ]
  },
  {
   "cell_type": "code",
   "execution_count": 69,
   "metadata": {},
   "outputs": [
    {
     "name": "stdout",
     "output_type": "stream",
     "text": [
      "Kolom Keliling dengan kolom target\n",
      "-0.6348607454756857\n",
      "\n"
     ]
    },
    {
     "data": {
      "text/plain": [
       "<matplotlib.collections.PathCollection at 0x1cc377f0>"
      ]
     },
     "execution_count": 69,
     "metadata": {},
     "output_type": "execute_result"
    },
    {
     "data": {
      "image/png": "[encoded data removed]",
      "text/plain": [
       "<Figure size 432x288 with 1 Axes>"
      ]
     },
     "metadata": {
      "needs_background": "light"
     },
     "output_type": "display_data"
    }
   ],
   "source": [
    "print(\"Kolom Keliling dengan kolom target\")\n",
    "rho = np.corrcoef(dataset[\"Keliling\"], dataset[\"Target\"])\n",
    "print(rho[0][1]) # rho[0][1] = rho[1][0]. Dipilih satu untuk ditampilkan\n",
    "print()\n",
    "plt.scatter(dataset[\"Keliling\"], dataset[\"Target\"])"
   ]
  },
  {
   "cell_type": "code",
   "execution_count": 74,
   "metadata": {},
   "outputs": [
    {
     "data": {
      "text/plain": [
       "<matplotlib.axes._subplots.AxesSubplot at 0x1cd63190>"
      ]
     },
     "execution_count": 74,
     "metadata": {},
     "output_type": "execute_result"
    },
    {
     "data": {
      "image/png": "[encoded data removed]",
      "text/plain": [
       "<Figure size 432x288 with 1 Axes>"
      ]
     },
     "metadata": {
      "needs_background": "light"
     },
     "output_type": "display_data"
    }
   ],
   "source": [
    "# Dari nilai koefisien Pearson dan Scatterplot di atas, maka dapat disimpulkan bahwa kolom Keliling dan Target \n",
    "# berkorelasi berbanding terbalik secara high degree (strong correlation).\n",
    "\n",
    "# Dapat dilihat lebih jelas pada regplot berikut:\n",
    "sns.regplot(dataset[\"Keliling\"], dataset[\"Target\"])"
   ]
  },
  {
   "cell_type": "code",
   "execution_count": 68,
   "metadata": {},
   "outputs": [
    {
     "name": "stdout",
     "output_type": "stream",
     "text": [
      "Kolom Bulatan dengan kolom target\n",
      "0.5450045317240076\n",
      "\n"
     ]
    },
    {
     "data": {
      "text/plain": [
       "<matplotlib.collections.PathCollection at 0x1cbfa430>"
      ]
     },
     "execution_count": 68,
     "metadata": {},
     "output_type": "execute_result"
    },
    {
     "data": {
      "image/png": "[encoded data removed]",
      "text/plain": [
       "<Figure size 432x288 with 1 Axes>"
      ]
     },
     "metadata": {
      "needs_background": "light"
     },
     "output_type": "display_data"
    }
   ],
   "source": [
    "print(\"Kolom Bulatan dengan kolom target\")\n",
    "rho = np.corrcoef(dataset[\"Bulatan\"], dataset[\"Target\"])\n",
    "print(rho[0][1]) # rho[0][1] = rho[1][0]. Dipilih satu untuk ditampilkan\n",
    "print()\n",
    "plt.scatter(dataset[\"Bulatan\"], dataset[\"Target\"])"
   ]
  },
  {
   "cell_type": "code",
   "execution_count": 75,
   "metadata": {},
   "outputs": [
    {
     "data": {
      "text/plain": [
       "<matplotlib.axes._subplots.AxesSubplot at 0x1cda1050>"
      ]
     },
     "execution_count": 75,
     "metadata": {},
     "output_type": "execute_result"
    },
    {
     "data": {
      "image/png": "[encoded data removed]",
      "text/plain": [
       "<Figure size 432x288 with 1 Axes>"
      ]
     },
     "metadata": {
      "needs_background": "light"
     },
     "output_type": "display_data"
    }
   ],
   "source": [
    "# Dari nilai koefisien Pearson dan Scatterplot di atas, maka dapat disimpulkan bahwa kolom Bulatan dan Target \n",
    "# berkorelasi berbanding lurus secara high degree (strong correlation).\n",
    "\n",
    "# Dapat dilihat lebih jelas pada regplot berikut:\n",
    "sns.regplot(dataset[\"Bulatan\"], dataset[\"Target\"])"
   ]
  },
  {
   "cell_type": "code",
   "execution_count": 67,
   "metadata": {},
   "outputs": [
    {
     "name": "stdout",
     "output_type": "stream",
     "text": [
      "Kolom Ransum dengan kolom target\n",
      "-0.8399038681287492\n",
      "\n"
     ]
    },
    {
     "data": {
      "text/plain": [
       "<matplotlib.collections.PathCollection at 0x1cbbc5f0>"
      ]
     },
     "execution_count": 67,
     "metadata": {},
     "output_type": "execute_result"
    },
    {
     "data": {
      "image/png": "[encoded data removed]",
      "text/plain": [
       "<Figure size 432x288 with 1 Axes>"
      ]
     },
     "metadata": {
      "needs_background": "light"
     },
     "output_type": "display_data"
    }
   ],
   "source": [
    "print(\"Kolom Ransum dengan kolom target\")\n",
    "rho = np.corrcoef(dataset[\"Ransum\"], dataset[\"Target\"])\n",
    "print(rho[0][1]) # rho[0][1] = rho[1][0]. Dipilih satu untuk ditampilkan\n",
    "print()\n",
    "plt.scatter(dataset[\"Ransum\"], dataset[\"Target\"])"
   ]
  },
  {
   "cell_type": "code",
   "execution_count": 76,
   "metadata": {},
   "outputs": [
    {
     "data": {
      "text/plain": [
       "<matplotlib.axes._subplots.AxesSubplot at 0x1cdc5cf0>"
      ]
     },
     "execution_count": 76,
     "metadata": {},
     "output_type": "execute_result"
    },
    {
     "data": {
      "image/png": "[encoded data removed]",
      "text/plain": [
       "<Figure size 432x288 with 1 Axes>"
      ]
     },
     "metadata": {
      "needs_background": "light"
     },
     "output_type": "display_data"
    }
   ],
   "source": [
    "# Dari nilai koefisien Pearson dan Scatterplot di atas, maka dapat disimpulkan bahwa kolom Ransum dan Target \n",
    "# berkorelasi berbanding terbalik secara high degree (strong correlation).\n",
    "\n",
    "# Dapat dilihat lebih jelas pada regplot berikut:\n",
    "sns.regplot(dataset[\"Ransum\"], dataset[\"Target\"])"
   ]
  },
  {
   "cell_type": "code",
   "execution_count": null,
   "metadata": {},
   "outputs": [],
   "source": []
  }
 ],
 "metadata": {
  "kernelspec": {
   "display_name": "Python 3",
   "language": "python",
   "name": "python3"
  },
  "language_info": {
   "codemirror_mode": {
    "name": "ipython",
    "version": 3
   },
   "file_extension": ".py",
   "mimetype": "text/x-python",
   "name": "python",
   "nbconvert_exporter": "python",
   "pygments_lexer": "ipython3",
   "version": "3.7.2"
  }
 },
 "nbformat": 4,
 "nbformat_minor": 2
}
