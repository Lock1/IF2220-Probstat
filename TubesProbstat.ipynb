{
 "cells": [
  {
   "cell_type": "markdown",
   "metadata": {},
   "source": [
    "# Tugas Besar - IF2220 - Probabilitas dan Statistika\n",
    "**Penarikan kesimpulan dan pengujian hipotesis**\n",
    "\n",
    "Enam Langkah Testing:\n",
    "1. Tentukan Hipotesis nol $(H_0: θ = θ_0)$, dimana $θ$ bisa berupa $μ$, $σ^2$, $p$, atau data lain berdistribusi tertentu (normal, binomial, dsc.).\n",
    "\n",
    "2. Pilih hipotesis alternatif $H_1$ salah dari dari $θ > θ_0$, $θ < θ_0$, atau $θ ≠ θ_0$\n",
    "3. Tentukan tingkat signifikan $α$.\n",
    "4. Tentukan uji statistik yang sesuai dan tentukan daerah kritis.\n",
    "5. Hitung nilai uji statistik dari data sample. Hitung $p$-value sesuai dengan uji statistik yang digunakan.\n",
    "6. Ambil keputusan dengan **TOLAK** $H_0$ jika nilai uji terletak di daerah kritis atau dengan tes signifikan, **TOLAK** $H_0$ jika $p$-value lebih kecil dibanding tingkat signifikansi $α$ yang diinginkan.\n",
    "\n"
   ]
  },
  {
   "cell_type": "markdown",
   "metadata": {},
   "source": [
    "***\n",
    "```\n",
    "\n",
    "```"
   ]
  },
  {
   "cell_type": "markdown",
   "metadata": {},
   "source": [
    "## Table of contents\n",
    "1. Judul\n",
    "2. Table of contents\n",
    "3. Soal<br>\n",
    "    3.1 [Menulis deskripsi statistika](#3.1.-Menulis-deskripsi-statistika-(Descriptive-Statistics))<br>\n",
    "    3.2 [Membuat visualisasi plot distribusi](#3.2.-Membuat-visualisasi-plot-distribusi)<br>\n",
    "    3.3 [Menentukan setiap kolom numerik berdistribusi normal atau tidak](#3.3.-Menentukan-setiap-kolom-numerik-berdistribusi-normal-atau-tidak)<br>\n",
    "    3.4 [Melakukan test hipotesis 1 sampel dan menuliskan 6 langkah testing](#3.4.-Melakukan-test-hipotesis-1-sampel-dan-menuliskan-6-langkah-testing)<br>\n",
    "    3.5 [Melakukan test hipotesis 2 sampel dan menuliskan 6 langkah testing](#3.5.-Melakukan-test-hipotesis-2-sampel-dan-menuliskan-6-langkah-testing)<br>\n",
    "    3.6 [Test korelasi](#3.6.-Test-korelasi)<br>\n",
    "4. Jawaban<br>\n",
    "    4.1 [Menulis deskripsi statistika](#4.1.-Menulis-deskripsi-statistika-(Descriptive-Statistics))<br>\n",
    "    4.2 [Membuat visualisasi plot distribusi](#4.2.-Membuat-visualisasi-plot-distribusi)<br>\n",
    "    4.3 [Menentukan setiap kolom numerik berdistribusi normal atau tidak](#4.3.-Menentukan-setiap-kolom-numerik-berdistribusi-normal-atau-tidak)<br>\n",
    "    4.4 [Melakukan test hipotesis 1 sampel dan menuliskan 6 langkah testing](#4.4.-Melakukan-test-hipotesis-1-sampel-dan-menuliskan-6-langkah-testing)<br>\n",
    "    4.5 [Melakukan test hipotesis 2 sampel dan menuliskan 6 langkah testing](#4.5.-Melakukan-test-hipotesis-2-sampel-dan-menuliskan-6-langkah-testing)<br>\n",
    "    4.6 [Test korelasi](#4.6.-Test-korelasi)<br>\n",
    "5. Referensi"
   ]
  },
  {
   "cell_type": "markdown",
   "metadata": {},
   "source": [
    "***\n",
    "```\n",
    "\n",
    "```"
   ]
  },
  {
   "cell_type": "markdown",
   "metadata": {},
   "source": [
    "## Soal\n",
    "Diberikan sebuah data Gandum.csv yang dapat diakses pada utas berikut : [Dataset Tugas Besar IF2220](https://github.com/Lock1/Probstat-IF2220/blob/main/dataset/Gandum.csv). \n",
    "\n",
    "Gandum.csv merupakan data klasifikasi biji gandum yang mengandung 12 kolom sebagai berikut:\n",
    "1. ID\n",
    "2. Daerah\n",
    "3. SumbuUtama\n",
    "4. SumbuKecil\n",
    "5. Keunikan\n",
    "6. AreaBulatan\n",
    "7. Diameter\n",
    "8. KadarAir\n",
    "9. Keliling\n",
    "10. Bulatan\n",
    "11. Ransum\n",
    "12. Kelas\n",
    "\n",
    "Kolom 2-11 adalah kolom atribut (non-target), sedangkan kolom 12 adalah kolom target.\n",
    "\n",
    "Anda diminta untuk melakukan analisis statistika sebagai berikut :\n",
    "\n",
    "### 3.1. Menulis deskripsi statistika (Descriptive Statistics)\n",
    "Tuliskan descriptive statistics dari semua kolom pada data yang bersifat numerik, terdiri dari mean, median, modus, standar deviasi, variansi, range, nilai minimum, maksimum, kuartil, IQR, skewness dan kurtosis. Boleh juga ditambahkan deskripsi lain.\n",
    "\n",
    "### 3.2. Membuat visualisasi plot distribusi\n",
    "Buatlah visualisasi dalam bentuk histogram dan boxplot untuk setiap\n",
    "kolom numerik. Berikan uraian penjelasan kondisi setiap kolom berdasarkan kedua plot\n",
    "tersebut.\n",
    "\n",
    "### 3.3. Menentukan setiap kolom numerik berdistribusi normal atau tidak \n",
    "Gunakan normality test yang dikaitkan dengan histogram plot.\n",
    "\n",
    "### 3.4. Melakukan test hipotesis 1 sampel dan menuliskan 6 langkah testing \n",
    "Menampilkan juga boxplotnya untuk kolom / bagian yang bersesuaian.\n",
    "1. Nilai rata-rata Daerah di atas 4700?\n",
    "2. Nilai rata-rata Sumbu Utama tidak sama dengan 116?\n",
    "3. Nilai rata-rata 20 baris pertama kolom Sumbu Kecil bukan 50?\n",
    "4. Proporsi nilai Diameter yang lebih dari 85, adalah tidak sama dengan 15% ?\n",
    "5. Proporsi nilai Keliling yang kurang dari 100, adalah kurang dari 5% ?\n",
    "\n",
    "### 3.5. Melakukan test hipotesis 2 sampel dan menuliskan 6 langkah testing\n",
    "Menampilkan juga boxplotnya untuk kolom / bagian yang bersesuaian.\n",
    "1. Data kolom AreaBulatan dibagi 2 sama rata: bagian awal dan bagian akhir kolom. Benarkah rata-rata kedua bagian tersebut sama?\n",
    "2. Data kolom Kadar Air dibagi 2 sama rata: bagian awal dan bagian akhir kolom. Benarkah rata-rata bagian awal lebih besar dari pada bagian akhir sebesar 0.2?\n",
    "3. Rata-rata 20 baris pertama kolom Bulatan sama dengan 20 baris terakhirnya?\n",
    "4. Proporsi nilai bagian awal Ransum yang lebih dari 2, adalah lebih besar daripada, proporsi nilai yang sama di bagian akhir Ransum?\n",
    "5. Bagian awal kolom Diameter memiliki variansi yang sama dengan bagian akhirnya?\n",
    "\n",
    "### 3.6. Test korelasi\n",
    "Tentukan apakah setiap kolom non-target berkorelasi dengan kolom target, dengan menggambarkan juga scatter plot nya. Gunakan correlation test."
   ]
  },
  {
   "cell_type": "markdown",
   "metadata": {},
   "source": [
    "***\n",
    "```\n",
    "\n",
    "\n",
    "\n",
    "\n",
    "\n",
    "```"
   ]
  },
  {
   "cell_type": "markdown",
   "metadata": {},
   "source": [
    "## Jawaban\n",
    "\n",
    "\n",
    "### 4.1. Menulis deskripsi statistika (Descriptive Statistics)\n",
    "Tuliskan descriptive statistics dari semua kolom pada data yang bersifat numerik, terdiri dari mean, median, modus, standar deviasi, variansi, range, nilai minimum, maksimum, kuartil, IQR, skewness dan kurtosis. Boleh juga ditambahkan deskripsi lain."
   ]
  },
  {
   "cell_type": "markdown",
   "metadata": {},
   "source": [
    "***"
   ]
  },
  {
   "cell_type": "code",
   "execution_count": 1,
   "metadata": {},
   "outputs": [
    {
     "data": {
      "text/markdown": [
       "#### Mean, Standar deviasi, Minimum, Maximum, dan Kuartil"
      ],
      "text/plain": [
       "<IPython.core.display.Markdown object>"
      ]
     },
     "metadata": {},
     "output_type": "display_data"
    },
    {
     "data": {
      "text/html": [
       "<div>\n",
       "<style scoped>\n",
       "    .dataframe tbody tr th:only-of-type {\n",
       "        vertical-align: middle;\n",
       "    }\n",
       "\n",
       "    .dataframe tbody tr th {\n",
       "        vertical-align: top;\n",
       "    }\n",
       "\n",
       "    .dataframe thead th {\n",
       "        text-align: right;\n",
       "    }\n",
       "</style>\n",
       "<table border=\"1\" class=\"dataframe\">\n",
       "  <thead>\n",
       "    <tr style=\"text-align: right;\">\n",
       "      <th></th>\n",
       "      <th>ID</th>\n",
       "      <th>Daerah</th>\n",
       "      <th>SumbuUtama</th>\n",
       "      <th>SumbuKecil</th>\n",
       "      <th>Keunikan</th>\n",
       "      <th>AreaBulatan</th>\n",
       "      <th>Diameter</th>\n",
       "      <th>KadarAir</th>\n",
       "      <th>Keliling</th>\n",
       "      <th>Bulatan</th>\n",
       "      <th>Ransum</th>\n",
       "      <th>Target</th>\n",
       "    </tr>\n",
       "  </thead>\n",
       "  <tbody>\n",
       "    <tr>\n",
       "      <th>count</th>\n",
       "      <td>500.000000</td>\n",
       "      <td>500.000000</td>\n",
       "      <td>500.000000</td>\n",
       "      <td>500.000000</td>\n",
       "      <td>500.000000</td>\n",
       "      <td>500.000000</td>\n",
       "      <td>500.000000</td>\n",
       "      <td>500.000000</td>\n",
       "      <td>500.000000</td>\n",
       "      <td>500.000000</td>\n",
       "      <td>500.000000</td>\n",
       "      <td>500.000000</td>\n",
       "    </tr>\n",
       "    <tr>\n",
       "      <th>mean</th>\n",
       "      <td>250.500000</td>\n",
       "      <td>4801.246000</td>\n",
       "      <td>116.045171</td>\n",
       "      <td>53.715246</td>\n",
       "      <td>0.878764</td>\n",
       "      <td>4937.048000</td>\n",
       "      <td>77.771158</td>\n",
       "      <td>0.648372</td>\n",
       "      <td>281.479722</td>\n",
       "      <td>0.761737</td>\n",
       "      <td>2.150915</td>\n",
       "      <td>1.502000</td>\n",
       "    </tr>\n",
       "    <tr>\n",
       "      <th>std</th>\n",
       "      <td>144.481833</td>\n",
       "      <td>986.395491</td>\n",
       "      <td>18.282626</td>\n",
       "      <td>4.071075</td>\n",
       "      <td>0.036586</td>\n",
       "      <td>1011.696255</td>\n",
       "      <td>8.056867</td>\n",
       "      <td>0.094367</td>\n",
       "      <td>37.335402</td>\n",
       "      <td>0.061702</td>\n",
       "      <td>0.249767</td>\n",
       "      <td>0.500497</td>\n",
       "    </tr>\n",
       "    <tr>\n",
       "      <th>min</th>\n",
       "      <td>1.000000</td>\n",
       "      <td>2522.000000</td>\n",
       "      <td>74.133114</td>\n",
       "      <td>39.906517</td>\n",
       "      <td>0.719916</td>\n",
       "      <td>2579.000000</td>\n",
       "      <td>56.666658</td>\n",
       "      <td>0.409927</td>\n",
       "      <td>197.015000</td>\n",
       "      <td>0.174590</td>\n",
       "      <td>1.440796</td>\n",
       "      <td>1.000000</td>\n",
       "    </tr>\n",
       "    <tr>\n",
       "      <th>25%</th>\n",
       "      <td>125.750000</td>\n",
       "      <td>4042.750000</td>\n",
       "      <td>104.116098</td>\n",
       "      <td>51.193576</td>\n",
       "      <td>0.863676</td>\n",
       "      <td>4170.250000</td>\n",
       "      <td>71.745308</td>\n",
       "      <td>0.572632</td>\n",
       "      <td>255.883000</td>\n",
       "      <td>0.731991</td>\n",
       "      <td>1.983939</td>\n",
       "      <td>1.000000</td>\n",
       "    </tr>\n",
       "    <tr>\n",
       "      <th>50%</th>\n",
       "      <td>250.500000</td>\n",
       "      <td>4735.000000</td>\n",
       "      <td>115.405140</td>\n",
       "      <td>53.731199</td>\n",
       "      <td>0.890045</td>\n",
       "      <td>4857.000000</td>\n",
       "      <td>77.645277</td>\n",
       "      <td>0.626117</td>\n",
       "      <td>280.045500</td>\n",
       "      <td>0.761288</td>\n",
       "      <td>2.193599</td>\n",
       "      <td>2.000000</td>\n",
       "    </tr>\n",
       "    <tr>\n",
       "      <th>75%</th>\n",
       "      <td>375.250000</td>\n",
       "      <td>5495.500000</td>\n",
       "      <td>129.046792</td>\n",
       "      <td>56.325158</td>\n",
       "      <td>0.907578</td>\n",
       "      <td>5654.250000</td>\n",
       "      <td>83.648598</td>\n",
       "      <td>0.726633</td>\n",
       "      <td>306.062500</td>\n",
       "      <td>0.796361</td>\n",
       "      <td>2.381612</td>\n",
       "      <td>2.000000</td>\n",
       "    </tr>\n",
       "    <tr>\n",
       "      <th>max</th>\n",
       "      <td>500.000000</td>\n",
       "      <td>7453.000000</td>\n",
       "      <td>227.928583</td>\n",
       "      <td>68.977700</td>\n",
       "      <td>0.914001</td>\n",
       "      <td>7720.000000</td>\n",
       "      <td>97.413830</td>\n",
       "      <td>0.878899</td>\n",
       "      <td>488.837000</td>\n",
       "      <td>0.904748</td>\n",
       "      <td>2.464809</td>\n",
       "      <td>2.000000</td>\n",
       "    </tr>\n",
       "  </tbody>\n",
       "</table>\n",
       "</div>"
      ],
      "text/plain": [
       "               ID       Daerah  SumbuUtama  SumbuKecil    Keunikan  \\\n",
       "count  500.000000   500.000000  500.000000  500.000000  500.000000   \n",
       "mean   250.500000  4801.246000  116.045171   53.715246    0.878764   \n",
       "std    144.481833   986.395491   18.282626    4.071075    0.036586   \n",
       "min      1.000000  2522.000000   74.133114   39.906517    0.719916   \n",
       "25%    125.750000  4042.750000  104.116098   51.193576    0.863676   \n",
       "50%    250.500000  4735.000000  115.405140   53.731199    0.890045   \n",
       "75%    375.250000  5495.500000  129.046792   56.325158    0.907578   \n",
       "max    500.000000  7453.000000  227.928583   68.977700    0.914001   \n",
       "\n",
       "       AreaBulatan    Diameter    KadarAir    Keliling     Bulatan  \\\n",
       "count   500.000000  500.000000  500.000000  500.000000  500.000000   \n",
       "mean   4937.048000   77.771158    0.648372  281.479722    0.761737   \n",
       "std    1011.696255    8.056867    0.094367   37.335402    0.061702   \n",
       "min    2579.000000   56.666658    0.409927  197.015000    0.174590   \n",
       "25%    4170.250000   71.745308    0.572632  255.883000    0.731991   \n",
       "50%    4857.000000   77.645277    0.626117  280.045500    0.761288   \n",
       "75%    5654.250000   83.648598    0.726633  306.062500    0.796361   \n",
       "max    7720.000000   97.413830    0.878899  488.837000    0.904748   \n",
       "\n",
       "           Ransum      Target  \n",
       "count  500.000000  500.000000  \n",
       "mean     2.150915    1.502000  \n",
       "std      0.249767    0.500497  \n",
       "min      1.440796    1.000000  \n",
       "25%      1.983939    1.000000  \n",
       "50%      2.193599    2.000000  \n",
       "75%      2.381612    2.000000  \n",
       "max      2.464809    2.000000  "
      ]
     },
     "execution_count": 1,
     "metadata": {},
     "output_type": "execute_result"
    }
   ],
   "source": [
    "# Load dataset\n",
    "# import import_ipynb\n",
    "from IPython.display import Markdown, display\n",
    "from pandas import *\n",
    "from matplotlib import *\n",
    "import seaborn as sns\n",
    "dataset = read_csv(\"dataset/Gandum.csv\")\n",
    "\n",
    "def printMarkdown(rawString):\n",
    "    display(Markdown(rawString))\n",
    "\n",
    "# Print mean, std, min, max, quartile\n",
    "printMarkdown(\"#### Mean, Standar deviasi, Minimum, Maximum, dan Kuartil\")\n",
    "dataset.describe()"
   ]
  },
  {
   "cell_type": "code",
   "execution_count": 2,
   "metadata": {},
   "outputs": [
    {
     "data": {
      "text/markdown": [
       "#### Range, Varians, Median, Modus, IQR, Skewness, dan Kurtosis"
      ],
      "text/plain": [
       "<IPython.core.display.Markdown object>"
      ]
     },
     "metadata": {},
     "output_type": "display_data"
    },
    {
     "data": {
      "text/html": [
       "<div>\n",
       "<style scoped>\n",
       "    .dataframe tbody tr th:only-of-type {\n",
       "        vertical-align: middle;\n",
       "    }\n",
       "\n",
       "    .dataframe tbody tr th {\n",
       "        vertical-align: top;\n",
       "    }\n",
       "\n",
       "    .dataframe thead th {\n",
       "        text-align: right;\n",
       "    }\n",
       "</style>\n",
       "<table border=\"1\" class=\"dataframe\">\n",
       "  <thead>\n",
       "    <tr style=\"text-align: right;\">\n",
       "      <th></th>\n",
       "      <th>Kolom</th>\n",
       "      <th>Range</th>\n",
       "      <th>Varians</th>\n",
       "      <th>Median</th>\n",
       "      <th>Modus</th>\n",
       "      <th>IQR</th>\n",
       "      <th>Skewness</th>\n",
       "      <th>Kurtosis</th>\n",
       "    </tr>\n",
       "  </thead>\n",
       "  <tbody>\n",
       "    <tr>\n",
       "      <th>1</th>\n",
       "      <td>ID</td>\n",
       "      <td>499.000000</td>\n",
       "      <td>2.087500e+04</td>\n",
       "      <td>250.500000</td>\n",
       "      <td>1.000000</td>\n",
       "      <td>249.500000</td>\n",
       "      <td>0.000000</td>\n",
       "      <td>-1.200000</td>\n",
       "    </tr>\n",
       "    <tr>\n",
       "      <th>2</th>\n",
       "      <td>Daerah</td>\n",
       "      <td>4931.000000</td>\n",
       "      <td>9.729761e+05</td>\n",
       "      <td>4735.000000</td>\n",
       "      <td>3992.000000</td>\n",
       "      <td>1452.750000</td>\n",
       "      <td>0.238144</td>\n",
       "      <td>-0.434631</td>\n",
       "    </tr>\n",
       "    <tr>\n",
       "      <th>3</th>\n",
       "      <td>SumbuUtama</td>\n",
       "      <td>153.795469</td>\n",
       "      <td>3.342544e+02</td>\n",
       "      <td>115.405140</td>\n",
       "      <td>74.133114</td>\n",
       "      <td>24.930694</td>\n",
       "      <td>0.761529</td>\n",
       "      <td>4.330534</td>\n",
       "    </tr>\n",
       "    <tr>\n",
       "      <th>4</th>\n",
       "      <td>SumbuKecil</td>\n",
       "      <td>29.071182</td>\n",
       "      <td>1.657365e+01</td>\n",
       "      <td>53.731199</td>\n",
       "      <td>39.906517</td>\n",
       "      <td>5.131582</td>\n",
       "      <td>-0.010828</td>\n",
       "      <td>0.475568</td>\n",
       "    </tr>\n",
       "    <tr>\n",
       "      <th>5</th>\n",
       "      <td>Keunikan</td>\n",
       "      <td>0.194085</td>\n",
       "      <td>1.338528e-03</td>\n",
       "      <td>0.890045</td>\n",
       "      <td>0.719916</td>\n",
       "      <td>0.043902</td>\n",
       "      <td>-1.623472</td>\n",
       "      <td>2.917256</td>\n",
       "    </tr>\n",
       "    <tr>\n",
       "      <th>6</th>\n",
       "      <td>AreaBulatan</td>\n",
       "      <td>5141.000000</td>\n",
       "      <td>1.023529e+06</td>\n",
       "      <td>4857.000000</td>\n",
       "      <td>3802.000000</td>\n",
       "      <td>1484.000000</td>\n",
       "      <td>0.257560</td>\n",
       "      <td>-0.409685</td>\n",
       "    </tr>\n",
       "    <tr>\n",
       "      <th>7</th>\n",
       "      <td>Diameter</td>\n",
       "      <td>40.747172</td>\n",
       "      <td>6.491311e+01</td>\n",
       "      <td>77.645277</td>\n",
       "      <td>71.293564</td>\n",
       "      <td>11.903290</td>\n",
       "      <td>0.002725</td>\n",
       "      <td>-0.466455</td>\n",
       "    </tr>\n",
       "    <tr>\n",
       "      <th>8</th>\n",
       "      <td>KadarAir</td>\n",
       "      <td>0.468972</td>\n",
       "      <td>8.905149e-03</td>\n",
       "      <td>0.626117</td>\n",
       "      <td>0.735849</td>\n",
       "      <td>0.154001</td>\n",
       "      <td>0.493661</td>\n",
       "      <td>-0.740326</td>\n",
       "    </tr>\n",
       "    <tr>\n",
       "      <th>9</th>\n",
       "      <td>Keliling</td>\n",
       "      <td>291.822000</td>\n",
       "      <td>1.393932e+03</td>\n",
       "      <td>280.045500</td>\n",
       "      <td>197.015000</td>\n",
       "      <td>50.179500</td>\n",
       "      <td>0.733627</td>\n",
       "      <td>2.272685</td>\n",
       "    </tr>\n",
       "    <tr>\n",
       "      <th>10</th>\n",
       "      <td>Bulatan</td>\n",
       "      <td>0.730158</td>\n",
       "      <td>3.807194e-03</td>\n",
       "      <td>0.761288</td>\n",
       "      <td>0.174590</td>\n",
       "      <td>0.064370</td>\n",
       "      <td>-3.599237</td>\n",
       "      <td>29.975096</td>\n",
       "    </tr>\n",
       "    <tr>\n",
       "      <th>11</th>\n",
       "      <td>Ransum</td>\n",
       "      <td>1.024013</td>\n",
       "      <td>6.238350e-02</td>\n",
       "      <td>2.193599</td>\n",
       "      <td>1.440796</td>\n",
       "      <td>0.397673</td>\n",
       "      <td>-0.658188</td>\n",
       "      <td>-0.428656</td>\n",
       "    </tr>\n",
       "    <tr>\n",
       "      <th>12</th>\n",
       "      <td>Target</td>\n",
       "      <td>1.000000</td>\n",
       "      <td>2.504970e-01</td>\n",
       "      <td>2.000000</td>\n",
       "      <td>2.000000</td>\n",
       "      <td>1.000000</td>\n",
       "      <td>-0.008024</td>\n",
       "      <td>-2.007984</td>\n",
       "    </tr>\n",
       "  </tbody>\n",
       "</table>\n",
       "</div>"
      ],
      "text/plain": [
       "          Kolom        Range       Varians       Median        Modus  \\\n",
       "1            ID   499.000000  2.087500e+04   250.500000     1.000000   \n",
       "2        Daerah  4931.000000  9.729761e+05  4735.000000  3992.000000   \n",
       "3    SumbuUtama   153.795469  3.342544e+02   115.405140    74.133114   \n",
       "4    SumbuKecil    29.071182  1.657365e+01    53.731199    39.906517   \n",
       "5      Keunikan     0.194085  1.338528e-03     0.890045     0.719916   \n",
       "6   AreaBulatan  5141.000000  1.023529e+06  4857.000000  3802.000000   \n",
       "7      Diameter    40.747172  6.491311e+01    77.645277    71.293564   \n",
       "8      KadarAir     0.468972  8.905149e-03     0.626117     0.735849   \n",
       "9      Keliling   291.822000  1.393932e+03   280.045500   197.015000   \n",
       "10      Bulatan     0.730158  3.807194e-03     0.761288     0.174590   \n",
       "11       Ransum     1.024013  6.238350e-02     2.193599     1.440796   \n",
       "12       Target     1.000000  2.504970e-01     2.000000     2.000000   \n",
       "\n",
       "            IQR  Skewness   Kurtosis  \n",
       "1    249.500000  0.000000  -1.200000  \n",
       "2   1452.750000  0.238144  -0.434631  \n",
       "3     24.930694  0.761529   4.330534  \n",
       "4      5.131582 -0.010828   0.475568  \n",
       "5      0.043902 -1.623472   2.917256  \n",
       "6   1484.000000  0.257560  -0.409685  \n",
       "7     11.903290  0.002725  -0.466455  \n",
       "8      0.154001  0.493661  -0.740326  \n",
       "9     50.179500  0.733627   2.272685  \n",
       "10     0.064370 -3.599237  29.975096  \n",
       "11     0.397673 -0.658188  -0.428656  \n",
       "12     1.000000 -0.008024  -2.007984  "
      ]
     },
     "metadata": {},
     "output_type": "display_data"
    }
   ],
   "source": [
    "# Range, Variance, Median, Modus, IQR, Skewness, & Kurtosis \n",
    "printMarkdown(\"#### Range, Varians, Median, Modus, IQR, Skewness, dan Kurtosis\")\n",
    "describe_pandas = dataset.describe()\n",
    "\n",
    "# Inisiasi dictionary\n",
    "dictionary_gandum = {}\n",
    "dictionary_gandum[\"Kolom\"] = []\n",
    "dictionary_gandum[\"Range\"] = []\n",
    "dictionary_gandum[\"Varians\"] = []\n",
    "dictionary_gandum[\"Median\"] = []\n",
    "dictionary_gandum[\"Modus\"] = []\n",
    "dictionary_gandum[\"IQR\"] = []\n",
    "dictionary_gandum[\"Skewness\"] = []\n",
    "dictionary_gandum[\"Kurtosis\"] = []\n",
    "\n",
    "# Menambahkan informasi ke dictionary\n",
    "for column in describe_pandas:\n",
    "    dictionary_gandum[\"Kolom\"].append(column)\n",
    "    # Range, Variance, Median, & Modus\n",
    "    dictionary_gandum[\"Range\"].append(describe_pandas[column][\"max\"] - describe_pandas[column][\"min\"])\n",
    "    # | Range merupakan rentang nilai data\n",
    "    dictionary_gandum[\"Varians\"].append(dataset.var()[column])\n",
    "    # | Varians adalah nilai bagaimana data tersebar\n",
    "    dictionary_gandum[\"Median\"].append(dataset.median()[column])\n",
    "    # | Median adalah nilai tengah dari data, atau\n",
    "    #    dapat diinterpretasikan terdapat tepat \n",
    "    #    50% data diatas dan dibawah data tersebut\n",
    "    dictionary_gandum[\"Modus\"].append(dataset.mode(\"index\")[column][0])\n",
    "    # | Modus urutan dari banyaknya kemunculan nilai\n",
    "    # Note : Ambil hasil modus teratas dengan index 0\n",
    "    \n",
    "    # IQR, Skewness, & Kurtosis \n",
    "    dictionary_gandum[\"IQR\"].append(describe_pandas[column][\"75%\"] - describe_pandas[column][\"25%\"])\n",
    "    # | IQR adalah Selisih antara Q3 - Q1\n",
    "    dictionary_gandum[\"Skewness\"].append(dataset.skew()[column])\n",
    "    # | Skewness adalah kecenderungan arah distribusi,\n",
    "    #    dengan - menunjukan arah ke kanan dan sebaliknya\n",
    "    dictionary_gandum[\"Kurtosis\"].append(dataset.kurtosis()[column])\n",
    "    # | Kurtosis dapat digunakan diinterpretasikan sebagai\n",
    "    #    apakah distribusi memiliki banyak outlier atau tidak\n",
    "    \n",
    "\n",
    "\n",
    "\n",
    "# Perubahan dictionary ke dataframe dan menampilkannya\n",
    "dataframe_gandum = DataFrame(dictionary_gandum, index=[i for i in range(1,13)])\n",
    "display(dataframe_gandum)"
   ]
  },
  {
   "cell_type": "markdown",
   "metadata": {},
   "source": [
    "***\n",
    "```\n",
    "\n",
    "\n",
    "\n",
    "\n",
    "\n",
    "```"
   ]
  },
  {
   "cell_type": "markdown",
   "metadata": {},
   "source": [
    "### 4.2. Membuat visualisasi plot distribusi\n",
    "Buatlah visualisasi dalam bentuk histogram dan boxplot untuk setiap\n",
    "kolom numerik. Berikan uraian penjelasan kondisi setiap kolom berdasarkan kedua plot\n",
    "tersebut."
   ]
  },
  {
   "cell_type": "markdown",
   "metadata": {},
   "source": [
    "***"
   ]
  },
  {
   "cell_type": "markdown",
   "metadata": {},
   "source": [
    "#### Daerah\n",
    "Distribusi data daerah cenderung normal dan tidak ada outlier yang dapat dilihat pada boxplot."
   ]
  },
  {
   "cell_type": "code",
   "execution_count": 3,
   "metadata": {},
   "outputs": [
    {
     "data": {
      "text/plain": [
       "<AxesSubplot:>"
      ]
     },
     "execution_count": 3,
     "metadata": {},
     "output_type": "execute_result"
    },
    {
     "data": {
      "image/png": "[encoded data removed]",
      "text/plain": [
       "<Figure size 432x288 with 1 Axes>"
      ]
     },
     "metadata": {
      "needs_background": "light"
     },
     "output_type": "display_data"
    }
   ],
   "source": [
    "dataset[\"Daerah\"].hist()"
   ]
  },
  {
   "cell_type": "code",
   "execution_count": 4,
   "metadata": {},
   "outputs": [
    {
     "data": {
      "text/plain": [
       "<AxesSubplot:>"
      ]
     },
     "execution_count": 4,
     "metadata": {},
     "output_type": "execute_result"
    },
    {
     "data": {
      "image/png": "[encoded data removed]",
      "text/plain": [
       "<Figure size 432x288 with 1 Axes>"
      ]
     },
     "metadata": {
      "needs_background": "light"
     },
     "output_type": "display_data"
    }
   ],
   "source": [
    "dataset.boxplot(\"Daerah\")"
   ]
  },
  {
   "cell_type": "markdown",
   "metadata": {},
   "source": [
    "***\n",
    "```\n",
    "\n",
    "```"
   ]
  },
  {
   "cell_type": "markdown",
   "metadata": {},
   "source": [
    "#### SumbuUtama\n",
    "Distribusi SumbuUtama terlihat normal meski terdapat satu outlier pada 220."
   ]
  },
  {
   "cell_type": "code",
   "execution_count": 5,
   "metadata": {},
   "outputs": [
    {
     "data": {
      "text/plain": [
       "<AxesSubplot:>"
      ]
     },
     "execution_count": 5,
     "metadata": {},
     "output_type": "execute_result"
    },
    {
     "data": {
      "image/png": "[encoded data removed]",
      "text/plain": [
       "<Figure size 432x288 with 1 Axes>"
      ]
     },
     "metadata": {
      "needs_background": "light"
     },
     "output_type": "display_data"
    }
   ],
   "source": [
    "dataset[\"SumbuUtama\"].hist()"
   ]
  },
  {
   "cell_type": "code",
   "execution_count": 6,
   "metadata": {},
   "outputs": [
    {
     "data": {
      "text/plain": [
       "<AxesSubplot:>"
      ]
     },
     "execution_count": 6,
     "metadata": {},
     "output_type": "execute_result"
    },
    {
     "data": {
      "image/png": "[encoded data removed]",
      "text/plain": [
       "<Figure size 432x288 with 1 Axes>"
      ]
     },
     "metadata": {
      "needs_background": "light"
     },
     "output_type": "display_data"
    }
   ],
   "source": [
    "dataset.boxplot(\"SumbuUtama\")"
   ]
  },
  {
   "cell_type": "markdown",
   "metadata": {},
   "source": [
    "***\n",
    "```\n",
    "\n",
    "```"
   ]
  },
  {
   "cell_type": "markdown",
   "metadata": {},
   "source": [
    "#### SumbuKecil\n",
    "Pada histogram distribusi SumbuKecil terlihat normal, namun pada boxplot terlihat terdapat satu outlier yang terletak pada sekitar 230. Data terlihat memiliki kecenderungan standar deviasi yang kecil jika diamati dari histogram."
   ]
  },
  {
   "cell_type": "code",
   "execution_count": 7,
   "metadata": {},
   "outputs": [
    {
     "data": {
      "text/plain": [
       "<AxesSubplot:>"
      ]
     },
     "execution_count": 7,
     "metadata": {},
     "output_type": "execute_result"
    },
    {
     "data": {
      "image/png": "[encoded data removed]",
      "text/plain": [
       "<Figure size 432x288 with 1 Axes>"
      ]
     },
     "metadata": {
      "needs_background": "light"
     },
     "output_type": "display_data"
    }
   ],
   "source": [
    "dataset[\"SumbuKecil\"].hist()"
   ]
  },
  {
   "cell_type": "code",
   "execution_count": 8,
   "metadata": {},
   "outputs": [
    {
     "data": {
      "text/plain": [
       "<AxesSubplot:>"
      ]
     },
     "execution_count": 8,
     "metadata": {},
     "output_type": "execute_result"
    },
    {
     "data": {
      "image/png": "[encoded data removed]",
      "text/plain": [
       "<Figure size 432x288 with 1 Axes>"
      ]
     },
     "metadata": {
      "needs_background": "light"
     },
     "output_type": "display_data"
    }
   ],
   "source": [
    "dataset.boxplot(\"SumbuUtama\")"
   ]
  },
  {
   "cell_type": "markdown",
   "metadata": {},
   "source": [
    "***\n",
    "```\n",
    "\n",
    "```"
   ]
  },
  {
   "cell_type": "markdown",
   "metadata": {},
   "source": [
    "#### Keunikan\n",
    "Distribusi Keunikan pada histogram terlihat seperti distribusi half-normal terbalik. Sebagian data juga terletak dibawah $Q_1 - 1.5IQR$ yang menyebabkan banyak data diklasifikasikan menjadi outlier pada boxplot."
   ]
  },
  {
   "cell_type": "code",
   "execution_count": 9,
   "metadata": {},
   "outputs": [
    {
     "data": {
      "text/plain": [
       "<AxesSubplot:>"
      ]
     },
     "execution_count": 9,
     "metadata": {},
     "output_type": "execute_result"
    },
    {
     "data": {
      "image/png": "[encoded data removed]",
      "text/plain": [
       "<Figure size 432x288 with 1 Axes>"
      ]
     },
     "metadata": {
      "needs_background": "light"
     },
     "output_type": "display_data"
    }
   ],
   "source": [
    "dataset[\"Keunikan\"].hist()"
   ]
  },
  {
   "cell_type": "code",
   "execution_count": 10,
   "metadata": {},
   "outputs": [
    {
     "data": {
      "text/plain": [
       "<AxesSubplot:>"
      ]
     },
     "execution_count": 10,
     "metadata": {},
     "output_type": "execute_result"
    },
    {
     "data": {
      "image/png": "[encoded data removed]",
      "text/plain": [
       "<Figure size 432x288 with 1 Axes>"
      ]
     },
     "metadata": {
      "needs_background": "light"
     },
     "output_type": "display_data"
    }
   ],
   "source": [
    "dataset.boxplot(\"Keunikan\")"
   ]
  },
  {
   "cell_type": "markdown",
   "metadata": {},
   "source": [
    "***\n",
    "```\n",
    "\n",
    "```"
   ]
  },
  {
   "cell_type": "markdown",
   "metadata": {},
   "source": [
    "#### AreaBulatan\n",
    "Distribusi AreaBulatan terlihat normal dan tidak ada outlier pada boxplot. Skewness terlihat cenderung positif dari histogram dan varians cenderung tinggi."
   ]
  },
  {
   "cell_type": "code",
   "execution_count": 11,
   "metadata": {},
   "outputs": [
    {
     "data": {
      "text/plain": [
       "<AxesSubplot:>"
      ]
     },
     "execution_count": 11,
     "metadata": {},
     "output_type": "execute_result"
    },
    {
     "data": {
      "image/png": "[encoded data removed]",
      "text/plain": [
       "<Figure size 432x288 with 1 Axes>"
      ]
     },
     "metadata": {
      "needs_background": "light"
     },
     "output_type": "display_data"
    }
   ],
   "source": [
    "dataset[\"AreaBulatan\"].hist()"
   ]
  },
  {
   "cell_type": "code",
   "execution_count": 12,
   "metadata": {},
   "outputs": [
    {
     "data": {
      "text/plain": [
       "<AxesSubplot:>"
      ]
     },
     "execution_count": 12,
     "metadata": {},
     "output_type": "execute_result"
    },
    {
     "data": {
      "image/png": "[encoded data removed]",
      "text/plain": [
       "<Figure size 432x288 with 1 Axes>"
      ]
     },
     "metadata": {
      "needs_background": "light"
     },
     "output_type": "display_data"
    }
   ],
   "source": [
    "dataset.boxplot(\"AreaBulatan\")"
   ]
  },
  {
   "cell_type": "markdown",
   "metadata": {},
   "source": [
    "***\n",
    "```\n",
    "\n",
    "```"
   ]
  },
  {
   "cell_type": "markdown",
   "metadata": {},
   "source": [
    "#### Diameter\n",
    "Distribusi Diameter terlihat normal dan tidak ada outlier yang terlihat pada boxplot. Terlihat pada histogram standar deviasi data cukup besar sehingga data antara 70 dan 85 memiliki bentuk yang cenderung datar."
   ]
  },
  {
   "cell_type": "code",
   "execution_count": 13,
   "metadata": {},
   "outputs": [
    {
     "data": {
      "text/plain": [
       "<AxesSubplot:>"
      ]
     },
     "execution_count": 13,
     "metadata": {},
     "output_type": "execute_result"
    },
    {
     "data": {
      "image/png": "[encoded data removed]",
      "text/plain": [
       "<Figure size 432x288 with 1 Axes>"
      ]
     },
     "metadata": {
      "needs_background": "light"
     },
     "output_type": "display_data"
    }
   ],
   "source": [
    "dataset[\"Diameter\"].hist()"
   ]
  },
  {
   "cell_type": "code",
   "execution_count": 14,
   "metadata": {},
   "outputs": [
    {
     "data": {
      "text/plain": [
       "<AxesSubplot:>"
      ]
     },
     "execution_count": 14,
     "metadata": {},
     "output_type": "execute_result"
    },
    {
     "data": {
      "image/png": "[encoded data removed]",
      "text/plain": [
       "<Figure size 432x288 with 1 Axes>"
      ]
     },
     "metadata": {
      "needs_background": "light"
     },
     "output_type": "display_data"
    }
   ],
   "source": [
    "dataset.boxplot(\"Diameter\")"
   ]
  },
  {
   "cell_type": "markdown",
   "metadata": {},
   "source": [
    "***\n",
    "```\n",
    "\n",
    "```"
   ]
  },
  {
   "cell_type": "markdown",
   "metadata": {},
   "source": [
    "#### KadarAir\n",
    "Distribusi KadarAir terlihat seperti distribusi gamma dan $α$ yang cukup tinggi menyebabkan bentuk tajam keatas. Tidak ada outlier yang terlihat pada boxplot."
   ]
  },
  {
   "cell_type": "code",
   "execution_count": 15,
   "metadata": {},
   "outputs": [
    {
     "data": {
      "text/plain": [
       "<AxesSubplot:>"
      ]
     },
     "execution_count": 15,
     "metadata": {},
     "output_type": "execute_result"
    },
    {
     "data": {
      "image/png": "[encoded data removed]",
      "text/plain": [
       "<Figure size 432x288 with 1 Axes>"
      ]
     },
     "metadata": {
      "needs_background": "light"
     },
     "output_type": "display_data"
    }
   ],
   "source": [
    "dataset[\"KadarAir\"].hist()"
   ]
  },
  {
   "cell_type": "code",
   "execution_count": 16,
   "metadata": {},
   "outputs": [
    {
     "data": {
      "text/plain": [
       "<AxesSubplot:>"
      ]
     },
     "execution_count": 16,
     "metadata": {},
     "output_type": "execute_result"
    },
    {
     "data": {
      "image/png": "[encoded data removed]",
      "text/plain": [
       "<Figure size 432x288 with 1 Axes>"
      ]
     },
     "metadata": {
      "needs_background": "light"
     },
     "output_type": "display_data"
    }
   ],
   "source": [
    "dataset.boxplot(\"KadarAir\")"
   ]
  },
  {
   "cell_type": "markdown",
   "metadata": {},
   "source": [
    "***\n",
    "```\n",
    "\n",
    "```"
   ]
  },
  {
   "cell_type": "markdown",
   "metadata": {},
   "source": [
    "#### Keliling\n",
    "Distribusi Keliling terlihat seperti distribusi normal meskipun terdapat beberapa outlier. Distribusi Keliling mungkin juga merupakan distribusi gamma jika sampel yang lebih besar menunjukan bahwa outlier-outlier tersebut masuk kedalam range $Q_3 + 1.5IQR$."
   ]
  },
  {
   "cell_type": "code",
   "execution_count": 17,
   "metadata": {},
   "outputs": [
    {
     "data": {
      "text/plain": [
       "<AxesSubplot:>"
      ]
     },
     "execution_count": 17,
     "metadata": {},
     "output_type": "execute_result"
    },
    {
     "data": {
      "image/png": "[encoded data removed]",
      "text/plain": [
       "<Figure size 432x288 with 1 Axes>"
      ]
     },
     "metadata": {
      "needs_background": "light"
     },
     "output_type": "display_data"
    }
   ],
   "source": [
    "dataset[\"Keliling\"].hist()"
   ]
  },
  {
   "cell_type": "code",
   "execution_count": 18,
   "metadata": {},
   "outputs": [
    {
     "data": {
      "text/plain": [
       "<AxesSubplot:>"
      ]
     },
     "execution_count": 18,
     "metadata": {},
     "output_type": "execute_result"
    },
    {
     "data": {
      "image/png": "[encoded data removed]",
      "text/plain": [
       "<Figure size 432x288 with 1 Axes>"
      ]
     },
     "metadata": {
      "needs_background": "light"
     },
     "output_type": "display_data"
    }
   ],
   "source": [
    "dataset.boxplot(\"Keliling\")"
   ]
  },
  {
   "cell_type": "markdown",
   "metadata": {},
   "source": [
    "***\n",
    "```\n",
    "\n",
    "```"
   ]
  },
  {
   "cell_type": "markdown",
   "metadata": {},
   "source": [
    "#### Bulatan\n",
    "Distribusi Bulatan terlihat seperti distribusi normal dengan standar deviasi yang besar. Mungkin juga distribusi bulatan merupakan distribusi gamma yang terbalik jika sampel yang diambil kurang merepresentasikan populasi."
   ]
  },
  {
   "cell_type": "code",
   "execution_count": 19,
   "metadata": {},
   "outputs": [
    {
     "data": {
      "text/plain": [
       "<AxesSubplot:>"
      ]
     },
     "execution_count": 19,
     "metadata": {},
     "output_type": "execute_result"
    },
    {
     "data": {
      "image/png": "[encoded data removed]",
      "text/plain": [
       "<Figure size 432x288 with 1 Axes>"
      ]
     },
     "metadata": {
      "needs_background": "light"
     },
     "output_type": "display_data"
    }
   ],
   "source": [
    "dataset[\"Bulatan\"].hist()"
   ]
  },
  {
   "cell_type": "code",
   "execution_count": 20,
   "metadata": {},
   "outputs": [
    {
     "data": {
      "text/plain": [
       "<AxesSubplot:>"
      ]
     },
     "execution_count": 20,
     "metadata": {},
     "output_type": "execute_result"
    },
    {
     "data": {
      "image/png": "[encoded data removed]",
      "text/plain": [
       "<Figure size 432x288 with 1 Axes>"
      ]
     },
     "metadata": {
      "needs_background": "light"
     },
     "output_type": "display_data"
    }
   ],
   "source": [
    "dataset.boxplot(\"Bulatan\")"
   ]
  },
  {
   "cell_type": "markdown",
   "metadata": {},
   "source": [
    "***\n",
    "```\n",
    "\n",
    "```"
   ]
  },
  {
   "cell_type": "markdown",
   "metadata": {},
   "source": [
    "#### Ransum\n",
    "Distribusi Ransum terlihat seperti distribusi half-normal terbalik. Pada boxplot tidak terlihat outlier."
   ]
  },
  {
   "cell_type": "code",
   "execution_count": 21,
   "metadata": {},
   "outputs": [
    {
     "data": {
      "text/plain": [
       "<AxesSubplot:>"
      ]
     },
     "execution_count": 21,
     "metadata": {},
     "output_type": "execute_result"
    },
    {
     "data": {
      "image/png": "[encoded data removed]",
      "text/plain": [
       "<Figure size 432x288 with 1 Axes>"
      ]
     },
     "metadata": {
      "needs_background": "light"
     },
     "output_type": "display_data"
    }
   ],
   "source": [
    "dataset[\"Ransum\"].hist()"
   ]
  },
  {
   "cell_type": "code",
   "execution_count": 22,
   "metadata": {},
   "outputs": [
    {
     "data": {
      "text/plain": [
       "<AxesSubplot:>"
      ]
     },
     "execution_count": 22,
     "metadata": {},
     "output_type": "execute_result"
    },
    {
     "data": {
      "image/png": "[encoded data removed]",
      "text/plain": [
       "<Figure size 432x288 with 1 Axes>"
      ]
     },
     "metadata": {
      "needs_background": "light"
     },
     "output_type": "display_data"
    }
   ],
   "source": [
    "dataset.boxplot(\"Ransum\")"
   ]
  },
  {
   "cell_type": "markdown",
   "metadata": {},
   "source": [
    "***\n",
    "```\n",
    "\n",
    "\n",
    "\n",
    "\n",
    "\n",
    "```"
   ]
  },
  {
   "cell_type": "markdown",
   "metadata": {},
   "source": [
    "### 4.3. Menentukan setiap kolom numerik berdistribusi normal atau tidak\n",
    "Gunakan normality test yang dikaitkan dengan histogram plot."
   ]
  },
  {
   "cell_type": "markdown",
   "metadata": {},
   "source": [
    "#### Penjelasan D’Agostino’s and Pearson’s Omnibus Test Of Normality\n",
    "Normality test dilakukan dengan menggabungkan variabel skewness dan kurtosis pada setiap kolom.\n",
    "Apabila hasil tes menyimpulkan distribusi normal, maka pada histogram plot (yang dalam hal ini divisualisasikan\n",
    "dengan `seaborn.distplot()`) akan tergambar bell-shaped curve (kurva mirip bentuk bell).\n",
    "\n",
    "Pada tes omnibus ini, $K^2 = Z_s^2 + Z_k^2$. $Z_s$ merupakan hasil dari tes Skewness Agostino dan $Z_k$ merupakan\n",
    "hasil tes Kurtosis Agostino. $K^2$ diaproksimasi terdistribusi secara $\\chi^2$ (chi-squared) dengan 2 degrees of freedom.\n",
    "\n",
    "Hipotesis null $H_0$ dalam test ini adalah diasumsikan bahwa masing-masing kolom memiliki distribusi normal.\n",
    "Normality test akan menghasilkan dua output, yaitu stat dan $p$. Apabila nilai $p > \\alpha$,\n",
    "maka hasil test gagal untuk menolak $H_0$, sehingga kolom dapat disimpulkan memiliki distribusi normal.\n",
    "Sebaliknya apabila nilai $p \\leq \\alpha$, maka hasil test yang dilakukan berhasil menolak $H_0$, sehingga \n",
    "kolom yang bersangkutan dapat disimpulkan tidak memiliki distribusi normal.\n",
    "\n",
    "Hasil tes untuk setiap kolom dapat dilihat di bawah, tes menggunakan nilai $\\alpha = 0.05$. Apabila dilihat, maka kolom yang tergolong memiliki distribusi normal\n",
    "melalui Omnibus Test Of Normality hanyalah kolom SumbuKecil. Hal ini sesuai dengan visualisasi pada histogram di mana \n",
    "memang hanya kolom SumbuKecil yang menyerupai bell-shape."
   ]
  },
  {
   "cell_type": "markdown",
   "metadata": {},
   "source": [
    "***"
   ]
  },
  {
   "cell_type": "code",
   "execution_count": 23,
   "metadata": {
    "scrolled": true
   },
   "outputs": [],
   "source": [
    "from scipy.stats import normaltest"
   ]
  },
  {
   "cell_type": "markdown",
   "metadata": {},
   "source": [
    "#### Daerah"
   ]
  },
  {
   "cell_type": "code",
   "execution_count": 24,
   "metadata": {
    "scrolled": true
   },
   "outputs": [
    {
     "name": "stderr",
     "output_type": "stream",
     "text": [
      "C:\\Users\\Tanur Rizal\\AppData\\Local\\Programs\\Python\\Python37-32\\lib\\site-packages\\seaborn\\distributions.py:2557: FutureWarning: `distplot` is a deprecated function and will be removed in a future version. Please adapt your code to use either `displot` (a figure-level function with similar flexibility) or `histplot` (an axes-level function for histograms).\n",
      "  warnings.warn(msg, FutureWarning)\n"
     ]
    },
    {
     "data": {
      "text/plain": [
       "<AxesSubplot:xlabel='Daerah', ylabel='Density'>"
      ]
     },
     "execution_count": 24,
     "metadata": {},
     "output_type": "execute_result"
    },
    {
     "data": {
      "image/png": "[encoded data removed]",
      "text/plain": [
       "<Figure size 432x288 with 1 Axes>"
      ]
     },
     "metadata": {
      "needs_background": "light"
     },
     "output_type": "display_data"
    }
   ],
   "source": [
    "sns.distplot(dataset[\"Daerah\"])"
   ]
  },
  {
   "cell_type": "code",
   "execution_count": 25,
   "metadata": {
    "scrolled": true
   },
   "outputs": [
    {
     "data": {
      "text/markdown": [
       "D’Agostino’s Test - stat = 10.859, $p$ = 0.004386"
      ],
      "text/plain": [
       "<IPython.core.display.Markdown object>"
      ]
     },
     "metadata": {},
     "output_type": "display_data"
    },
    {
     "data": {
      "text/markdown": [
       "**Daerah Tidak Berdistribusi Normal**"
      ],
      "text/plain": [
       "<IPython.core.display.Markdown object>"
      ]
     },
     "metadata": {},
     "output_type": "display_data"
    }
   ],
   "source": [
    "title = \"**Daerah\"\n",
    "stat, p = normaltest(dataset[\"Daerah\"])\n",
    "printMarkdown(\"D’Agostino’s Test - stat = %.3f, $p$ = %f\" % (stat, p))\n",
    "if(p > 0.05):\n",
    "    printMarkdown(title + \" Berdistribusi Normal**\")\n",
    "else:\n",
    "    printMarkdown(title + \" Tidak Berdistribusi Normal**\")"
   ]
  },
  {
   "cell_type": "markdown",
   "metadata": {},
   "source": [
    "***\n",
    "```\n",
    "\n",
    "```"
   ]
  },
  {
   "cell_type": "markdown",
   "metadata": {},
   "source": [
    "#### SumbuUtama"
   ]
  },
  {
   "cell_type": "code",
   "execution_count": 26,
   "metadata": {},
   "outputs": [
    {
     "name": "stderr",
     "output_type": "stream",
     "text": [
      "C:\\Users\\Tanur Rizal\\AppData\\Local\\Programs\\Python\\Python37-32\\lib\\site-packages\\seaborn\\distributions.py:2557: FutureWarning: `distplot` is a deprecated function and will be removed in a future version. Please adapt your code to use either `displot` (a figure-level function with similar flexibility) or `histplot` (an axes-level function for histograms).\n",
      "  warnings.warn(msg, FutureWarning)\n"
     ]
    },
    {
     "data": {
      "text/plain": [
       "<AxesSubplot:xlabel='SumbuUtama', ylabel='Density'>"
      ]
     },
     "execution_count": 26,
     "metadata": {},
     "output_type": "execute_result"
    },
    {
     "data": {
      "image/png": "[encoded data removed]",
      "text/plain": [
       "<Figure size 432x288 with 1 Axes>"
      ]
     },
     "metadata": {
      "needs_background": "light"
     },
     "output_type": "display_data"
    }
   ],
   "source": [
    "sns.distplot(dataset[\"SumbuUtama\"])"
   ]
  },
  {
   "cell_type": "code",
   "execution_count": 27,
   "metadata": {},
   "outputs": [
    {
     "data": {
      "text/markdown": [
       "D’Agostino’s Test - stat = 95.120, $p$ = 0.000000"
      ],
      "text/plain": [
       "<IPython.core.display.Markdown object>"
      ]
     },
     "metadata": {},
     "output_type": "display_data"
    },
    {
     "data": {
      "text/markdown": [
       "**SumbuUtama Tidak Berdistribusi Normal**"
      ],
      "text/plain": [
       "<IPython.core.display.Markdown object>"
      ]
     },
     "metadata": {},
     "output_type": "display_data"
    }
   ],
   "source": [
    "title = \"**SumbuUtama\"\n",
    "stat, p = normaltest(dataset[\"SumbuUtama\"])\n",
    "printMarkdown(\"D’Agostino’s Test - stat = %.3f, $p$ = %f\" % (stat, p))\n",
    "if(p > 0.05):\n",
    "    printMarkdown(title + \" Berdistribusi Normal**\")\n",
    "else:\n",
    "    printMarkdown(title + \" Tidak Berdistribusi Normal**\")"
   ]
  },
  {
   "cell_type": "markdown",
   "metadata": {},
   "source": [
    "***\n",
    "```\n",
    "\n",
    "```"
   ]
  },
  {
   "cell_type": "markdown",
   "metadata": {},
   "source": [
    "#### SumbuKecil"
   ]
  },
  {
   "cell_type": "code",
   "execution_count": 28,
   "metadata": {},
   "outputs": [
    {
     "name": "stderr",
     "output_type": "stream",
     "text": [
      "C:\\Users\\Tanur Rizal\\AppData\\Local\\Programs\\Python\\Python37-32\\lib\\site-packages\\seaborn\\distributions.py:2557: FutureWarning: `distplot` is a deprecated function and will be removed in a future version. Please adapt your code to use either `displot` (a figure-level function with similar flexibility) or `histplot` (an axes-level function for histograms).\n",
      "  warnings.warn(msg, FutureWarning)\n"
     ]
    },
    {
     "data": {
      "text/plain": [
       "<AxesSubplot:xlabel='SumbuKecil', ylabel='Density'>"
      ]
     },
     "execution_count": 28,
     "metadata": {},
     "output_type": "execute_result"
    },
    {
     "data": {
      "image/png": "[encoded data removed]",
      "text/plain": [
       "<Figure size 432x288 with 1 Axes>"
      ]
     },
     "metadata": {
      "needs_background": "light"
     },
     "output_type": "display_data"
    }
   ],
   "source": [
    "sns.distplot(dataset[\"SumbuKecil\"])"
   ]
  },
  {
   "cell_type": "code",
   "execution_count": 29,
   "metadata": {},
   "outputs": [
    {
     "data": {
      "text/markdown": [
       "D’Agostino’s Test - stat = 3.698, $p$ = 0.157363"
      ],
      "text/plain": [
       "<IPython.core.display.Markdown object>"
      ]
     },
     "metadata": {},
     "output_type": "display_data"
    },
    {
     "data": {
      "text/markdown": [
       "**SumbuKecil Berdistribusi Normal**"
      ],
      "text/plain": [
       "<IPython.core.display.Markdown object>"
      ]
     },
     "metadata": {},
     "output_type": "display_data"
    }
   ],
   "source": [
    "title = \"**SumbuKecil\"\n",
    "stat, p = normaltest(dataset[\"SumbuKecil\"])\n",
    "printMarkdown(\"D’Agostino’s Test - stat = %.3f, $p$ = %f\" % (stat, p))\n",
    "if(p > 0.05):\n",
    "    printMarkdown(title + \" Berdistribusi Normal**\")\n",
    "else:\n",
    "    printMarkdown(title + \" Tidak Berdistribusi Normal**\")"
   ]
  },
  {
   "cell_type": "markdown",
   "metadata": {},
   "source": [
    "***\n",
    "```\n",
    "\n",
    "```"
   ]
  },
  {
   "cell_type": "markdown",
   "metadata": {},
   "source": [
    "#### Keunikan"
   ]
  },
  {
   "cell_type": "code",
   "execution_count": 30,
   "metadata": {},
   "outputs": [
    {
     "name": "stderr",
     "output_type": "stream",
     "text": [
      "C:\\Users\\Tanur Rizal\\AppData\\Local\\Programs\\Python\\Python37-32\\lib\\site-packages\\seaborn\\distributions.py:2557: FutureWarning: `distplot` is a deprecated function and will be removed in a future version. Please adapt your code to use either `displot` (a figure-level function with similar flexibility) or `histplot` (an axes-level function for histograms).\n",
      "  warnings.warn(msg, FutureWarning)\n"
     ]
    },
    {
     "data": {
      "text/plain": [
       "<AxesSubplot:xlabel='Keunikan', ylabel='Density'>"
      ]
     },
     "execution_count": 30,
     "metadata": {},
     "output_type": "execute_result"
    },
    {
     "data": {
      "image/png": "[encoded data removed]",
      "text/plain": [
       "<Figure size 432x288 with 1 Axes>"
      ]
     },
     "metadata": {
      "needs_background": "light"
     },
     "output_type": "display_data"
    }
   ],
   "source": [
    "sns.distplot(dataset[\"Keunikan\"])"
   ]
  },
  {
   "cell_type": "code",
   "execution_count": 31,
   "metadata": {},
   "outputs": [
    {
     "data": {
      "text/markdown": [
       "D’Agostino’s Test - stat = 158.617, $p$ = 0.000000"
      ],
      "text/plain": [
       "<IPython.core.display.Markdown object>"
      ]
     },
     "metadata": {},
     "output_type": "display_data"
    },
    {
     "data": {
      "text/markdown": [
       "**Keunikan Tidak Berdistribusi Normal**"
      ],
      "text/plain": [
       "<IPython.core.display.Markdown object>"
      ]
     },
     "metadata": {},
     "output_type": "display_data"
    }
   ],
   "source": [
    "title = \"**Keunikan\"\n",
    "stat, p = normaltest(dataset[\"Keunikan\"])\n",
    "printMarkdown(\"D’Agostino’s Test - stat = %.3f, $p$ = %f\" % (stat, p))\n",
    "if(p > 0.05):\n",
    "    printMarkdown(title + \" Berdistribusi Normal**\")\n",
    "else:\n",
    "    printMarkdown(title + \" Tidak Berdistribusi Normal**\")"
   ]
  },
  {
   "cell_type": "markdown",
   "metadata": {},
   "source": [
    "***\n",
    "```\n",
    "\n",
    "```"
   ]
  },
  {
   "cell_type": "markdown",
   "metadata": {},
   "source": [
    "#### AreaBulatan"
   ]
  },
  {
   "cell_type": "code",
   "execution_count": 32,
   "metadata": {},
   "outputs": [
    {
     "name": "stderr",
     "output_type": "stream",
     "text": [
      "C:\\Users\\Tanur Rizal\\AppData\\Local\\Programs\\Python\\Python37-32\\lib\\site-packages\\seaborn\\distributions.py:2557: FutureWarning: `distplot` is a deprecated function and will be removed in a future version. Please adapt your code to use either `displot` (a figure-level function with similar flexibility) or `histplot` (an axes-level function for histograms).\n",
      "  warnings.warn(msg, FutureWarning)\n"
     ]
    },
    {
     "data": {
      "text/plain": [
       "<AxesSubplot:xlabel='AreaBulatan', ylabel='Density'>"
      ]
     },
     "execution_count": 32,
     "metadata": {},
     "output_type": "execute_result"
    },
    {
     "data": {
      "image/png": "[encoded data removed]",
      "text/plain": [
       "<Figure size 432x288 with 1 Axes>"
      ]
     },
     "metadata": {
      "needs_background": "light"
     },
     "output_type": "display_data"
    }
   ],
   "source": [
    "sns.distplot(dataset[\"AreaBulatan\"])"
   ]
  },
  {
   "cell_type": "code",
   "execution_count": 33,
   "metadata": {
    "scrolled": true
   },
   "outputs": [
    {
     "data": {
      "text/markdown": [
       "D’Agostino’s Test - stat = 10.739, $p$ = 0.004657"
      ],
      "text/plain": [
       "<IPython.core.display.Markdown object>"
      ]
     },
     "metadata": {},
     "output_type": "display_data"
    },
    {
     "data": {
      "text/markdown": [
       "**AreaBulatan Tidak Berdistribusi Normal**"
      ],
      "text/plain": [
       "<IPython.core.display.Markdown object>"
      ]
     },
     "metadata": {},
     "output_type": "display_data"
    }
   ],
   "source": [
    "title = \"**AreaBulatan\"\n",
    "stat, p = normaltest(dataset[\"AreaBulatan\"])\n",
    "printMarkdown(\"D’Agostino’s Test - stat = %.3f, $p$ = %f\" % (stat, p))\n",
    "if(p > 0.05):\n",
    "    printMarkdown(title + \" Berdistribusi Normal**\")\n",
    "else:\n",
    "    printMarkdown(title + \" Tidak Berdistribusi Normal**\")"
   ]
  },
  {
   "cell_type": "markdown",
   "metadata": {},
   "source": [
    "***\n",
    "```\n",
    "\n",
    "```"
   ]
  },
  {
   "cell_type": "markdown",
   "metadata": {},
   "source": [
    "#### Diameter"
   ]
  },
  {
   "cell_type": "code",
   "execution_count": 34,
   "metadata": {},
   "outputs": [
    {
     "name": "stderr",
     "output_type": "stream",
     "text": [
      "C:\\Users\\Tanur Rizal\\AppData\\Local\\Programs\\Python\\Python37-32\\lib\\site-packages\\seaborn\\distributions.py:2557: FutureWarning: `distplot` is a deprecated function and will be removed in a future version. Please adapt your code to use either `displot` (a figure-level function with similar flexibility) or `histplot` (an axes-level function for histograms).\n",
      "  warnings.warn(msg, FutureWarning)\n"
     ]
    },
    {
     "data": {
      "text/plain": [
       "<AxesSubplot:xlabel='Diameter', ylabel='Density'>"
      ]
     },
     "execution_count": 34,
     "metadata": {},
     "output_type": "execute_result"
    },
    {
     "data": {
      "image/png": "[encoded data removed]",
      "text/plain": [
       "<Figure size 432x288 with 1 Axes>"
      ]
     },
     "metadata": {
      "needs_background": "light"
     },
     "output_type": "display_data"
    }
   ],
   "source": [
    "sns.distplot(dataset[\"Diameter\"])"
   ]
  },
  {
   "cell_type": "code",
   "execution_count": 35,
   "metadata": {},
   "outputs": [
    {
     "data": {
      "text/markdown": [
       "D’Agostino’s Test - stat = 7.446, $p$ = 0.024157"
      ],
      "text/plain": [
       "<IPython.core.display.Markdown object>"
      ]
     },
     "metadata": {},
     "output_type": "display_data"
    },
    {
     "data": {
      "text/markdown": [
       "**Diameter Tidak Berdistribusi Normal**"
      ],
      "text/plain": [
       "<IPython.core.display.Markdown object>"
      ]
     },
     "metadata": {},
     "output_type": "display_data"
    }
   ],
   "source": [
    "title = \"**Diameter\"\n",
    "stat, p = normaltest(dataset[\"Diameter\"])\n",
    "printMarkdown(\"D’Agostino’s Test - stat = %.3f, $p$ = %f\" % (stat, p))\n",
    "if(p > 0.05):\n",
    "    printMarkdown(title + \" Berdistribusi Normal**\")\n",
    "else:\n",
    "    printMarkdown(title + \" Tidak Berdistribusi Normal**\")"
   ]
  },
  {
   "cell_type": "markdown",
   "metadata": {},
   "source": [
    "***\n",
    "```\n",
    "\n",
    "```"
   ]
  },
  {
   "cell_type": "markdown",
   "metadata": {},
   "source": [
    "#### KadarAir"
   ]
  },
  {
   "cell_type": "code",
   "execution_count": 36,
   "metadata": {},
   "outputs": [
    {
     "name": "stderr",
     "output_type": "stream",
     "text": [
      "C:\\Users\\Tanur Rizal\\AppData\\Local\\Programs\\Python\\Python37-32\\lib\\site-packages\\seaborn\\distributions.py:2557: FutureWarning: `distplot` is a deprecated function and will be removed in a future version. Please adapt your code to use either `displot` (a figure-level function with similar flexibility) or `histplot` (an axes-level function for histograms).\n",
      "  warnings.warn(msg, FutureWarning)\n"
     ]
    },
    {
     "data": {
      "text/plain": [
       "<AxesSubplot:xlabel='KadarAir', ylabel='Density'>"
      ]
     },
     "execution_count": 36,
     "metadata": {},
     "output_type": "execute_result"
    },
    {
     "data": {
      "image/png": "[encoded data removed]",
      "text/plain": [
       "<Figure size 432x288 with 1 Axes>"
      ]
     },
     "metadata": {
      "needs_background": "light"
     },
     "output_type": "display_data"
    }
   ],
   "source": [
    "sns.distplot(dataset[\"KadarAir\"])"
   ]
  },
  {
   "cell_type": "code",
   "execution_count": 37,
   "metadata": {},
   "outputs": [
    {
     "data": {
      "text/markdown": [
       "D’Agostino’s Test - stat = 48.756, $p$ = 0.000000"
      ],
      "text/plain": [
       "<IPython.core.display.Markdown object>"
      ]
     },
     "metadata": {},
     "output_type": "display_data"
    },
    {
     "data": {
      "text/markdown": [
       "**KadarAir Tidak Berdistribusi Normal**"
      ],
      "text/plain": [
       "<IPython.core.display.Markdown object>"
      ]
     },
     "metadata": {},
     "output_type": "display_data"
    }
   ],
   "source": [
    "title = \"**KadarAir\"\n",
    "stat, p = normaltest(dataset[\"KadarAir\"])\n",
    "printMarkdown(\"D’Agostino’s Test - stat = %.3f, $p$ = %f\" % (stat, p))\n",
    "if(p > 0.05):\n",
    "    printMarkdown(title + \" Berdistribusi Normal**\")\n",
    "else:\n",
    "    printMarkdown(title + \" Tidak Berdistribusi Normal**\")"
   ]
  },
  {
   "cell_type": "markdown",
   "metadata": {},
   "source": [
    "***\n",
    "```\n",
    "\n",
    "```"
   ]
  },
  {
   "cell_type": "markdown",
   "metadata": {},
   "source": [
    "####  Keliling"
   ]
  },
  {
   "cell_type": "code",
   "execution_count": 38,
   "metadata": {},
   "outputs": [
    {
     "name": "stderr",
     "output_type": "stream",
     "text": [
      "C:\\Users\\Tanur Rizal\\AppData\\Local\\Programs\\Python\\Python37-32\\lib\\site-packages\\seaborn\\distributions.py:2557: FutureWarning: `distplot` is a deprecated function and will be removed in a future version. Please adapt your code to use either `displot` (a figure-level function with similar flexibility) or `histplot` (an axes-level function for histograms).\n",
      "  warnings.warn(msg, FutureWarning)\n"
     ]
    },
    {
     "data": {
      "text/plain": [
       "<AxesSubplot:xlabel='Keliling', ylabel='Density'>"
      ]
     },
     "execution_count": 38,
     "metadata": {},
     "output_type": "execute_result"
    },
    {
     "data": {
      "image/png": "[encoded data removed]",
      "text/plain": [
       "<Figure size 432x288 with 1 Axes>"
      ]
     },
     "metadata": {
      "needs_background": "light"
     },
     "output_type": "display_data"
    }
   ],
   "source": [
    "sns.distplot(dataset[\"Keliling\"])"
   ]
  },
  {
   "cell_type": "code",
   "execution_count": 39,
   "metadata": {},
   "outputs": [
    {
     "data": {
      "text/markdown": [
       "D’Agostino’s Test - stat = 67.465, $p$ = 0.000000"
      ],
      "text/plain": [
       "<IPython.core.display.Markdown object>"
      ]
     },
     "metadata": {},
     "output_type": "display_data"
    },
    {
     "data": {
      "text/markdown": [
       "**Keliling Tidak Berdistribusi Normal**"
      ],
      "text/plain": [
       "<IPython.core.display.Markdown object>"
      ]
     },
     "metadata": {},
     "output_type": "display_data"
    }
   ],
   "source": [
    "title = \"**Keliling\"\n",
    "stat, p = normaltest(dataset[\"Keliling\"])\n",
    "printMarkdown(\"D’Agostino’s Test - stat = %.3f, $p$ = %f\" % (stat, p))\n",
    "if(p > 0.05):\n",
    "    printMarkdown(title + \" Berdistribusi Normal**\")\n",
    "else:\n",
    "    printMarkdown(title + \" Tidak Berdistribusi Normal**\")"
   ]
  },
  {
   "cell_type": "markdown",
   "metadata": {},
   "source": [
    "***\n",
    "```\n",
    "\n",
    "```"
   ]
  },
  {
   "cell_type": "markdown",
   "metadata": {},
   "source": [
    "#### Bulatan"
   ]
  },
  {
   "cell_type": "code",
   "execution_count": 40,
   "metadata": {},
   "outputs": [
    {
     "name": "stderr",
     "output_type": "stream",
     "text": [
      "C:\\Users\\Tanur Rizal\\AppData\\Local\\Programs\\Python\\Python37-32\\lib\\site-packages\\seaborn\\distributions.py:2557: FutureWarning: `distplot` is a deprecated function and will be removed in a future version. Please adapt your code to use either `displot` (a figure-level function with similar flexibility) or `histplot` (an axes-level function for histograms).\n",
      "  warnings.warn(msg, FutureWarning)\n"
     ]
    },
    {
     "data": {
      "text/plain": [
       "<AxesSubplot:xlabel='Bulatan', ylabel='Density'>"
      ]
     },
     "execution_count": 40,
     "metadata": {},
     "output_type": "execute_result"
    },
    {
     "data": {
      "image/png": "[encoded data removed]",
      "text/plain": [
       "<Figure size 432x288 with 1 Axes>"
      ]
     },
     "metadata": {
      "needs_background": "light"
     },
     "output_type": "display_data"
    }
   ],
   "source": [
    "sns.distplot(dataset[\"Bulatan\"])"
   ]
  },
  {
   "cell_type": "code",
   "execution_count": 41,
   "metadata": {},
   "outputs": [
    {
     "data": {
      "text/markdown": [
       "D’Agostino’s Test - stat = 442.119, $p$ = 0.000000"
      ],
      "text/plain": [
       "<IPython.core.display.Markdown object>"
      ]
     },
     "metadata": {},
     "output_type": "display_data"
    },
    {
     "data": {
      "text/markdown": [
       "**Bulatan Tidak Berdistribusi Normal**"
      ],
      "text/plain": [
       "<IPython.core.display.Markdown object>"
      ]
     },
     "metadata": {},
     "output_type": "display_data"
    }
   ],
   "source": [
    "title = \"**Bulatan\"\n",
    "stat, p = normaltest(dataset[\"Bulatan\"])\n",
    "printMarkdown(\"D’Agostino’s Test - stat = %.3f, $p$ = %f\" % (stat, p))\n",
    "if(p > 0.05):\n",
    "    printMarkdown(title + \" Berdistribusi Normal**\")\n",
    "else:\n",
    "    printMarkdown(title + \" Tidak Berdistribusi Normal**\")"
   ]
  },
  {
   "cell_type": "markdown",
   "metadata": {},
   "source": [
    "***\n",
    "```\n",
    "\n",
    "```"
   ]
  },
  {
   "cell_type": "markdown",
   "metadata": {},
   "source": [
    "#### Ransum"
   ]
  },
  {
   "cell_type": "code",
   "execution_count": 42,
   "metadata": {},
   "outputs": [
    {
     "name": "stderr",
     "output_type": "stream",
     "text": [
      "C:\\Users\\Tanur Rizal\\AppData\\Local\\Programs\\Python\\Python37-32\\lib\\site-packages\\seaborn\\distributions.py:2557: FutureWarning: `distplot` is a deprecated function and will be removed in a future version. Please adapt your code to use either `displot` (a figure-level function with similar flexibility) or `histplot` (an axes-level function for histograms).\n",
      "  warnings.warn(msg, FutureWarning)\n"
     ]
    },
    {
     "data": {
      "text/plain": [
       "<AxesSubplot:xlabel='Ransum', ylabel='Density'>"
      ]
     },
     "execution_count": 42,
     "metadata": {},
     "output_type": "execute_result"
    },
    {
     "data": {
      "image/png": "[encoded data removed]",
      "text/plain": [
       "<Figure size 432x288 with 1 Axes>"
      ]
     },
     "metadata": {
      "needs_background": "light"
     },
     "output_type": "display_data"
    }
   ],
   "source": [
    "sns.distplot(dataset[\"Ransum\"])"
   ]
  },
  {
   "cell_type": "code",
   "execution_count": 43,
   "metadata": {
    "scrolled": true
   },
   "outputs": [
    {
     "data": {
      "text/markdown": [
       "D’Agostino’s Test - stat = 37.060, $p$ = 0.000000"
      ],
      "text/plain": [
       "<IPython.core.display.Markdown object>"
      ]
     },
     "metadata": {},
     "output_type": "display_data"
    },
    {
     "data": {
      "text/markdown": [
       "**Ransum Tidak Berdistribusi Normal**"
      ],
      "text/plain": [
       "<IPython.core.display.Markdown object>"
      ]
     },
     "metadata": {},
     "output_type": "display_data"
    }
   ],
   "source": [
    "title = \"**Ransum\"\n",
    "stat, p = normaltest(dataset[\"Ransum\"])\n",
    "printMarkdown(\"D’Agostino’s Test - stat = %.3f, $p$ = %f\" % (stat, p))\n",
    "if(p > 0.05):\n",
    "    printMarkdown(title + \" Berdistribusi Normal**\")\n",
    "else:\n",
    "    printMarkdown(title + \" Tidak Berdistribusi Normal**\")"
   ]
  },
  {
   "cell_type": "markdown",
   "metadata": {},
   "source": [
    "***\n",
    "```\n",
    "\n",
    "```"
   ]
  },
  {
   "cell_type": "markdown",
   "metadata": {},
   "source": [
    "#### Target"
   ]
  },
  {
   "cell_type": "code",
   "execution_count": 44,
   "metadata": {
    "scrolled": true
   },
   "outputs": [
    {
     "name": "stderr",
     "output_type": "stream",
     "text": [
      "C:\\Users\\Tanur Rizal\\AppData\\Local\\Programs\\Python\\Python37-32\\lib\\site-packages\\seaborn\\distributions.py:2557: FutureWarning: `distplot` is a deprecated function and will be removed in a future version. Please adapt your code to use either `displot` (a figure-level function with similar flexibility) or `histplot` (an axes-level function for histograms).\n",
      "  warnings.warn(msg, FutureWarning)\n"
     ]
    },
    {
     "data": {
      "text/plain": [
       "<AxesSubplot:xlabel='Target', ylabel='Density'>"
      ]
     },
     "execution_count": 44,
     "metadata": {},
     "output_type": "execute_result"
    },
    {
     "data": {
      "image/png": "[encoded data removed]",
      "text/plain": [
       "<Figure size 432x288 with 1 Axes>"
      ]
     },
     "metadata": {
      "needs_background": "light"
     },
     "output_type": "display_data"
    }
   ],
   "source": [
    "sns.distplot(dataset[\"Target\"])"
   ]
  },
  {
   "cell_type": "code",
   "execution_count": 45,
   "metadata": {},
   "outputs": [
    {
     "data": {
      "text/markdown": [
       "D’Agostino’s Test - stat = 2069.995, $p$ = 0.000000"
      ],
      "text/plain": [
       "<IPython.core.display.Markdown object>"
      ]
     },
     "metadata": {},
     "output_type": "display_data"
    },
    {
     "data": {
      "text/markdown": [
       "**Target Tidak Berdistribusi Normal**"
      ],
      "text/plain": [
       "<IPython.core.display.Markdown object>"
      ]
     },
     "metadata": {},
     "output_type": "display_data"
    }
   ],
   "source": [
    "title = \"**Target\"\n",
    "stat, p = normaltest(dataset[\"Target\"])\n",
    "printMarkdown(\"D’Agostino’s Test - stat = %.3f, $p$ = %f\" % (stat, p))\n",
    "if(p > 0.05):\n",
    "    printMarkdown(title + \" Berdistribusi Normal**\")\n",
    "else:\n",
    "    printMarkdown(title + \" Tidak Berdistribusi Normal**\")"
   ]
  },
  {
   "cell_type": "markdown",
   "metadata": {},
   "source": [
    "***\n",
    "```\n",
    "\n",
    "\n",
    "\n",
    "\n",
    "\n",
    "\n",
    "```"
   ]
  },
  {
   "cell_type": "markdown",
   "metadata": {},
   "source": [
    "### 4.4. Melakukan test hipotesis 1 sampel dan menuliskan 6 langkah testing \n",
    "Menampilkan juga boxplotnya untuk kolom / bagian yang bersesuaian.\n",
    "1. Nilai rata-rata Daerah diatas $4700$?\n",
    "2. Nilai rata-rata Sumbu Utama tidak sama dengan $116$?\n",
    "3. Nilai rata-rata $20$ baris pertama kolom Sumbu Kecil bukan $50$?\n",
    "4. Proporsi nilai Diameter yang lebih dari $85$, adalah tidak sama dengan $15\\%$ ?\n",
    "5. Proporsi nilai Keliling yang kurang dari $100$, adalah kurang dari $5\\%$ ?"
   ]
  },
  {
   "cell_type": "markdown",
   "metadata": {},
   "source": [
    "***"
   ]
  },
  {
   "cell_type": "markdown",
   "metadata": {},
   "source": [
    "#### 4.4.1. Nilai rata-rata daerah diatas 4700?"
   ]
  },
  {
   "cell_type": "markdown",
   "metadata": {},
   "source": [
    "Boxplot dari daerah"
   ]
  },
  {
   "cell_type": "code",
   "execution_count": 46,
   "metadata": {},
   "outputs": [
    {
     "data": {
      "text/plain": [
       "<AxesSubplot:>"
      ]
     },
     "execution_count": 46,
     "metadata": {},
     "output_type": "execute_result"
    },
    {
     "data": {
      "image/png": "[encoded data removed]",
      "text/plain": [
       "<Figure size 432x288 with 1 Axes>"
      ]
     },
     "metadata": {
      "needs_background": "light"
     },
     "output_type": "display_data"
    }
   ],
   "source": [
    "dataset.boxplot([\"Daerah\"])"
   ]
  },
  {
   "cell_type": "markdown",
   "metadata": {},
   "source": [
    "1. **Hipotesis nol**\n",
    "\n",
    "$H_0 : \\mu_{daerah} = 4700$\n",
    "\n",
    "2. **Hipotesis alternatif**\n",
    "\n",
    "$H_1 : \\mu_{daerah} > 4700$\n",
    "\n",
    "3. **Tingkat signifikan**\n",
    "\n",
    "$\\alpha = 0.05$\n",
    "\n",
    "4. **Penentuan uji statistik dan daerah kritis**\n",
    "\n",
    "Diasumsikan kolom Daerah menuruti distribusi normal, dengan menggunakan nilai $\\alpha$ yang lebih rendah untuk [normality test](#4.3.-Menentukan-setiap-kolom-numerik-berdistribusi-normal-atau-tidak). \n",
    "\n",
    "Karena kolom Daerah berdistribusi normal, dapat dilihat pada tabel distribusi normal untuk mendapatkan daerah kritis. Hipotesis yang diinginkan merupakan **one-tailed**.\n",
    "\n",
    "![ztable](other/img/ztable.png)\n",
    "\n",
    "Pada tabel terlihat $z$ bernilai sekitar $1.65$ untuk mendapatkan nilai kisaran $0.9505$.\n",
    "Sehingga daerah kritis bernilai kisaran $c > 1.65$ untuk mendapatkan nilai $\\alpha = 1 - 0.9505$ dan memenuhi hipotesis alternatif ($H_1 : \\mu_{daerah} > 4700$).\n",
    "\n",
    "5. **Perhitungan uji statistik dan $p$-value**\n",
    "\n",
    "Berdasarkan statistik yang didapat pada [jawaban nomor pertama](#4.1.-Menulis-deskripsi-statistika-(Descriptive-Statistics)) didapatkan nilai $\\sigma, \\, \\bar{x}, \\, n$. Nilai $p$-value dihitung berdasarkan nilai uji statistik $z$.\n",
    "\n",
    "$z = \\Large\\frac{\\bar{x}-\\mu_0}{\\sigma / \\sqrt{n}}, \\, \\normalsize\\bar{x} = 4801.246000, \\, \\sigma = 986.395491, \\, n = 500$\n",
    "\n",
    "$z = \\Large\\frac{4801.246000-4700}{986.395491/\\sqrt{500}}$"
   ]
  },
  {
   "cell_type": "code",
   "execution_count": 47,
   "metadata": {},
   "outputs": [
    {
     "data": {
      "text/markdown": [
       "$z = 2.2951538253731125$"
      ],
      "text/plain": [
       "<IPython.core.display.Markdown object>"
      ]
     },
     "metadata": {},
     "output_type": "display_data"
    }
   ],
   "source": [
    "z = (4801.246-4700)/(986.395491/(500)**(0.5))\n",
    "printMarkdown(f\"$z = {z}$\")"
   ]
  },
  {
   "cell_type": "markdown",
   "metadata": {},
   "source": [
    "6. **Keputusan**\n",
    "\n",
    "Nilai $z$ yang dihitung dari uji statistik menunjukan bahwa $z > c$ sehingga nilai uji terletak pada daerah kritis dan hipotesis nol ($H_0 : \\mu = 4700$) **dapat ditolak**."
   ]
  },
  {
   "cell_type": "markdown",
   "metadata": {},
   "source": [
    "***\n",
    "```\n",
    "\n",
    "```"
   ]
  },
  {
   "cell_type": "markdown",
   "metadata": {},
   "source": [
    "#### 4.4.2. Nilai rata-rata Sumbu Utama tidak sama dengan 116?"
   ]
  },
  {
   "cell_type": "code",
   "execution_count": 48,
   "metadata": {},
   "outputs": [
    {
     "data": {
      "text/plain": [
       "<AxesSubplot:>"
      ]
     },
     "execution_count": 48,
     "metadata": {},
     "output_type": "execute_result"
    },
    {
     "data": {
      "image/png": "[encoded data removed]",
      "text/plain": [
       "<Figure size 432x288 with 1 Axes>"
      ]
     },
     "metadata": {
      "needs_background": "light"
     },
     "output_type": "display_data"
    }
   ],
   "source": [
    "dataset.boxplot([\"SumbuUtama\"])"
   ]
  },
  {
   "cell_type": "markdown",
   "metadata": {},
   "source": [
    "1. **Hipotesis nol**\n",
    "\n",
    "$H_0 : \\mu_{sumbu\\, utama} = 116$\n",
    "\n",
    "2. **Hipotesis alternatif**\n",
    "\n",
    "$H_1 : \\mu_{sumbu\\, utama} \\neq 116$\n",
    "\n",
    "3. **Tingkat signifikan**\n",
    "\n",
    "$\\alpha = 0.05$\n",
    "\n",
    "4. **Penentuan uji statistik dan daerah kritis**\n",
    "\n",
    "Diasumsikan kolom SumbuUtama menuruti distribusi normal, dengan mengabaikan salah satu outlier yang terlihat pada [boxplot](#4.4.2.-Nilai-rata-rata-Sumbu-Utama-tidak-sama-dengan-116?).\n",
    "\n",
    "Karena kolom SumbuUtama berdistribusi normal, dapat dilihat pada tabel distribusi normal untuk mendapatkan daerah kritis. Hipotesis yang diinginkan merupakan **two-tailed** dikarenakan tidak sama dengan hipotesis nol.\n",
    "\n",
    "![ztable](other/img/ztable.png)\n",
    "\n",
    "Pada tabel terlihat $z$ bernilai sekitar $1.96$ untuk mendapatkan nilai kisaran $0.975$.\n",
    "Sehingga daerah kritis terletak kisaran $c > 1.96$ atau $c < -1.96$ untuk mendapatkan nilai $\\alpha = 2(1 - 0.975)$ dan memenuhi hipotesis alternatif ($H_1 : \\mu_{sumbu\\, utama} \\neq 116$).\n",
    "\n",
    "5. **Perhitungan uji statistik dan $p$-value**\n",
    "\n",
    "Berdasarkan statistik yang didapat pada [jawaban nomor pertama](#4.1.-Menulis-deskripsi-statistika-(Descriptive-Statistics)) didapatkan nilai $\\sigma, \\, \\bar{x}, \\, n$. Nilai $p$-value dihitung berdasarkan nilai uji statistik $z$.\n",
    "\n",
    "$z = \\Large\\frac{\\bar{x}-\\mu_0}{\\sigma / \\sqrt{n}}, \\, \\normalsize\\bar{x} = 116.045171, \\, \\sigma = 18.282626, \\, n = 500$\n",
    "\n",
    "$z = \\Large\\frac{116.045171-116}{18.282626/\\sqrt{500}}$"
   ]
  },
  {
   "cell_type": "code",
   "execution_count": 49,
   "metadata": {},
   "outputs": [
    {
     "data": {
      "text/markdown": [
       "$z = 0.055246673323424506$"
      ],
      "text/plain": [
       "<IPython.core.display.Markdown object>"
      ]
     },
     "metadata": {},
     "output_type": "display_data"
    }
   ],
   "source": [
    "z = (116.045171-116)/(18.282626/(500)**(0.5))\n",
    "printMarkdown(f\"$z = {z}$\")"
   ]
  },
  {
   "cell_type": "markdown",
   "metadata": {},
   "source": [
    "6. **Keputusan**\n",
    "\n",
    "Nilai $z$ yang dihitung dari uji statistik menunjukan bahwa $z$ tidak terletak pada daerah kritis dan hipotesis nol ($H_0 : \\mu_{sumbu\\, utama} = 116$) **gagal untuk ditolak**."
   ]
  },
  {
   "cell_type": "markdown",
   "metadata": {},
   "source": [
    "***\n",
    "```\n",
    "\n",
    "```"
   ]
  },
  {
   "cell_type": "markdown",
   "metadata": {},
   "source": [
    "#### 4.4.3. Nilai rata-rata 20 baris pertama kolom Sumbu Kecil bukan 50?"
   ]
  },
  {
   "cell_type": "markdown",
   "metadata": {},
   "source": [
    "Boxplot untuk kolom SumbuKecil dan seluruh data pada dataset"
   ]
  },
  {
   "cell_type": "code",
   "execution_count": 50,
   "metadata": {},
   "outputs": [
    {
     "data": {
      "text/plain": [
       "<AxesSubplot:>"
      ]
     },
     "execution_count": 50,
     "metadata": {},
     "output_type": "execute_result"
    },
    {
     "data": {
      "image/png": "[encoded data removed]",
      "text/plain": [
       "<Figure size 432x288 with 1 Axes>"
      ]
     },
     "metadata": {
      "needs_background": "light"
     },
     "output_type": "display_data"
    }
   ],
   "source": [
    "dataset.boxplot([\"SumbuKecil\"])"
   ]
  },
  {
   "cell_type": "markdown",
   "metadata": {},
   "source": [
    "1. **Hipotesis nol**\n",
    "\n",
    "$H_0 : \\mu_{20\\, baris\\, pertama\\, sumbu\\, kecil} = 50$\n",
    "\n",
    "2. **Hipotesis alternatif**\n",
    "\n",
    "$H_1 : \\mu_{20\\, baris\\, pertama\\, sumbu\\, kecil} \\neq 50$\n",
    "\n",
    "3. **Tingkat signifikan**\n",
    "\n",
    "$\\alpha = 0.05$\n",
    "\n",
    "4. **Penentuan uji statistik dan daerah kritis**\n",
    "\n",
    "Diasumsikan kolom SumbuKecil menuruti distribusi normal mengikuti hasil [normality test](#4.3.-Menentukan-setiap-kolom-numerik-berdistribusi-normal-atau-tidak).\n",
    "\n",
    "Karena kolom SumbuKecil berdistribusi normal, dapat dilihat pada tabel distribusi normal untuk mendapatkan daerah kritis. Hipotesis yang diinginkan merupakan **two-tailed** dikarenakan tidak sama dengan hipotesis nol.\n",
    "\n",
    "![ztable](other/img/ztable.png)\n",
    "\n",
    "Pada tabel terlihat $z$ bernilai sekitar $1.96$ untuk mendapatkan nilai kisaran $0.975$.\n",
    "Sehingga daerah kritis terletak kisaran $c > 1.96$ atau $c < -1.96$ untuk mendapatkan nilai $\\alpha = 2(1 - 0.975)$ dan memenuhi hipotesis alternatif ($H_1 : \\mu_{20\\, baris\\, pertama\\, sumbu\\, kecil} \\neq 50$).\n",
    "\n",
    "5. **Perhitungan uji statistik dan $p$-value**\n",
    "\n",
    "Nilai $p$-value dihitung berdasarkan nilai uji statistik $z$.\n",
    "\n",
    "Berikut adalah $20$ baris pertama dari dataset Gandum.csv"
   ]
  },
  {
   "cell_type": "code",
   "execution_count": 51,
   "metadata": {},
   "outputs": [
    {
     "data": {
      "text/html": [
       "<div>\n",
       "<style scoped>\n",
       "    .dataframe tbody tr th:only-of-type {\n",
       "        vertical-align: middle;\n",
       "    }\n",
       "\n",
       "    .dataframe tbody tr th {\n",
       "        vertical-align: top;\n",
       "    }\n",
       "\n",
       "    .dataframe thead th {\n",
       "        text-align: right;\n",
       "    }\n",
       "</style>\n",
       "<table border=\"1\" class=\"dataframe\">\n",
       "  <thead>\n",
       "    <tr style=\"text-align: right;\">\n",
       "      <th></th>\n",
       "      <th>ID</th>\n",
       "      <th>Daerah</th>\n",
       "      <th>SumbuUtama</th>\n",
       "      <th>SumbuKecil</th>\n",
       "      <th>Keunikan</th>\n",
       "      <th>AreaBulatan</th>\n",
       "      <th>Diameter</th>\n",
       "      <th>KadarAir</th>\n",
       "      <th>Keliling</th>\n",
       "      <th>Bulatan</th>\n",
       "      <th>Ransum</th>\n",
       "      <th>Target</th>\n",
       "    </tr>\n",
       "  </thead>\n",
       "  <tbody>\n",
       "    <tr>\n",
       "      <th>0</th>\n",
       "      <td>1</td>\n",
       "      <td>5781</td>\n",
       "      <td>128.288875</td>\n",
       "      <td>58.470846</td>\n",
       "      <td>0.890095</td>\n",
       "      <td>5954</td>\n",
       "      <td>85.793926</td>\n",
       "      <td>0.674090</td>\n",
       "      <td>316.756</td>\n",
       "      <td>0.724041</td>\n",
       "      <td>2.194066</td>\n",
       "      <td>1</td>\n",
       "    </tr>\n",
       "    <tr>\n",
       "      <th>1</th>\n",
       "      <td>2</td>\n",
       "      <td>4176</td>\n",
       "      <td>109.348294</td>\n",
       "      <td>49.837688</td>\n",
       "      <td>0.890098</td>\n",
       "      <td>4277</td>\n",
       "      <td>72.918093</td>\n",
       "      <td>0.596231</td>\n",
       "      <td>260.346</td>\n",
       "      <td>0.774227</td>\n",
       "      <td>2.194088</td>\n",
       "      <td>1</td>\n",
       "    </tr>\n",
       "    <tr>\n",
       "      <th>2</th>\n",
       "      <td>3</td>\n",
       "      <td>4555</td>\n",
       "      <td>114.427991</td>\n",
       "      <td>52.151207</td>\n",
       "      <td>0.890105</td>\n",
       "      <td>4706</td>\n",
       "      <td>76.155145</td>\n",
       "      <td>0.776641</td>\n",
       "      <td>279.606</td>\n",
       "      <td>0.732159</td>\n",
       "      <td>2.194158</td>\n",
       "      <td>1</td>\n",
       "    </tr>\n",
       "    <tr>\n",
       "      <th>3</th>\n",
       "      <td>4</td>\n",
       "      <td>4141</td>\n",
       "      <td>108.701190</td>\n",
       "      <td>49.457349</td>\n",
       "      <td>0.890499</td>\n",
       "      <td>4236</td>\n",
       "      <td>72.611879</td>\n",
       "      <td>0.633180</td>\n",
       "      <td>260.478</td>\n",
       "      <td>0.766961</td>\n",
       "      <td>2.197877</td>\n",
       "      <td>1</td>\n",
       "    </tr>\n",
       "    <tr>\n",
       "      <th>4</th>\n",
       "      <td>5</td>\n",
       "      <td>5273</td>\n",
       "      <td>122.747868</td>\n",
       "      <td>55.757848</td>\n",
       "      <td>0.890876</td>\n",
       "      <td>5431</td>\n",
       "      <td>81.937733</td>\n",
       "      <td>0.669842</td>\n",
       "      <td>302.730</td>\n",
       "      <td>0.723031</td>\n",
       "      <td>2.201446</td>\n",
       "      <td>1</td>\n",
       "    </tr>\n",
       "    <tr>\n",
       "      <th>5</th>\n",
       "      <td>6</td>\n",
       "      <td>5371</td>\n",
       "      <td>123.943530</td>\n",
       "      <td>56.235398</td>\n",
       "      <td>0.891145</td>\n",
       "      <td>5531</td>\n",
       "      <td>82.695644</td>\n",
       "      <td>0.734144</td>\n",
       "      <td>297.114</td>\n",
       "      <td>0.764573</td>\n",
       "      <td>2.204013</td>\n",
       "      <td>1</td>\n",
       "    </tr>\n",
       "    <tr>\n",
       "      <th>6</th>\n",
       "      <td>7</td>\n",
       "      <td>6332</td>\n",
       "      <td>135.249060</td>\n",
       "      <td>61.312148</td>\n",
       "      <td>0.891344</td>\n",
       "      <td>6528</td>\n",
       "      <td>89.789492</td>\n",
       "      <td>0.579747</td>\n",
       "      <td>328.799</td>\n",
       "      <td>0.736020</td>\n",
       "      <td>2.205910</td>\n",
       "      <td>1</td>\n",
       "    </tr>\n",
       "    <tr>\n",
       "      <th>7</th>\n",
       "      <td>8</td>\n",
       "      <td>5595</td>\n",
       "      <td>126.292008</td>\n",
       "      <td>57.238214</td>\n",
       "      <td>0.891398</td>\n",
       "      <td>5745</td>\n",
       "      <td>84.402460</td>\n",
       "      <td>0.621046</td>\n",
       "      <td>303.285</td>\n",
       "      <td>0.764378</td>\n",
       "      <td>2.206428</td>\n",
       "      <td>1</td>\n",
       "    </tr>\n",
       "    <tr>\n",
       "      <th>8</th>\n",
       "      <td>9</td>\n",
       "      <td>4664</td>\n",
       "      <td>115.859780</td>\n",
       "      <td>52.493440</td>\n",
       "      <td>0.891471</td>\n",
       "      <td>4826</td>\n",
       "      <td>77.060945</td>\n",
       "      <td>0.712170</td>\n",
       "      <td>282.980</td>\n",
       "      <td>0.731909</td>\n",
       "      <td>2.207129</td>\n",
       "      <td>1</td>\n",
       "    </tr>\n",
       "    <tr>\n",
       "      <th>9</th>\n",
       "      <td>10</td>\n",
       "      <td>5762</td>\n",
       "      <td>128.482339</td>\n",
       "      <td>58.165177</td>\n",
       "      <td>0.891658</td>\n",
       "      <td>5932</td>\n",
       "      <td>85.652824</td>\n",
       "      <td>0.659872</td>\n",
       "      <td>312.678</td>\n",
       "      <td>0.740608</td>\n",
       "      <td>2.208922</td>\n",
       "      <td>1</td>\n",
       "    </tr>\n",
       "    <tr>\n",
       "      <th>10</th>\n",
       "      <td>11</td>\n",
       "      <td>4249</td>\n",
       "      <td>110.453134</td>\n",
       "      <td>49.993830</td>\n",
       "      <td>0.891701</td>\n",
       "      <td>4325</td>\n",
       "      <td>73.552667</td>\n",
       "      <td>0.833791</td>\n",
       "      <td>261.568</td>\n",
       "      <td>0.780418</td>\n",
       "      <td>2.209335</td>\n",
       "      <td>1</td>\n",
       "    </tr>\n",
       "    <tr>\n",
       "      <th>11</th>\n",
       "      <td>12</td>\n",
       "      <td>4544</td>\n",
       "      <td>115.413536</td>\n",
       "      <td>52.229608</td>\n",
       "      <td>0.891742</td>\n",
       "      <td>4763</td>\n",
       "      <td>76.063135</td>\n",
       "      <td>0.738142</td>\n",
       "      <td>282.086</td>\n",
       "      <td>0.717604</td>\n",
       "      <td>2.209734</td>\n",
       "      <td>1</td>\n",
       "    </tr>\n",
       "    <tr>\n",
       "      <th>12</th>\n",
       "      <td>13</td>\n",
       "      <td>4204</td>\n",
       "      <td>111.323671</td>\n",
       "      <td>50.306969</td>\n",
       "      <td>0.892070</td>\n",
       "      <td>4355</td>\n",
       "      <td>73.162142</td>\n",
       "      <td>0.502630</td>\n",
       "      <td>273.607</td>\n",
       "      <td>0.705697</td>\n",
       "      <td>2.212888</td>\n",
       "      <td>1</td>\n",
       "    </tr>\n",
       "    <tr>\n",
       "      <th>13</th>\n",
       "      <td>14</td>\n",
       "      <td>5258</td>\n",
       "      <td>123.108456</td>\n",
       "      <td>55.628979</td>\n",
       "      <td>0.892084</td>\n",
       "      <td>5429</td>\n",
       "      <td>81.821107</td>\n",
       "      <td>0.652357</td>\n",
       "      <td>297.503</td>\n",
       "      <td>0.746531</td>\n",
       "      <td>2.213027</td>\n",
       "      <td>1</td>\n",
       "    </tr>\n",
       "    <tr>\n",
       "      <th>14</th>\n",
       "      <td>15</td>\n",
       "      <td>5580</td>\n",
       "      <td>227.105462</td>\n",
       "      <td>57.264375</td>\n",
       "      <td>0.892763</td>\n",
       "      <td>5773</td>\n",
       "      <td>84.289244</td>\n",
       "      <td>0.669868</td>\n",
       "      <td>311.868</td>\n",
       "      <td>0.720945</td>\n",
       "      <td>2.219625</td>\n",
       "      <td>1</td>\n",
       "    </tr>\n",
       "    <tr>\n",
       "      <th>15</th>\n",
       "      <td>16</td>\n",
       "      <td>5753</td>\n",
       "      <td>227.928583</td>\n",
       "      <td>57.617554</td>\n",
       "      <td>0.892833</td>\n",
       "      <td>5889</td>\n",
       "      <td>85.585905</td>\n",
       "      <td>0.639222</td>\n",
       "      <td>310.522</td>\n",
       "      <td>0.749755</td>\n",
       "      <td>2.220306</td>\n",
       "      <td>1</td>\n",
       "    </tr>\n",
       "    <tr>\n",
       "      <th>16</th>\n",
       "      <td>17</td>\n",
       "      <td>5471</td>\n",
       "      <td>125.838427</td>\n",
       "      <td>56.655597</td>\n",
       "      <td>0.892915</td>\n",
       "      <td>5769</td>\n",
       "      <td>83.461929</td>\n",
       "      <td>0.566356</td>\n",
       "      <td>322.299</td>\n",
       "      <td>0.661849</td>\n",
       "      <td>2.221112</td>\n",
       "      <td>1</td>\n",
       "    </tr>\n",
       "    <tr>\n",
       "      <th>17</th>\n",
       "      <td>18</td>\n",
       "      <td>4881</td>\n",
       "      <td>119.934592</td>\n",
       "      <td>53.990675</td>\n",
       "      <td>0.892944</td>\n",
       "      <td>5112</td>\n",
       "      <td>78.833256</td>\n",
       "      <td>0.508226</td>\n",
       "      <td>299.044</td>\n",
       "      <td>0.685881</td>\n",
       "      <td>2.221395</td>\n",
       "      <td>1</td>\n",
       "    </tr>\n",
       "    <tr>\n",
       "      <th>18</th>\n",
       "      <td>19</td>\n",
       "      <td>5576</td>\n",
       "      <td>126.644353</td>\n",
       "      <td>56.984844</td>\n",
       "      <td>0.893049</td>\n",
       "      <td>5689</td>\n",
       "      <td>84.259027</td>\n",
       "      <td>0.569852</td>\n",
       "      <td>302.164</td>\n",
       "      <td>0.767445</td>\n",
       "      <td>2.222422</td>\n",
       "      <td>1</td>\n",
       "    </tr>\n",
       "    <tr>\n",
       "      <th>19</th>\n",
       "      <td>20</td>\n",
       "      <td>5349</td>\n",
       "      <td>124.449693</td>\n",
       "      <td>55.953780</td>\n",
       "      <td>0.893225</td>\n",
       "      <td>5464</td>\n",
       "      <td>82.526107</td>\n",
       "      <td>0.670301</td>\n",
       "      <td>298.048</td>\n",
       "      <td>0.756676</td>\n",
       "      <td>2.224152</td>\n",
       "      <td>1</td>\n",
       "    </tr>\n",
       "  </tbody>\n",
       "</table>\n",
       "</div>"
      ],
      "text/plain": [
       "    ID  Daerah  SumbuUtama  SumbuKecil  Keunikan  AreaBulatan   Diameter  \\\n",
       "0    1    5781  128.288875   58.470846  0.890095         5954  85.793926   \n",
       "1    2    4176  109.348294   49.837688  0.890098         4277  72.918093   \n",
       "2    3    4555  114.427991   52.151207  0.890105         4706  76.155145   \n",
       "3    4    4141  108.701190   49.457349  0.890499         4236  72.611879   \n",
       "4    5    5273  122.747868   55.757848  0.890876         5431  81.937733   \n",
       "5    6    5371  123.943530   56.235398  0.891145         5531  82.695644   \n",
       "6    7    6332  135.249060   61.312148  0.891344         6528  89.789492   \n",
       "7    8    5595  126.292008   57.238214  0.891398         5745  84.402460   \n",
       "8    9    4664  115.859780   52.493440  0.891471         4826  77.060945   \n",
       "9   10    5762  128.482339   58.165177  0.891658         5932  85.652824   \n",
       "10  11    4249  110.453134   49.993830  0.891701         4325  73.552667   \n",
       "11  12    4544  115.413536   52.229608  0.891742         4763  76.063135   \n",
       "12  13    4204  111.323671   50.306969  0.892070         4355  73.162142   \n",
       "13  14    5258  123.108456   55.628979  0.892084         5429  81.821107   \n",
       "14  15    5580  227.105462   57.264375  0.892763         5773  84.289244   \n",
       "15  16    5753  227.928583   57.617554  0.892833         5889  85.585905   \n",
       "16  17    5471  125.838427   56.655597  0.892915         5769  83.461929   \n",
       "17  18    4881  119.934592   53.990675  0.892944         5112  78.833256   \n",
       "18  19    5576  126.644353   56.984844  0.893049         5689  84.259027   \n",
       "19  20    5349  124.449693   55.953780  0.893225         5464  82.526107   \n",
       "\n",
       "    KadarAir  Keliling   Bulatan    Ransum  Target  \n",
       "0   0.674090   316.756  0.724041  2.194066       1  \n",
       "1   0.596231   260.346  0.774227  2.194088       1  \n",
       "2   0.776641   279.606  0.732159  2.194158       1  \n",
       "3   0.633180   260.478  0.766961  2.197877       1  \n",
       "4   0.669842   302.730  0.723031  2.201446       1  \n",
       "5   0.734144   297.114  0.764573  2.204013       1  \n",
       "6   0.579747   328.799  0.736020  2.205910       1  \n",
       "7   0.621046   303.285  0.764378  2.206428       1  \n",
       "8   0.712170   282.980  0.731909  2.207129       1  \n",
       "9   0.659872   312.678  0.740608  2.208922       1  \n",
       "10  0.833791   261.568  0.780418  2.209335       1  \n",
       "11  0.738142   282.086  0.717604  2.209734       1  \n",
       "12  0.502630   273.607  0.705697  2.212888       1  \n",
       "13  0.652357   297.503  0.746531  2.213027       1  \n",
       "14  0.669868   311.868  0.720945  2.219625       1  \n",
       "15  0.639222   310.522  0.749755  2.220306       1  \n",
       "16  0.566356   322.299  0.661849  2.221112       1  \n",
       "17  0.508226   299.044  0.685881  2.221395       1  \n",
       "18  0.569852   302.164  0.767445  2.222422       1  \n",
       "19  0.670301   298.048  0.756676  2.224152       1  "
      ]
     },
     "metadata": {},
     "output_type": "display_data"
    }
   ],
   "source": [
    "display(dataset.loc[:19])"
   ]
  },
  {
   "cell_type": "markdown",
   "metadata": {},
   "source": [
    "Berikut adalah descriptive statistics dan boxplot untuk $20$ baris pertama dataset Gandum.csv"
   ]
  },
  {
   "cell_type": "code",
   "execution_count": 52,
   "metadata": {
    "scrolled": true
   },
   "outputs": [
    {
     "data": {
      "text/html": [
       "<div>\n",
       "<style scoped>\n",
       "    .dataframe tbody tr th:only-of-type {\n",
       "        vertical-align: middle;\n",
       "    }\n",
       "\n",
       "    .dataframe tbody tr th {\n",
       "        vertical-align: top;\n",
       "    }\n",
       "\n",
       "    .dataframe thead th {\n",
       "        text-align: right;\n",
       "    }\n",
       "</style>\n",
       "<table border=\"1\" class=\"dataframe\">\n",
       "  <thead>\n",
       "    <tr style=\"text-align: right;\">\n",
       "      <th></th>\n",
       "      <th>ID</th>\n",
       "      <th>Daerah</th>\n",
       "      <th>SumbuUtama</th>\n",
       "      <th>SumbuKecil</th>\n",
       "      <th>Keunikan</th>\n",
       "      <th>AreaBulatan</th>\n",
       "      <th>Diameter</th>\n",
       "      <th>KadarAir</th>\n",
       "      <th>Keliling</th>\n",
       "      <th>Bulatan</th>\n",
       "      <th>Ransum</th>\n",
       "      <th>Target</th>\n",
       "    </tr>\n",
       "  </thead>\n",
       "  <tbody>\n",
       "    <tr>\n",
       "      <th>count</th>\n",
       "      <td>20.00000</td>\n",
       "      <td>20.000000</td>\n",
       "      <td>20.000000</td>\n",
       "      <td>20.000000</td>\n",
       "      <td>20.000000</td>\n",
       "      <td>20.00000</td>\n",
       "      <td>20.000000</td>\n",
       "      <td>20.000000</td>\n",
       "      <td>20.000000</td>\n",
       "      <td>20.000000</td>\n",
       "      <td>20.000000</td>\n",
       "      <td>20.0</td>\n",
       "    </tr>\n",
       "    <tr>\n",
       "      <th>mean</th>\n",
       "      <td>10.50000</td>\n",
       "      <td>5125.750000</td>\n",
       "      <td>131.277042</td>\n",
       "      <td>54.887276</td>\n",
       "      <td>0.891701</td>\n",
       "      <td>5286.70000</td>\n",
       "      <td>80.628633</td>\n",
       "      <td>0.650385</td>\n",
       "      <td>295.174050</td>\n",
       "      <td>0.737535</td>\n",
       "      <td>2.209402</td>\n",
       "      <td>1.0</td>\n",
       "    </tr>\n",
       "    <tr>\n",
       "      <th>std</th>\n",
       "      <td>5.91608</td>\n",
       "      <td>649.195687</td>\n",
       "      <td>33.714806</td>\n",
       "      <td>3.373880</td>\n",
       "      <td>0.001033</td>\n",
       "      <td>669.21408</td>\n",
       "      <td>5.163754</td>\n",
       "      <td>0.084203</td>\n",
       "      <td>20.430432</td>\n",
       "      <td>0.030385</td>\n",
       "      <td>0.009922</td>\n",
       "      <td>0.0</td>\n",
       "    </tr>\n",
       "    <tr>\n",
       "      <th>min</th>\n",
       "      <td>1.00000</td>\n",
       "      <td>4141.000000</td>\n",
       "      <td>108.701190</td>\n",
       "      <td>49.457349</td>\n",
       "      <td>0.890095</td>\n",
       "      <td>4236.00000</td>\n",
       "      <td>72.611879</td>\n",
       "      <td>0.502630</td>\n",
       "      <td>260.346000</td>\n",
       "      <td>0.661849</td>\n",
       "      <td>2.194066</td>\n",
       "      <td>1.0</td>\n",
       "    </tr>\n",
       "    <tr>\n",
       "      <th>25%</th>\n",
       "      <td>5.75000</td>\n",
       "      <td>4552.250000</td>\n",
       "      <td>115.167150</td>\n",
       "      <td>52.210008</td>\n",
       "      <td>0.891078</td>\n",
       "      <td>4748.75000</td>\n",
       "      <td>76.132143</td>\n",
       "      <td>0.592110</td>\n",
       "      <td>281.466000</td>\n",
       "      <td>0.722509</td>\n",
       "      <td>2.203371</td>\n",
       "      <td>1.0</td>\n",
       "    </tr>\n",
       "    <tr>\n",
       "      <th>50%</th>\n",
       "      <td>10.50000</td>\n",
       "      <td>5311.000000</td>\n",
       "      <td>123.525993</td>\n",
       "      <td>55.855814</td>\n",
       "      <td>0.891680</td>\n",
       "      <td>5447.50000</td>\n",
       "      <td>82.231920</td>\n",
       "      <td>0.656115</td>\n",
       "      <td>298.546000</td>\n",
       "      <td>0.738314</td>\n",
       "      <td>2.209129</td>\n",
       "      <td>1.0</td>\n",
       "    </tr>\n",
       "    <tr>\n",
       "      <th>75%</th>\n",
       "      <td>15.25000</td>\n",
       "      <td>5583.750000</td>\n",
       "      <td>127.055483</td>\n",
       "      <td>57.244755</td>\n",
       "      <td>0.892780</td>\n",
       "      <td>5770.00000</td>\n",
       "      <td>84.317548</td>\n",
       "      <td>0.683610</td>\n",
       "      <td>310.858500</td>\n",
       "      <td>0.764427</td>\n",
       "      <td>2.219795</td>\n",
       "      <td>1.0</td>\n",
       "    </tr>\n",
       "    <tr>\n",
       "      <th>max</th>\n",
       "      <td>20.00000</td>\n",
       "      <td>6332.000000</td>\n",
       "      <td>227.928583</td>\n",
       "      <td>61.312148</td>\n",
       "      <td>0.893225</td>\n",
       "      <td>6528.00000</td>\n",
       "      <td>89.789492</td>\n",
       "      <td>0.833791</td>\n",
       "      <td>328.799000</td>\n",
       "      <td>0.780418</td>\n",
       "      <td>2.224152</td>\n",
       "      <td>1.0</td>\n",
       "    </tr>\n",
       "  </tbody>\n",
       "</table>\n",
       "</div>"
      ],
      "text/plain": [
       "             ID       Daerah  SumbuUtama  SumbuKecil   Keunikan  AreaBulatan  \\\n",
       "count  20.00000    20.000000   20.000000   20.000000  20.000000     20.00000   \n",
       "mean   10.50000  5125.750000  131.277042   54.887276   0.891701   5286.70000   \n",
       "std     5.91608   649.195687   33.714806    3.373880   0.001033    669.21408   \n",
       "min     1.00000  4141.000000  108.701190   49.457349   0.890095   4236.00000   \n",
       "25%     5.75000  4552.250000  115.167150   52.210008   0.891078   4748.75000   \n",
       "50%    10.50000  5311.000000  123.525993   55.855814   0.891680   5447.50000   \n",
       "75%    15.25000  5583.750000  127.055483   57.244755   0.892780   5770.00000   \n",
       "max    20.00000  6332.000000  227.928583   61.312148   0.893225   6528.00000   \n",
       "\n",
       "        Diameter   KadarAir    Keliling    Bulatan     Ransum  Target  \n",
       "count  20.000000  20.000000   20.000000  20.000000  20.000000    20.0  \n",
       "mean   80.628633   0.650385  295.174050   0.737535   2.209402     1.0  \n",
       "std     5.163754   0.084203   20.430432   0.030385   0.009922     0.0  \n",
       "min    72.611879   0.502630  260.346000   0.661849   2.194066     1.0  \n",
       "25%    76.132143   0.592110  281.466000   0.722509   2.203371     1.0  \n",
       "50%    82.231920   0.656115  298.546000   0.738314   2.209129     1.0  \n",
       "75%    84.317548   0.683610  310.858500   0.764427   2.219795     1.0  \n",
       "max    89.789492   0.833791  328.799000   0.780418   2.224152     1.0  "
      ]
     },
     "metadata": {},
     "output_type": "display_data"
    }
   ],
   "source": [
    "display(dataset.loc[:19].describe())"
   ]
  },
  {
   "cell_type": "code",
   "execution_count": 53,
   "metadata": {},
   "outputs": [
    {
     "data": {
      "text/plain": [
       "<AxesSubplot:>"
      ]
     },
     "execution_count": 53,
     "metadata": {},
     "output_type": "execute_result"
    },
    {
     "data": {
      "image/png": "[encoded data removed]",
      "text/plain": [
       "<Figure size 432x288 with 1 Axes>"
      ]
     },
     "metadata": {
      "needs_background": "light"
     },
     "output_type": "display_data"
    }
   ],
   "source": [
    "dataset.loc[:19].boxplot([\"SumbuKecil\"])"
   ]
  },
  {
   "cell_type": "markdown",
   "metadata": {},
   "source": [
    "Nilai $\\bar{x}, \\, \\sigma, \\, n$ adalah\n",
    "\n",
    "$\\bar{x} = 54.887276, \\, \\sigma = 3.373880, \\, n = 20$"
   ]
  },
  {
   "cell_type": "markdown",
   "metadata": {},
   "source": [
    "$z = \\Large\\frac{\\bar{x}-\\mu_0}{\\sigma / \\sqrt{n}}, \\, \\normalsize$\n",
    "\n",
    "$z = \\Large\\frac{54.887276-50}{3.373880/\\sqrt{20}}$"
   ]
  },
  {
   "cell_type": "code",
   "execution_count": 54,
   "metadata": {},
   "outputs": [
    {
     "data": {
      "text/markdown": [
       "$z = 6.478168376352011$"
      ],
      "text/plain": [
       "<IPython.core.display.Markdown object>"
      ]
     },
     "metadata": {},
     "output_type": "display_data"
    }
   ],
   "source": [
    "z = (54.887276-50)/(3.373880/(20)**(0.5))\n",
    "printMarkdown(f\"$z = {z}$\")"
   ]
  },
  {
   "cell_type": "markdown",
   "metadata": {},
   "source": [
    "6. **Keputusan**\n",
    "\n",
    "Nilai $z$ yang dihitung dari uji statistik menunjukan bahwa $z$ terletak pada daerah kritis yakni $c > 1.96$ dan hipotesis nol ($H_0 : \\mu_{20\\, baris\\, pertama\\, sumbu\\, kecil} = 50$) **dapat ditolak**."
   ]
  },
  {
   "cell_type": "markdown",
   "metadata": {},
   "source": [
    "***\n",
    "```\n",
    "\n",
    "```"
   ]
  },
  {
   "cell_type": "markdown",
   "metadata": {},
   "source": [
    "##### 4.4.4. Proporsi nilai Diameter yang lebih dari 85, adalah tidak sama dengan 15% ?"
   ]
  },
  {
   "cell_type": "markdown",
   "metadata": {},
   "source": [
    "Boxplot kolom Diameter"
   ]
  },
  {
   "cell_type": "code",
   "execution_count": 55,
   "metadata": {},
   "outputs": [
    {
     "data": {
      "text/plain": [
       "<AxesSubplot:>"
      ]
     },
     "execution_count": 55,
     "metadata": {},
     "output_type": "execute_result"
    },
    {
     "data": {
      "image/png": "[encoded data removed]",
      "text/plain": [
       "<Figure size 432x288 with 1 Axes>"
      ]
     },
     "metadata": {
      "needs_background": "light"
     },
     "output_type": "display_data"
    }
   ],
   "source": [
    "dataset.boxplot([\"Diameter\"])"
   ]
  },
  {
   "cell_type": "code",
   "execution_count": 55,
   "metadata": {},
   "outputs": [
    {
     "data": {
      "text/plain": [
       "<AxesSubplot:>"
      ]
     },
     "execution_count": 55,
     "metadata": {},
     "output_type": "execute_result"
    },
    {
     "data": {
      "image/png": "[encoded data removed]",
      "text/plain": [
       "<Figure size 432x288 with 1 Axes>"
      ]
     },
     "metadata": {
      "needs_background": "light"
     },
     "output_type": "display_data"
    }
   ],
   "source": [
    "dataset.boxplot([\"Diameter\"])"
   ]
  },
  {
   "cell_type": "markdown",
   "metadata": {},
   "source": [
    "1. **Hipotesis nol**\n",
    "\n",
    "$X$ adalah variabel random Diameter.\n",
    "\n",
    "$H_0 : P(X > 85) = 0.15$\n",
    "\n",
    "2. **Hipotesis alternatif**\n",
    "\n",
    "$H_1 : P(X > 85) \\neq 0.15$\n",
    "\n",
    "3. **Tingkat signifikan**\n",
    "\n",
    "$\\alpha = 0.05$\n",
    "\n",
    "4. **Penentuan uji statistik dan daerah kritis**\n",
    "\n",
    "Diasumsikan kolom Diameter menuruti distribusi normal, dengan menggunakan nilai $\\alpha$ yang lebih rendah untuk [normality test](#4.3.-Menentukan-setiap-kolom-numerik-berdistribusi-normal-atau-tidak).\n",
    "\n",
    "Karena kolom Diameter berdistribusi normal, dapat dilihat pada tabel distribusi normal untuk mendapatkan nilai probabilitas. Hipotesis yang diinginkan merupakan **two-tailed** dikarenakan tidak sama dengan hipotesis nol.\n",
    "\n",
    "![ztable](other/img/ztable.png)\n",
    "\n",
    "\n",
    "Pada tabel terlihat $z$ bernilai sekitar $1.96$ untuk mendapatkan nilai kisaran $0.975$.\n",
    "Sehingga daerah kritis terletak kisaran $c > 1.96$ atau $c < -1.96$ untuk mendapatkan nilai $\\alpha = 2(1 - 0.975)$ dan memenuhi hipotesis alternatif ($H_1 : P(X > 85) \\neq 0.15$).\n",
    "\n",
    "Hipotesis nol akan didasarkan dengan nilai uji statistik $z_t$ masuk ke dalam daerah kritis atau tidak. Nilai uji statistik $z_t$ dapat dihitung dengan\n",
    "\n",
    "$z_t = \\Large\\frac{\\hat{p} - p_{\\normalsize0}}{\\sqrt{\\frac{p_{\\normalsize0}(1 - p_{\\normalsize0})}{n}}}$\n",
    "\n",
    "Dengan $p_0$ adalah nilai proporsi dari hipotesis nol dan $\\hat{p}$ adalah proporsi yang dihitung dari sampel.\n",
    "\n",
    "5. **Perhitungan uji statistik dan $p$-value**\n",
    "\n",
    "Berdasarkan statistik yang didapat pada [jawaban nomor pertama](#4.1.-Menulis-deskripsi-statistika-(Descriptive-Statistics)) didapatkan nilai $\\sigma, \\, \\mu, \\, n$.\n",
    "\n",
    "$z = \\Large\\frac{x-\\mu}{\\sigma}, \\, \\normalsize\\mu = 77.771158, \\, \\sigma = 8.056867, \\, n = 500$\n",
    "\n",
    "$z = \\Large\\frac{85-77.771158}{8.056867}$"
   ]
  },
  {
   "cell_type": "code",
   "execution_count": 56,
   "metadata": {},
   "outputs": [
    {
     "data": {
      "text/markdown": [
       "$z = 0.8972274210310286$"
      ],
      "text/plain": [
       "<IPython.core.display.Markdown object>"
      ]
     },
     "metadata": {},
     "output_type": "display_data"
    }
   ],
   "source": [
    "z = (85-77.771158)/8.056867\n",
    "printMarkdown(f\"$z = {z}$\")"
   ]
  },
  {
   "cell_type": "markdown",
   "metadata": {},
   "source": [
    "Maka dari tabel didapatkan nilai probabilitas untuk $P(X < 85)$ adalah $0.8133$, sehingga untuk $P(X > 85)$ akan bernilai $\\hat{p} = P(X > 85) = 1-0.8133 = 0.1867$\n",
    "\n",
    "$\\hat{p} = 0.1867$\n",
    "\n",
    "Sehingga nilai uji statistik $z_t$ adalah\n",
    "\n",
    "$z_t = \\Large\\frac{0.1867-0.15}{\\sqrt{\\frac{0.15(1-0.15)}{500}}}$"
   ]
  },
  {
   "cell_type": "code",
   "execution_count": 57,
   "metadata": {},
   "outputs": [
    {
     "data": {
      "text/markdown": [
       "$z_t = 2.298243148282499$"
      ],
      "text/plain": [
       "<IPython.core.display.Markdown object>"
      ]
     },
     "metadata": {},
     "output_type": "display_data"
    }
   ],
   "source": [
    "zt = (0.1867-0.15)/((0.15*0.85/500)**(0.5))\n",
    "printMarkdown(f\"$z_t = {zt}$\")"
   ]
  },
  {
   "cell_type": "markdown",
   "metadata": {},
   "source": [
    "6. **Keputusan**\n",
    "\n",
    "Nilai $z_t$ yang dihitung dari uji statistik menunjukan bahwa $z_t$ terletak pada daerah kritis yakni $c > 1.96$ sehingga hipotesis nol ($H_0 : P(X > 85) = 0.15$) **dapat ditolak**."
   ]
  },
  {
   "cell_type": "markdown",
   "metadata": {},
   "source": [
    "***\n",
    "```\n",
    "\n",
    "```"
   ]
  },
  {
   "cell_type": "markdown",
   "metadata": {},
   "source": [
    "##### 4.4.5. Proporsi nilai Keliling yang kurang dari 100, adalah kurang dari 5% ?"
   ]
  },
  {
   "cell_type": "markdown",
   "metadata": {},
   "source": [
    "Boxplot kolom Keliling"
   ]
  },
  {
   "cell_type": "code",
   "execution_count": 58,
   "metadata": {
    "scrolled": true
   },
   "outputs": [
    {
     "data": {
      "text/plain": [
       "<AxesSubplot:>"
      ]
     },
     "execution_count": 58,
     "metadata": {},
     "output_type": "execute_result"
    },
    {
     "data": {
      "image/png": "[encoded data removed]",
      "text/plain": [
       "<Figure size 432x288 with 1 Axes>"
      ]
     },
     "metadata": {
      "needs_background": "light"
     },
     "output_type": "display_data"
    }
   ],
   "source": [
    "dataset.boxplot([\"Keliling\"])"
   ]
  },
  {
   "cell_type": "markdown",
   "metadata": {},
   "source": [
    "1. **Hipotesis nol**\n",
    "\n",
    "$X$ adalah variabel random Keliling.\n",
    "\n",
    "$H_0 : P(X < 100) = 0.05$\n",
    "\n",
    "2. **Hipotesis alternatif**\n",
    "\n",
    "$H_1 : P(X < 100) < 0.05$\n",
    "\n",
    "3. **Tingkat signifikan**\n",
    "\n",
    "$\\alpha = 0.05$\n",
    "\n",
    "4. **Penentuan uji statistik dan daerah kritis**\n",
    "\n",
    "Diasumsikan kolom Keliling menuruti distribusi normal, dengan mengabaikan outlier yang terlihat pada boxplot dan mengurangi nilai $\\alpha$ pada [normality test](#4.3.-Menentukan-setiap-kolom-numerik-berdistribusi-normal-atau-tidak).\n",
    "\n",
    "Karena kolom Keliling berdistribusi normal, dapat dilihat pada tabel distribusi normal untuk mendapatkan nilai probabilitas. Hipotesis yang diinginkan merupakan **one-tailed** dikarenakan kurang dari dengan hipotesis nol.\n",
    "\n",
    "![ztable](other/img/ztable.png)\n",
    "\n",
    "Pada tabel terlihat $z$ bernilai sekitar $1.65$ untuk mendapatkan nilai kisaran $0.9505$.\n",
    "Sehingga daerah kritis terletak kisaran $c < -1.65$ untuk mendapatkan nilai $\\alpha = 1 - 0.9505$ dan memenuhi hipotesis alternatif ($H_1 : P(X < 100) < 0.05$).\n",
    "\n",
    "Hipotesis nol akan didasarkan dengan nilai uji statistik $z_t$ masuk ke dalam daerah kritis atau tidak. Nilai uji statistik $z_t$ dapat dihitung dengan\n",
    "\n",
    "$z_t = \\Large\\frac{\\hat{p} - p_{\\normalsize0}}{\\sqrt{\\frac{p_{\\normalsize0}(1 - p_{\\normalsize0})}{n}}}$\n",
    "\n",
    "Dengan $p_0$ adalah nilai proporsi dari hipotesis nol dan $\\hat{p}$ adalah proporsi yang dihitung dari sampel.\n",
    "\n",
    "5. **Perhitungan uji statistik dan $p$-value**\n",
    "\n",
    "Berdasarkan statistik yang didapat pada [jawaban nomor pertama](#4.1.-Menulis-deskripsi-statistika-(Descriptive-Statistics)) didapatkan nilai $\\sigma, \\, \\mu, \\, n$.\n",
    "\n",
    "$z = \\Large\\frac{x-\\mu}{\\sigma}, \\, \\normalsize\\mu = 281.479722, \\, \\sigma = 37.335402, \\, n = 500$\n",
    "\n",
    "$z = \\Large\\frac{100-281.479722}{37.335402}$"
   ]
  },
  {
   "cell_type": "code",
   "execution_count": 59,
   "metadata": {
    "scrolled": true
   },
   "outputs": [
    {
     "data": {
      "text/markdown": [
       "$z = -4.860794642039745$"
      ],
      "text/plain": [
       "<IPython.core.display.Markdown object>"
      ]
     },
     "metadata": {},
     "output_type": "display_data"
    }
   ],
   "source": [
    "z = (100-281.479722)/37.335402\n",
    "printMarkdown(f\"$z = {z}$\")"
   ]
  },
  {
   "cell_type": "markdown",
   "metadata": {},
   "source": [
    "Maka dari tabel didapatkan nilai probabilitas untuk $P(X < 100)$ bernilai sangat kecil, sehingga $\\hat{p}$ dapat dianggap bernilai $0$ untuk mempermudah perhitungan\n",
    "\n",
    "$\\hat{p} = 0$\n",
    "\n",
    "Sehingga nilai uji statistik $z_t$ adalah\n",
    "\n",
    "$z_t = \\Large\\frac{0-0.05}{\\sqrt{\\frac{0.05(1-0.05)}{500}}}$"
   ]
  },
  {
   "cell_type": "code",
   "execution_count": 60,
   "metadata": {},
   "outputs": [
    {
     "data": {
      "text/markdown": [
       "$z_t = -5.129891760425771$"
      ],
      "text/plain": [
       "<IPython.core.display.Markdown object>"
      ]
     },
     "metadata": {},
     "output_type": "display_data"
    }
   ],
   "source": [
    "zt = (-0.05)/((0.05*0.95/500)**(0.5))\n",
    "printMarkdown(f\"$z_t = {zt}$\")"
   ]
  },
  {
   "cell_type": "markdown",
   "metadata": {},
   "source": [
    "6. **Keputusan**\n",
    "\n",
    "Nilai $z_t$ yang dihitung dari uji statistik menunjukan bahwa $z_t$ terletak pada daerah kritis yakni $c < -1.65$ sehingga hipotesis nol ($H_0 : P(X > 85) = 0.15$) **dapat ditolak**."
   ]
  },
  {
   "cell_type": "markdown",
   "metadata": {},
   "source": [
    "***\n",
    "```\n",
    "\n",
    "\n",
    "\n",
    "\n",
    "\n",
    "```"
   ]
  },
  {
   "cell_type": "markdown",
   "metadata": {},
   "source": [
    "### 4.5. Melakukan test hipotesis 2 sampel dan menuliskan 6 langkah testing\n",
    "Menampilkan juga boxplotnya untuk kolom / bagian yang bersesuaian.\n",
    "1. Data kolom AreaBulatan dibagi $2$ sama rata: bagian awal dan bagian akhir kolom. Benarkah rata-rata kedua bagian tersebut sama?\n",
    "2. Data kolom Kadar Air dibagi $2$ sama rata: bagian awal dan bagian akhir kolom. Benarkah rata-rata bagian awal lebih besar dari pada bagian akhir sebesar $0.2$?\n",
    "3. Rata-rata $20$ baris pertama kolom Bulatan sama dengan $20$ baris terakhirnya?\n",
    "4. Proporsi nilai bagian awal Ransum yang lebih dari $2$, adalah lebih besar daripada, proporsi nilai yang sama di bagian akhir Ransum?\n",
    "5. Bagian awal kolom Diameter memiliki variansi yang sama dengan bagian akhirnya?"
   ]
  },
  {
   "cell_type": "markdown",
   "metadata": {},
   "source": [
    "***"
   ]
  },
  {
   "cell_type": "markdown",
   "metadata": {},
   "source": [
    "##### 4.5.1. Data kolom AreaBulatan dibagi 2 sama rata: bagian awal dan bagian akhir kolom. Benarkah rata-rata kedua bagian tersebut sama?"
   ]
  },
  {
   "cell_type": "markdown",
   "metadata": {},
   "source": [
    "Boxplot dan descriptive statistics AreaBulatan bagian pertama"
   ]
  },
  {
   "cell_type": "code",
   "execution_count": 61,
   "metadata": {},
   "outputs": [
    {
     "data": {
      "text/plain": [
       "<AxesSubplot:>"
      ]
     },
     "execution_count": 61,
     "metadata": {},
     "output_type": "execute_result"
    },
    {
     "data": {
      "image/png": "[encoded data removed]",
      "text/plain": [
       "<Figure size 432x288 with 1 Axes>"
      ]
     },
     "metadata": {
      "needs_background": "light"
     },
     "output_type": "display_data"
    }
   ],
   "source": [
    "dataset.loc[:249].boxplot([\"AreaBulatan\"])"
   ]
  },
  {
   "cell_type": "code",
   "execution_count": 81,
   "metadata": {},
   "outputs": [
    {
     "data": {
      "text/html": [
       "<div>\n",
       "<style scoped>\n",
       "    .dataframe tbody tr th:only-of-type {\n",
       "        vertical-align: middle;\n",
       "    }\n",
       "\n",
       "    .dataframe tbody tr th {\n",
       "        vertical-align: top;\n",
       "    }\n",
       "\n",
       "    .dataframe thead th {\n",
       "        text-align: right;\n",
       "    }\n",
       "</style>\n",
       "<table border=\"1\" class=\"dataframe\">\n",
       "  <thead>\n",
       "    <tr style=\"text-align: right;\">\n",
       "      <th></th>\n",
       "      <th>ID</th>\n",
       "      <th>Daerah</th>\n",
       "      <th>SumbuUtama</th>\n",
       "      <th>SumbuKecil</th>\n",
       "      <th>Keunikan</th>\n",
       "      <th>AreaBulatan</th>\n",
       "      <th>Diameter</th>\n",
       "      <th>KadarAir</th>\n",
       "      <th>Keliling</th>\n",
       "      <th>Bulatan</th>\n",
       "      <th>Ransum</th>\n",
       "      <th>Target</th>\n",
       "    </tr>\n",
       "  </thead>\n",
       "  <tbody>\n",
       "    <tr>\n",
       "      <th>count</th>\n",
       "      <td>250.000000</td>\n",
       "      <td>250.000000</td>\n",
       "      <td>250.000000</td>\n",
       "      <td>250.000000</td>\n",
       "      <td>250.000000</td>\n",
       "      <td>250.000000</td>\n",
       "      <td>250.000000</td>\n",
       "      <td>250.000000</td>\n",
       "      <td>250.000000</td>\n",
       "      <td>250.000000</td>\n",
       "      <td>250.000000</td>\n",
       "      <td>250.000000</td>\n",
       "    </tr>\n",
       "    <tr>\n",
       "      <th>mean</th>\n",
       "      <td>125.500000</td>\n",
       "      <td>5394.136000</td>\n",
       "      <td>128.973929</td>\n",
       "      <td>54.378581</td>\n",
       "      <td>0.904826</td>\n",
       "      <td>5549.804000</td>\n",
       "      <td>82.613746</td>\n",
       "      <td>0.635743</td>\n",
       "      <td>305.125020</td>\n",
       "      <td>0.728154</td>\n",
       "      <td>2.357643</td>\n",
       "      <td>1.004000</td>\n",
       "    </tr>\n",
       "    <tr>\n",
       "      <th>std</th>\n",
       "      <td>72.312977</td>\n",
       "      <td>845.269999</td>\n",
       "      <td>14.093670</td>\n",
       "      <td>4.203742</td>\n",
       "      <td>0.013431</td>\n",
       "      <td>867.025436</td>\n",
       "      <td>6.570311</td>\n",
       "      <td>0.095096</td>\n",
       "      <td>29.637571</td>\n",
       "      <td>0.051092</td>\n",
       "      <td>0.094939</td>\n",
       "      <td>0.063246</td>\n",
       "    </tr>\n",
       "    <tr>\n",
       "      <th>min</th>\n",
       "      <td>1.000000</td>\n",
       "      <td>3136.000000</td>\n",
       "      <td>92.229316</td>\n",
       "      <td>41.436419</td>\n",
       "      <td>0.719916</td>\n",
       "      <td>3270.000000</td>\n",
       "      <td>63.189233</td>\n",
       "      <td>0.418947</td>\n",
       "      <td>234.781000</td>\n",
       "      <td>0.261297</td>\n",
       "      <td>1.440796</td>\n",
       "      <td>1.000000</td>\n",
       "    </tr>\n",
       "    <tr>\n",
       "      <th>25%</th>\n",
       "      <td>63.250000</td>\n",
       "      <td>4817.000000</td>\n",
       "      <td>122.008029</td>\n",
       "      <td>51.753392</td>\n",
       "      <td>0.901810</td>\n",
       "      <td>4961.250000</td>\n",
       "      <td>78.314712</td>\n",
       "      <td>0.553903</td>\n",
       "      <td>286.563500</td>\n",
       "      <td>0.718566</td>\n",
       "      <td>2.314103</td>\n",
       "      <td>1.000000</td>\n",
       "    </tr>\n",
       "    <tr>\n",
       "      <th>50%</th>\n",
       "      <td>125.500000</td>\n",
       "      <td>5444.500000</td>\n",
       "      <td>128.659787</td>\n",
       "      <td>54.507285</td>\n",
       "      <td>0.907613</td>\n",
       "      <td>5551.000000</td>\n",
       "      <td>83.259548</td>\n",
       "      <td>0.611873</td>\n",
       "      <td>304.742500</td>\n",
       "      <td>0.735247</td>\n",
       "      <td>2.382048</td>\n",
       "      <td>1.000000</td>\n",
       "    </tr>\n",
       "    <tr>\n",
       "      <th>75%</th>\n",
       "      <td>187.750000</td>\n",
       "      <td>5940.000000</td>\n",
       "      <td>135.848720</td>\n",
       "      <td>57.150251</td>\n",
       "      <td>0.910973</td>\n",
       "      <td>6093.750000</td>\n",
       "      <td>86.965749</td>\n",
       "      <td>0.712129</td>\n",
       "      <td>320.882750</td>\n",
       "      <td>0.752251</td>\n",
       "      <td>2.424445</td>\n",
       "      <td>1.000000</td>\n",
       "    </tr>\n",
       "    <tr>\n",
       "      <th>max</th>\n",
       "      <td>250.000000</td>\n",
       "      <td>7453.000000</td>\n",
       "      <td>227.928583</td>\n",
       "      <td>64.012769</td>\n",
       "      <td>0.914001</td>\n",
       "      <td>7720.000000</td>\n",
       "      <td>97.413830</td>\n",
       "      <td>0.878899</td>\n",
       "      <td>448.305000</td>\n",
       "      <td>0.785460</td>\n",
       "      <td>2.464809</td>\n",
       "      <td>2.000000</td>\n",
       "    </tr>\n",
       "  </tbody>\n",
       "</table>\n",
       "</div>"
      ],
      "text/plain": [
       "               ID       Daerah  SumbuUtama  SumbuKecil    Keunikan  \\\n",
       "count  250.000000   250.000000  250.000000  250.000000  250.000000   \n",
       "mean   125.500000  5394.136000  128.973929   54.378581    0.904826   \n",
       "std     72.312977   845.269999   14.093670    4.203742    0.013431   \n",
       "min      1.000000  3136.000000   92.229316   41.436419    0.719916   \n",
       "25%     63.250000  4817.000000  122.008029   51.753392    0.901810   \n",
       "50%    125.500000  5444.500000  128.659787   54.507285    0.907613   \n",
       "75%    187.750000  5940.000000  135.848720   57.150251    0.910973   \n",
       "max    250.000000  7453.000000  227.928583   64.012769    0.914001   \n",
       "\n",
       "       AreaBulatan    Diameter    KadarAir    Keliling     Bulatan  \\\n",
       "count   250.000000  250.000000  250.000000  250.000000  250.000000   \n",
       "mean   5549.804000   82.613746    0.635743  305.125020    0.728154   \n",
       "std     867.025436    6.570311    0.095096   29.637571    0.051092   \n",
       "min    3270.000000   63.189233    0.418947  234.781000    0.261297   \n",
       "25%    4961.250000   78.314712    0.553903  286.563500    0.718566   \n",
       "50%    5551.000000   83.259548    0.611873  304.742500    0.735247   \n",
       "75%    6093.750000   86.965749    0.712129  320.882750    0.752251   \n",
       "max    7720.000000   97.413830    0.878899  448.305000    0.785460   \n",
       "\n",
       "           Ransum      Target  \n",
       "count  250.000000  250.000000  \n",
       "mean     2.357643    1.004000  \n",
       "std      0.094939    0.063246  \n",
       "min      1.440796    1.000000  \n",
       "25%      2.314103    1.000000  \n",
       "50%      2.382048    1.000000  \n",
       "75%      2.424445    1.000000  \n",
       "max      2.464809    2.000000  "
      ]
     },
     "execution_count": 81,
     "metadata": {},
     "output_type": "execute_result"
    }
   ],
   "source": [
    "dataset.loc[:249].describe()"
   ]
  },
  {
   "cell_type": "markdown",
   "metadata": {},
   "source": [
    "Boxplot dan descriptive statistics AreaBulatan bagian kedua"
   ]
  },
  {
   "cell_type": "code",
   "execution_count": 62,
   "metadata": {
    "scrolled": true
   },
   "outputs": [
    {
     "data": {
      "text/plain": [
       "<AxesSubplot:>"
      ]
     },
     "execution_count": 62,
     "metadata": {},
     "output_type": "execute_result"
    },
    {
     "data": {
      "image/png": "[encoded data removed]",
      "text/plain": [
       "<Figure size 432x288 with 1 Axes>"
      ]
     },
     "metadata": {
      "needs_background": "light"
     },
     "output_type": "display_data"
    }
   ],
   "source": [
    "dataset.loc[250:].boxplot([\"AreaBulatan\"])"
   ]
  },
  {
   "cell_type": "code",
   "execution_count": 80,
   "metadata": {},
   "outputs": [
    {
     "data": {
      "text/html": [
       "<div>\n",
       "<style scoped>\n",
       "    .dataframe tbody tr th:only-of-type {\n",
       "        vertical-align: middle;\n",
       "    }\n",
       "\n",
       "    .dataframe tbody tr th {\n",
       "        vertical-align: top;\n",
       "    }\n",
       "\n",
       "    .dataframe thead th {\n",
       "        text-align: right;\n",
       "    }\n",
       "</style>\n",
       "<table border=\"1\" class=\"dataframe\">\n",
       "  <thead>\n",
       "    <tr style=\"text-align: right;\">\n",
       "      <th></th>\n",
       "      <th>ID</th>\n",
       "      <th>Daerah</th>\n",
       "      <th>SumbuUtama</th>\n",
       "      <th>SumbuKecil</th>\n",
       "      <th>Keunikan</th>\n",
       "      <th>AreaBulatan</th>\n",
       "      <th>Diameter</th>\n",
       "      <th>KadarAir</th>\n",
       "      <th>Keliling</th>\n",
       "      <th>Bulatan</th>\n",
       "      <th>Ransum</th>\n",
       "      <th>Target</th>\n",
       "    </tr>\n",
       "  </thead>\n",
       "  <tbody>\n",
       "    <tr>\n",
       "      <th>count</th>\n",
       "      <td>250.000000</td>\n",
       "      <td>250.000000</td>\n",
       "      <td>250.000000</td>\n",
       "      <td>250.000000</td>\n",
       "      <td>250.000000</td>\n",
       "      <td>250.000000</td>\n",
       "      <td>250.000000</td>\n",
       "      <td>250.000000</td>\n",
       "      <td>250.000000</td>\n",
       "      <td>250.000000</td>\n",
       "      <td>250.000000</td>\n",
       "      <td>250.0</td>\n",
       "    </tr>\n",
       "    <tr>\n",
       "      <th>mean</th>\n",
       "      <td>375.500000</td>\n",
       "      <td>4208.356000</td>\n",
       "      <td>103.116414</td>\n",
       "      <td>53.051911</td>\n",
       "      <td>0.852702</td>\n",
       "      <td>4324.292000</td>\n",
       "      <td>72.928570</td>\n",
       "      <td>0.661000</td>\n",
       "      <td>257.834424</td>\n",
       "      <td>0.795321</td>\n",
       "      <td>1.944187</td>\n",
       "      <td>2.0</td>\n",
       "    </tr>\n",
       "    <tr>\n",
       "      <th>std</th>\n",
       "      <td>72.312977</td>\n",
       "      <td>727.679702</td>\n",
       "      <td>11.643519</td>\n",
       "      <td>3.828688</td>\n",
       "      <td>0.033736</td>\n",
       "      <td>738.566466</td>\n",
       "      <td>6.310964</td>\n",
       "      <td>0.092101</td>\n",
       "      <td>28.149351</td>\n",
       "      <td>0.052484</td>\n",
       "      <td>0.173747</td>\n",
       "      <td>0.0</td>\n",
       "    </tr>\n",
       "    <tr>\n",
       "      <th>min</th>\n",
       "      <td>251.000000</td>\n",
       "      <td>2522.000000</td>\n",
       "      <td>74.133114</td>\n",
       "      <td>39.906517</td>\n",
       "      <td>0.725553</td>\n",
       "      <td>2579.000000</td>\n",
       "      <td>56.666658</td>\n",
       "      <td>0.409927</td>\n",
       "      <td>197.015000</td>\n",
       "      <td>0.174590</td>\n",
       "      <td>1.453137</td>\n",
       "      <td>2.0</td>\n",
       "    </tr>\n",
       "    <tr>\n",
       "      <th>25%</th>\n",
       "      <td>313.250000</td>\n",
       "      <td>3733.500000</td>\n",
       "      <td>95.519781</td>\n",
       "      <td>50.797123</td>\n",
       "      <td>0.839186</td>\n",
       "      <td>3827.250000</td>\n",
       "      <td>68.946644</td>\n",
       "      <td>0.590431</td>\n",
       "      <td>240.300000</td>\n",
       "      <td>0.773805</td>\n",
       "      <td>1.838760</td>\n",
       "      <td>2.0</td>\n",
       "    </tr>\n",
       "    <tr>\n",
       "      <th>50%</th>\n",
       "      <td>375.500000</td>\n",
       "      <td>4171.500000</td>\n",
       "      <td>104.332979</td>\n",
       "      <td>52.666834</td>\n",
       "      <td>0.863701</td>\n",
       "      <td>4283.000000</td>\n",
       "      <td>72.878794</td>\n",
       "      <td>0.634284</td>\n",
       "      <td>257.184000</td>\n",
       "      <td>0.796387</td>\n",
       "      <td>1.984110</td>\n",
       "      <td>2.0</td>\n",
       "    </tr>\n",
       "    <tr>\n",
       "      <th>75%</th>\n",
       "      <td>437.750000</td>\n",
       "      <td>4622.500000</td>\n",
       "      <td>110.482779</td>\n",
       "      <td>55.658914</td>\n",
       "      <td>0.876217</td>\n",
       "      <td>4759.750000</td>\n",
       "      <td>76.717337</td>\n",
       "      <td>0.737766</td>\n",
       "      <td>272.856250</td>\n",
       "      <td>0.816398</td>\n",
       "      <td>2.075044</td>\n",
       "      <td>2.0</td>\n",
       "    </tr>\n",
       "    <tr>\n",
       "      <th>max</th>\n",
       "      <td>500.000000</td>\n",
       "      <td>6946.000000</td>\n",
       "      <td>136.303603</td>\n",
       "      <td>68.977700</td>\n",
       "      <td>0.892647</td>\n",
       "      <td>7115.000000</td>\n",
       "      <td>94.042128</td>\n",
       "      <td>0.877897</td>\n",
       "      <td>488.837000</td>\n",
       "      <td>0.904748</td>\n",
       "      <td>2.218493</td>\n",
       "      <td>2.0</td>\n",
       "    </tr>\n",
       "  </tbody>\n",
       "</table>\n",
       "</div>"
      ],
      "text/plain": [
       "               ID       Daerah  SumbuUtama  SumbuKecil    Keunikan  \\\n",
       "count  250.000000   250.000000  250.000000  250.000000  250.000000   \n",
       "mean   375.500000  4208.356000  103.116414   53.051911    0.852702   \n",
       "std     72.312977   727.679702   11.643519    3.828688    0.033736   \n",
       "min    251.000000  2522.000000   74.133114   39.906517    0.725553   \n",
       "25%    313.250000  3733.500000   95.519781   50.797123    0.839186   \n",
       "50%    375.500000  4171.500000  104.332979   52.666834    0.863701   \n",
       "75%    437.750000  4622.500000  110.482779   55.658914    0.876217   \n",
       "max    500.000000  6946.000000  136.303603   68.977700    0.892647   \n",
       "\n",
       "       AreaBulatan    Diameter    KadarAir    Keliling     Bulatan  \\\n",
       "count   250.000000  250.000000  250.000000  250.000000  250.000000   \n",
       "mean   4324.292000   72.928570    0.661000  257.834424    0.795321   \n",
       "std     738.566466    6.310964    0.092101   28.149351    0.052484   \n",
       "min    2579.000000   56.666658    0.409927  197.015000    0.174590   \n",
       "25%    3827.250000   68.946644    0.590431  240.300000    0.773805   \n",
       "50%    4283.000000   72.878794    0.634284  257.184000    0.796387   \n",
       "75%    4759.750000   76.717337    0.737766  272.856250    0.816398   \n",
       "max    7115.000000   94.042128    0.877897  488.837000    0.904748   \n",
       "\n",
       "           Ransum  Target  \n",
       "count  250.000000   250.0  \n",
       "mean     1.944187     2.0  \n",
       "std      0.173747     0.0  \n",
       "min      1.453137     2.0  \n",
       "25%      1.838760     2.0  \n",
       "50%      1.984110     2.0  \n",
       "75%      2.075044     2.0  \n",
       "max      2.218493     2.0  "
      ]
     },
     "execution_count": 80,
     "metadata": {},
     "output_type": "execute_result"
    }
   ],
   "source": [
    "dataset.loc[250:].describe()"
   ]
  },
  {
   "cell_type": "markdown",
   "metadata": {},
   "source": [
    "1. **Hipotesis nol**\n",
    "\n",
    "$AreaBulatan1$ dan $AreaBulatan2$ menunjukan bagian awal dan akhir dari kolom AreaBulatan\n",
    "\n",
    "$H_0 : \\mu_{AreaBulatan1} = \\mu_{AreaBulatan2}$\n",
    "\n",
    "2. **Hipotesis alternatif**\n",
    "\n",
    "$H_1 : \\mu_{AreaBulatan1} \\neq \\mu_{AreaBulatan2}$\n",
    "\n",
    "3. **Tingkat signifikan**\n",
    "\n",
    "$\\alpha = 0.05$\n",
    "\n",
    "4. **Penentuan uji statistik dan daerah kritis**\n",
    "\n",
    "Diasumsikan kolom AreaBulatan menuruti distribusi normal, dengan dan mengurangi nilai $\\alpha$ pada [normality test](#4.3.-Menentukan-setiap-kolom-numerik-berdistribusi-normal-atau-tidak).\n",
    "\n",
    "Untuk uji statistik 2 sampel digunakan $t$-distribution pada penghitungan uji statistik. Hipotesis yang diinginkan merupakan **two-tailed** dikarenakan tidak sama dengan hipotesis nol.\n",
    "\n",
    "![ttable](other/img/ttable.jpg)\n",
    "\n",
    "Karena derajat kebebasan tinggi, digunakan kalkulator untuk menemukan nilai kritis $t$. $t$ bernilai sekitar $1.965$ untuk mendapatkan $\\alpha = 2\\cdot0.025$.\n",
    "Sehingga daerah kritis terletak kisaran $c < -1.965$ atau $c > 1.965$ untuk mendapatkan nilai $\\alpha = 2\\cdot0.025$ dan memenuhi hipotesis alternatif ($H_1 : \\mu_{AreaBulatan1} \\neq \\mu_{AreaBulatan2}$).\n",
    "\n",
    "Keputusan didasarkan nilai uji statistik $t$ berada dalam daerah kritis atau tidak. Perhitungan nilai uji statistik $t$ adalah sebagai berikut\n",
    "\n",
    "$t = \\Large\\frac{(\\bar{X_1} - \\bar{X_2})-(\\mu_1 - \\mu_2)}{\\sqrt{\\Large\\frac{\\sigma_1^2}{\\Large n_{\\ 1}} + \\Large\\frac{\\sigma_2^2}{\\Large n_{\\large 2}}}}$\n",
    "\n",
    "Dengan $\\bar{X}$ adalah rata-rata pada sampel.\n",
    "\n",
    "5. **Perhitungan uji statistik dan $p$-value**\n",
    "\n",
    "Berdasarkan hipotesis dan statistik yang didapat pada descriptive statistics yang dilakukan diatas\n",
    "\n",
    "$\\mu_1 - \\mu_2 = 0$\n",
    "\n",
    "$\\bar{X_1} = 5549.804000, \\, \\bar{X_2} = 4324.292000$\n",
    "\n",
    "$\\sigma_1 = 867.025436, \\, \\sigma_2 = 738.566466$\n",
    "\n",
    "$n_1 = 250, \\, n_2 = 250$"
   ]
  },
  {
   "cell_type": "code",
   "execution_count": 155,
   "metadata": {},
   "outputs": [],
   "source": [
    "# Student's t-distribution\n",
    "def degreeFreedom(n1,n2):\n",
    "    return n1+n2-2\n",
    "\n",
    "def standardError(s1,s2,n1,n2):\n",
    "    return (s1**2/n1 + s2**2/n2)**(0.5)\n",
    "\n",
    "def tScore(X1, X2, mu1, mu2, s1, s2, n1, n2):\n",
    "    return ((X1-X2)-(mu1-mu2))/standardError(s1,s2,n1,n2)"
   ]
  },
  {
   "cell_type": "code",
   "execution_count": 152,
   "metadata": {},
   "outputs": [
    {
     "data": {
      "text/markdown": [
       "$t = 17.01303664239383$"
      ],
      "text/plain": [
       "<IPython.core.display.Markdown object>"
      ]
     },
     "metadata": {},
     "output_type": "display_data"
    }
   ],
   "source": [
    "t = tScore(5549.804000, 4324.292000, 0, 0, 867.025436, 738.566466, 250, 250)\n",
    "printMarkdown(f\"$t = {t}$\")"
   ]
  },
  {
   "cell_type": "markdown",
   "metadata": {},
   "source": [
    "6. **Keputusan**\n",
    "\n",
    "Nilai $t$ yang dihitung dari uji statistik menunjukan bahwa $t$ terletak pada daerah kritis yakni $c > 1.96$ sehingga hipotesis nol ($H_0 : \\mu_{AreaBulatan1} = \\mu_{AreaBulatan2}$) **dapat ditolak**."
   ]
  },
  {
   "cell_type": "markdown",
   "metadata": {},
   "source": [
    "***\n",
    "```\n",
    "\n",
    "```"
   ]
  },
  {
   "cell_type": "markdown",
   "metadata": {},
   "source": [
    "##### 4.5.2. Data kolom Kadar Air dibagi 2 sama rata: bagian awal dan bagian akhir kolom. Benarkah rata-rata bagian awal lebih besar dari pada bagian akhir sebesar 0.2?"
   ]
  },
  {
   "cell_type": "markdown",
   "metadata": {},
   "source": [
    "Boxplot dan descriptive statistics KadarAir bagian pertama"
   ]
  },
  {
   "cell_type": "code",
   "execution_count": 121,
   "metadata": {},
   "outputs": [
    {
     "data": {
      "text/plain": [
       "<AxesSubplot:>"
      ]
     },
     "execution_count": 121,
     "metadata": {},
     "output_type": "execute_result"
    },
    {
     "data": {
      "image/png": "[encoded data removed]",
      "text/plain": [
       "<Figure size 432x288 with 1 Axes>"
      ]
     },
     "metadata": {
      "needs_background": "light"
     },
     "output_type": "display_data"
    }
   ],
   "source": [
    "dataset.loc[:249].boxplot([\"KadarAir\"])"
   ]
  },
  {
   "cell_type": "code",
   "execution_count": 117,
   "metadata": {},
   "outputs": [
    {
     "data": {
      "text/html": [
       "<div>\n",
       "<style scoped>\n",
       "    .dataframe tbody tr th:only-of-type {\n",
       "        vertical-align: middle;\n",
       "    }\n",
       "\n",
       "    .dataframe tbody tr th {\n",
       "        vertical-align: top;\n",
       "    }\n",
       "\n",
       "    .dataframe thead th {\n",
       "        text-align: right;\n",
       "    }\n",
       "</style>\n",
       "<table border=\"1\" class=\"dataframe\">\n",
       "  <thead>\n",
       "    <tr style=\"text-align: right;\">\n",
       "      <th></th>\n",
       "      <th>ID</th>\n",
       "      <th>Daerah</th>\n",
       "      <th>SumbuUtama</th>\n",
       "      <th>SumbuKecil</th>\n",
       "      <th>Keunikan</th>\n",
       "      <th>AreaBulatan</th>\n",
       "      <th>Diameter</th>\n",
       "      <th>KadarAir</th>\n",
       "      <th>Keliling</th>\n",
       "      <th>Bulatan</th>\n",
       "      <th>Ransum</th>\n",
       "      <th>Target</th>\n",
       "    </tr>\n",
       "  </thead>\n",
       "  <tbody>\n",
       "    <tr>\n",
       "      <th>count</th>\n",
       "      <td>250.000000</td>\n",
       "      <td>250.000000</td>\n",
       "      <td>250.000000</td>\n",
       "      <td>250.000000</td>\n",
       "      <td>250.000000</td>\n",
       "      <td>250.000000</td>\n",
       "      <td>250.000000</td>\n",
       "      <td>250.000000</td>\n",
       "      <td>250.000000</td>\n",
       "      <td>250.000000</td>\n",
       "      <td>250.000000</td>\n",
       "      <td>250.000000</td>\n",
       "    </tr>\n",
       "    <tr>\n",
       "      <th>mean</th>\n",
       "      <td>125.500000</td>\n",
       "      <td>5394.136000</td>\n",
       "      <td>128.973929</td>\n",
       "      <td>54.378581</td>\n",
       "      <td>0.904826</td>\n",
       "      <td>5549.804000</td>\n",
       "      <td>82.613746</td>\n",
       "      <td>0.635743</td>\n",
       "      <td>305.125020</td>\n",
       "      <td>0.728154</td>\n",
       "      <td>2.357643</td>\n",
       "      <td>1.004000</td>\n",
       "    </tr>\n",
       "    <tr>\n",
       "      <th>std</th>\n",
       "      <td>72.312977</td>\n",
       "      <td>845.269999</td>\n",
       "      <td>14.093670</td>\n",
       "      <td>4.203742</td>\n",
       "      <td>0.013431</td>\n",
       "      <td>867.025436</td>\n",
       "      <td>6.570311</td>\n",
       "      <td>0.095096</td>\n",
       "      <td>29.637571</td>\n",
       "      <td>0.051092</td>\n",
       "      <td>0.094939</td>\n",
       "      <td>0.063246</td>\n",
       "    </tr>\n",
       "    <tr>\n",
       "      <th>min</th>\n",
       "      <td>1.000000</td>\n",
       "      <td>3136.000000</td>\n",
       "      <td>92.229316</td>\n",
       "      <td>41.436419</td>\n",
       "      <td>0.719916</td>\n",
       "      <td>3270.000000</td>\n",
       "      <td>63.189233</td>\n",
       "      <td>0.418947</td>\n",
       "      <td>234.781000</td>\n",
       "      <td>0.261297</td>\n",
       "      <td>1.440796</td>\n",
       "      <td>1.000000</td>\n",
       "    </tr>\n",
       "    <tr>\n",
       "      <th>25%</th>\n",
       "      <td>63.250000</td>\n",
       "      <td>4817.000000</td>\n",
       "      <td>122.008029</td>\n",
       "      <td>51.753392</td>\n",
       "      <td>0.901810</td>\n",
       "      <td>4961.250000</td>\n",
       "      <td>78.314712</td>\n",
       "      <td>0.553903</td>\n",
       "      <td>286.563500</td>\n",
       "      <td>0.718566</td>\n",
       "      <td>2.314103</td>\n",
       "      <td>1.000000</td>\n",
       "    </tr>\n",
       "    <tr>\n",
       "      <th>50%</th>\n",
       "      <td>125.500000</td>\n",
       "      <td>5444.500000</td>\n",
       "      <td>128.659787</td>\n",
       "      <td>54.507285</td>\n",
       "      <td>0.907613</td>\n",
       "      <td>5551.000000</td>\n",
       "      <td>83.259548</td>\n",
       "      <td>0.611873</td>\n",
       "      <td>304.742500</td>\n",
       "      <td>0.735247</td>\n",
       "      <td>2.382048</td>\n",
       "      <td>1.000000</td>\n",
       "    </tr>\n",
       "    <tr>\n",
       "      <th>75%</th>\n",
       "      <td>187.750000</td>\n",
       "      <td>5940.000000</td>\n",
       "      <td>135.848720</td>\n",
       "      <td>57.150251</td>\n",
       "      <td>0.910973</td>\n",
       "      <td>6093.750000</td>\n",
       "      <td>86.965749</td>\n",
       "      <td>0.712129</td>\n",
       "      <td>320.882750</td>\n",
       "      <td>0.752251</td>\n",
       "      <td>2.424445</td>\n",
       "      <td>1.000000</td>\n",
       "    </tr>\n",
       "    <tr>\n",
       "      <th>max</th>\n",
       "      <td>250.000000</td>\n",
       "      <td>7453.000000</td>\n",
       "      <td>227.928583</td>\n",
       "      <td>64.012769</td>\n",
       "      <td>0.914001</td>\n",
       "      <td>7720.000000</td>\n",
       "      <td>97.413830</td>\n",
       "      <td>0.878899</td>\n",
       "      <td>448.305000</td>\n",
       "      <td>0.785460</td>\n",
       "      <td>2.464809</td>\n",
       "      <td>2.000000</td>\n",
       "    </tr>\n",
       "  </tbody>\n",
       "</table>\n",
       "</div>"
      ],
      "text/plain": [
       "               ID       Daerah  SumbuUtama  SumbuKecil    Keunikan  \\\n",
       "count  250.000000   250.000000  250.000000  250.000000  250.000000   \n",
       "mean   125.500000  5394.136000  128.973929   54.378581    0.904826   \n",
       "std     72.312977   845.269999   14.093670    4.203742    0.013431   \n",
       "min      1.000000  3136.000000   92.229316   41.436419    0.719916   \n",
       "25%     63.250000  4817.000000  122.008029   51.753392    0.901810   \n",
       "50%    125.500000  5444.500000  128.659787   54.507285    0.907613   \n",
       "75%    187.750000  5940.000000  135.848720   57.150251    0.910973   \n",
       "max    250.000000  7453.000000  227.928583   64.012769    0.914001   \n",
       "\n",
       "       AreaBulatan    Diameter    KadarAir    Keliling     Bulatan  \\\n",
       "count   250.000000  250.000000  250.000000  250.000000  250.000000   \n",
       "mean   5549.804000   82.613746    0.635743  305.125020    0.728154   \n",
       "std     867.025436    6.570311    0.095096   29.637571    0.051092   \n",
       "min    3270.000000   63.189233    0.418947  234.781000    0.261297   \n",
       "25%    4961.250000   78.314712    0.553903  286.563500    0.718566   \n",
       "50%    5551.000000   83.259548    0.611873  304.742500    0.735247   \n",
       "75%    6093.750000   86.965749    0.712129  320.882750    0.752251   \n",
       "max    7720.000000   97.413830    0.878899  448.305000    0.785460   \n",
       "\n",
       "           Ransum      Target  \n",
       "count  250.000000  250.000000  \n",
       "mean     2.357643    1.004000  \n",
       "std      0.094939    0.063246  \n",
       "min      1.440796    1.000000  \n",
       "25%      2.314103    1.000000  \n",
       "50%      2.382048    1.000000  \n",
       "75%      2.424445    1.000000  \n",
       "max      2.464809    2.000000  "
      ]
     },
     "execution_count": 117,
     "metadata": {},
     "output_type": "execute_result"
    }
   ],
   "source": [
    "dataset.loc[:249].describe()"
   ]
  },
  {
   "cell_type": "markdown",
   "metadata": {},
   "source": [
    "Boxplot dan descriptive statistics KadarAir bagian kedua"
   ]
  },
  {
   "cell_type": "code",
   "execution_count": 122,
   "metadata": {},
   "outputs": [
    {
     "data": {
      "text/plain": [
       "<AxesSubplot:>"
      ]
     },
     "execution_count": 122,
     "metadata": {},
     "output_type": "execute_result"
    },
    {
     "data": {
      "image/png": "[encoded data removed]",
      "text/plain": [
       "<Figure size 432x288 with 1 Axes>"
      ]
     },
     "metadata": {
      "needs_background": "light"
     },
     "output_type": "display_data"
    }
   ],
   "source": [
    "dataset.loc[250:].boxplot([\"KadarAir\"])"
   ]
  },
  {
   "cell_type": "code",
   "execution_count": 120,
   "metadata": {},
   "outputs": [
    {
     "data": {
      "text/html": [
       "<div>\n",
       "<style scoped>\n",
       "    .dataframe tbody tr th:only-of-type {\n",
       "        vertical-align: middle;\n",
       "    }\n",
       "\n",
       "    .dataframe tbody tr th {\n",
       "        vertical-align: top;\n",
       "    }\n",
       "\n",
       "    .dataframe thead th {\n",
       "        text-align: right;\n",
       "    }\n",
       "</style>\n",
       "<table border=\"1\" class=\"dataframe\">\n",
       "  <thead>\n",
       "    <tr style=\"text-align: right;\">\n",
       "      <th></th>\n",
       "      <th>ID</th>\n",
       "      <th>Daerah</th>\n",
       "      <th>SumbuUtama</th>\n",
       "      <th>SumbuKecil</th>\n",
       "      <th>Keunikan</th>\n",
       "      <th>AreaBulatan</th>\n",
       "      <th>Diameter</th>\n",
       "      <th>KadarAir</th>\n",
       "      <th>Keliling</th>\n",
       "      <th>Bulatan</th>\n",
       "      <th>Ransum</th>\n",
       "      <th>Target</th>\n",
       "    </tr>\n",
       "  </thead>\n",
       "  <tbody>\n",
       "    <tr>\n",
       "      <th>count</th>\n",
       "      <td>250.000000</td>\n",
       "      <td>250.000000</td>\n",
       "      <td>250.000000</td>\n",
       "      <td>250.000000</td>\n",
       "      <td>250.000000</td>\n",
       "      <td>250.000000</td>\n",
       "      <td>250.000000</td>\n",
       "      <td>250.000000</td>\n",
       "      <td>250.000000</td>\n",
       "      <td>250.000000</td>\n",
       "      <td>250.000000</td>\n",
       "      <td>250.0</td>\n",
       "    </tr>\n",
       "    <tr>\n",
       "      <th>mean</th>\n",
       "      <td>375.500000</td>\n",
       "      <td>4208.356000</td>\n",
       "      <td>103.116414</td>\n",
       "      <td>53.051911</td>\n",
       "      <td>0.852702</td>\n",
       "      <td>4324.292000</td>\n",
       "      <td>72.928570</td>\n",
       "      <td>0.661000</td>\n",
       "      <td>257.834424</td>\n",
       "      <td>0.795321</td>\n",
       "      <td>1.944187</td>\n",
       "      <td>2.0</td>\n",
       "    </tr>\n",
       "    <tr>\n",
       "      <th>std</th>\n",
       "      <td>72.312977</td>\n",
       "      <td>727.679702</td>\n",
       "      <td>11.643519</td>\n",
       "      <td>3.828688</td>\n",
       "      <td>0.033736</td>\n",
       "      <td>738.566466</td>\n",
       "      <td>6.310964</td>\n",
       "      <td>0.092101</td>\n",
       "      <td>28.149351</td>\n",
       "      <td>0.052484</td>\n",
       "      <td>0.173747</td>\n",
       "      <td>0.0</td>\n",
       "    </tr>\n",
       "    <tr>\n",
       "      <th>min</th>\n",
       "      <td>251.000000</td>\n",
       "      <td>2522.000000</td>\n",
       "      <td>74.133114</td>\n",
       "      <td>39.906517</td>\n",
       "      <td>0.725553</td>\n",
       "      <td>2579.000000</td>\n",
       "      <td>56.666658</td>\n",
       "      <td>0.409927</td>\n",
       "      <td>197.015000</td>\n",
       "      <td>0.174590</td>\n",
       "      <td>1.453137</td>\n",
       "      <td>2.0</td>\n",
       "    </tr>\n",
       "    <tr>\n",
       "      <th>25%</th>\n",
       "      <td>313.250000</td>\n",
       "      <td>3733.500000</td>\n",
       "      <td>95.519781</td>\n",
       "      <td>50.797123</td>\n",
       "      <td>0.839186</td>\n",
       "      <td>3827.250000</td>\n",
       "      <td>68.946644</td>\n",
       "      <td>0.590431</td>\n",
       "      <td>240.300000</td>\n",
       "      <td>0.773805</td>\n",
       "      <td>1.838760</td>\n",
       "      <td>2.0</td>\n",
       "    </tr>\n",
       "    <tr>\n",
       "      <th>50%</th>\n",
       "      <td>375.500000</td>\n",
       "      <td>4171.500000</td>\n",
       "      <td>104.332979</td>\n",
       "      <td>52.666834</td>\n",
       "      <td>0.863701</td>\n",
       "      <td>4283.000000</td>\n",
       "      <td>72.878794</td>\n",
       "      <td>0.634284</td>\n",
       "      <td>257.184000</td>\n",
       "      <td>0.796387</td>\n",
       "      <td>1.984110</td>\n",
       "      <td>2.0</td>\n",
       "    </tr>\n",
       "    <tr>\n",
       "      <th>75%</th>\n",
       "      <td>437.750000</td>\n",
       "      <td>4622.500000</td>\n",
       "      <td>110.482779</td>\n",
       "      <td>55.658914</td>\n",
       "      <td>0.876217</td>\n",
       "      <td>4759.750000</td>\n",
       "      <td>76.717337</td>\n",
       "      <td>0.737766</td>\n",
       "      <td>272.856250</td>\n",
       "      <td>0.816398</td>\n",
       "      <td>2.075044</td>\n",
       "      <td>2.0</td>\n",
       "    </tr>\n",
       "    <tr>\n",
       "      <th>max</th>\n",
       "      <td>500.000000</td>\n",
       "      <td>6946.000000</td>\n",
       "      <td>136.303603</td>\n",
       "      <td>68.977700</td>\n",
       "      <td>0.892647</td>\n",
       "      <td>7115.000000</td>\n",
       "      <td>94.042128</td>\n",
       "      <td>0.877897</td>\n",
       "      <td>488.837000</td>\n",
       "      <td>0.904748</td>\n",
       "      <td>2.218493</td>\n",
       "      <td>2.0</td>\n",
       "    </tr>\n",
       "  </tbody>\n",
       "</table>\n",
       "</div>"
      ],
      "text/plain": [
       "               ID       Daerah  SumbuUtama  SumbuKecil    Keunikan  \\\n",
       "count  250.000000   250.000000  250.000000  250.000000  250.000000   \n",
       "mean   375.500000  4208.356000  103.116414   53.051911    0.852702   \n",
       "std     72.312977   727.679702   11.643519    3.828688    0.033736   \n",
       "min    251.000000  2522.000000   74.133114   39.906517    0.725553   \n",
       "25%    313.250000  3733.500000   95.519781   50.797123    0.839186   \n",
       "50%    375.500000  4171.500000  104.332979   52.666834    0.863701   \n",
       "75%    437.750000  4622.500000  110.482779   55.658914    0.876217   \n",
       "max    500.000000  6946.000000  136.303603   68.977700    0.892647   \n",
       "\n",
       "       AreaBulatan    Diameter    KadarAir    Keliling     Bulatan  \\\n",
       "count   250.000000  250.000000  250.000000  250.000000  250.000000   \n",
       "mean   4324.292000   72.928570    0.661000  257.834424    0.795321   \n",
       "std     738.566466    6.310964    0.092101   28.149351    0.052484   \n",
       "min    2579.000000   56.666658    0.409927  197.015000    0.174590   \n",
       "25%    3827.250000   68.946644    0.590431  240.300000    0.773805   \n",
       "50%    4283.000000   72.878794    0.634284  257.184000    0.796387   \n",
       "75%    4759.750000   76.717337    0.737766  272.856250    0.816398   \n",
       "max    7115.000000   94.042128    0.877897  488.837000    0.904748   \n",
       "\n",
       "           Ransum  Target  \n",
       "count  250.000000   250.0  \n",
       "mean     1.944187     2.0  \n",
       "std      0.173747     0.0  \n",
       "min      1.453137     2.0  \n",
       "25%      1.838760     2.0  \n",
       "50%      1.984110     2.0  \n",
       "75%      2.075044     2.0  \n",
       "max      2.218493     2.0  "
      ]
     },
     "execution_count": 120,
     "metadata": {},
     "output_type": "execute_result"
    }
   ],
   "source": [
    "dataset.loc[250:].describe()"
   ]
  },
  {
   "cell_type": "markdown",
   "metadata": {},
   "source": [
    "1. **Hipotesis nol**\n",
    "\n",
    "$KadarAir1$ dan $KadarAir2$ menunjukan bagian awal dan akhir dari kolom KadarAir\n",
    "\n",
    "$H_0 : \\mu_{KadarAir1} = \\mu_{KadarAir2} + 0.2$\n",
    "\n",
    "2. **Hipotesis alternatif**\n",
    "\n",
    "$H_1 : \\mu_{KadarAir1} \\neq \\mu_{KadarAir2} + 0.2$\n",
    "\n",
    "3. **Tingkat signifikan**\n",
    "\n",
    "$\\alpha = 0.05$\n",
    "\n",
    "4. **Penentuan uji statistik dan daerah kritis**\n",
    "\n",
    "Diasumsikan kolom KadarAir menuruti distribusi normal untuk mempermudah perhitungan.\n",
    "\n",
    "Untuk uji statistik 2 sampel digunakan $t$-distribution pada penghitungan uji statistik. Hipotesis yang diinginkan merupakan **two-tailed** dikarenakan tidak sama dengan hipotesis nol.\n",
    "\n",
    "![ttable](other/img/ttable.jpg)\n",
    "\n",
    "Karena derajat kebebasan tinggi, digunakan kalkulator untuk menemukan nilai kritis $t$. $t$ bernilai sekitar $1.965$ untuk mendapatkan $\\alpha = 2\\cdot0.025$.\n",
    "Sehingga daerah kritis terletak kisaran $c < -1.965$ atau $c > 1.965$ untuk mendapatkan nilai $\\alpha = 2\\cdot0.025$ dan memenuhi hipotesis alternatif ($H_1 : \\mu_{KadarAir1} \\neq \\mu_{KadarAir2} + 0.2$).\n",
    "\n",
    "Keputusan didasarkan nilai uji statistik $t$ berada dalam daerah kritis atau tidak. Perhitungan nilai uji statistik $t$ adalah sebagai berikut\n",
    "\n",
    "$t = \\Large\\frac{(\\bar{X_1} - \\bar{X_2})-(\\mu_1 - \\mu_2)}{\\sqrt{\\Large\\frac{\\sigma_1^2}{\\Large n_{\\ 1}} + \\Large\\frac{\\sigma_2^2}{\\Large n_{\\large 2}}}}$\n",
    "\n",
    "Dengan $\\bar{X}$ adalah rata-rata pada sampel.\n",
    "\n",
    "5. **Perhitungan uji statistik dan $p$-value**\n",
    "\n",
    "Berdasarkan hipotesis dan statistik yang didapat pada descriptive statistics yang dilakukan diatas\n",
    "\n",
    "$\\mu_1 - \\mu_2 = 0$\n",
    "\n",
    "$\\bar{X_1} = 0.635743, \\, \\bar{X_2} = 0.661000$\n",
    "\n",
    "$\\sigma_1 = 0.095096, \\, \\sigma_2 = 0.092101$\n",
    "\n",
    "$n_1 = 250, \\, n_2 = 250$"
   ]
  },
  {
   "cell_type": "code",
   "execution_count": 153,
   "metadata": {},
   "outputs": [
    {
     "data": {
      "text/markdown": [
       "$t = -26.903503315189987$"
      ],
      "text/plain": [
       "<IPython.core.display.Markdown object>"
      ]
     },
     "metadata": {},
     "output_type": "display_data"
    }
   ],
   "source": [
    "t = tScore(0.635743, 0.661000, 0.2, 0, 0.095096, 0.092101, 250, 250)\n",
    "printMarkdown(f\"$t = {t}$\")"
   ]
  },
  {
   "cell_type": "markdown",
   "metadata": {},
   "source": [
    "6. **Keputusan**\n",
    "\n",
    "Nilai $t$ yang dihitung dari uji statistik menunjukan bahwa $t$ terletak pada daerah kritis yakni $c < -1.96$ sehingga hipotesis nol ($H_0 : \\mu_{KadarAir1} = \\mu_{KadarAir2} + 0.2$) **dapat ditolak**."
   ]
  },
  {
   "cell_type": "markdown",
   "metadata": {},
   "source": [
    "***\n",
    "```\n",
    "\n",
    "```"
   ]
  },
  {
   "cell_type": "markdown",
   "metadata": {},
   "source": [
    "##### 4.5.3. Rata-rata 20 baris pertama kolom Bulatan sama dengan 20 baris terakhirnya?"
   ]
  },
  {
   "cell_type": "markdown",
   "metadata": {},
   "source": [
    "Boxplot dan descriptive statistics Bulatan bagian pertama"
   ]
  },
  {
   "cell_type": "code",
   "execution_count": 142,
   "metadata": {},
   "outputs": [
    {
     "data": {
      "text/plain": [
       "<AxesSubplot:>"
      ]
     },
     "execution_count": 142,
     "metadata": {},
     "output_type": "execute_result"
    },
    {
     "data": {
      "image/png": "[encoded data removed]",
      "text/plain": [
       "<Figure size 432x288 with 1 Axes>"
      ]
     },
     "metadata": {
      "needs_background": "light"
     },
     "output_type": "display_data"
    }
   ],
   "source": [
    "dataset.loc[:19].boxplot([\"Bulatan\"])"
   ]
  },
  {
   "cell_type": "code",
   "execution_count": 143,
   "metadata": {},
   "outputs": [
    {
     "data": {
      "text/html": [
       "<div>\n",
       "<style scoped>\n",
       "    .dataframe tbody tr th:only-of-type {\n",
       "        vertical-align: middle;\n",
       "    }\n",
       "\n",
       "    .dataframe tbody tr th {\n",
       "        vertical-align: top;\n",
       "    }\n",
       "\n",
       "    .dataframe thead th {\n",
       "        text-align: right;\n",
       "    }\n",
       "</style>\n",
       "<table border=\"1\" class=\"dataframe\">\n",
       "  <thead>\n",
       "    <tr style=\"text-align: right;\">\n",
       "      <th></th>\n",
       "      <th>ID</th>\n",
       "      <th>Daerah</th>\n",
       "      <th>SumbuUtama</th>\n",
       "      <th>SumbuKecil</th>\n",
       "      <th>Keunikan</th>\n",
       "      <th>AreaBulatan</th>\n",
       "      <th>Diameter</th>\n",
       "      <th>KadarAir</th>\n",
       "      <th>Keliling</th>\n",
       "      <th>Bulatan</th>\n",
       "      <th>Ransum</th>\n",
       "      <th>Target</th>\n",
       "    </tr>\n",
       "  </thead>\n",
       "  <tbody>\n",
       "    <tr>\n",
       "      <th>count</th>\n",
       "      <td>20.00000</td>\n",
       "      <td>20.000000</td>\n",
       "      <td>20.000000</td>\n",
       "      <td>20.000000</td>\n",
       "      <td>20.000000</td>\n",
       "      <td>20.00000</td>\n",
       "      <td>20.000000</td>\n",
       "      <td>20.000000</td>\n",
       "      <td>20.000000</td>\n",
       "      <td>20.000000</td>\n",
       "      <td>20.000000</td>\n",
       "      <td>20.0</td>\n",
       "    </tr>\n",
       "    <tr>\n",
       "      <th>mean</th>\n",
       "      <td>10.50000</td>\n",
       "      <td>5125.750000</td>\n",
       "      <td>131.277042</td>\n",
       "      <td>54.887276</td>\n",
       "      <td>0.891701</td>\n",
       "      <td>5286.70000</td>\n",
       "      <td>80.628633</td>\n",
       "      <td>0.650385</td>\n",
       "      <td>295.174050</td>\n",
       "      <td>0.737535</td>\n",
       "      <td>2.209402</td>\n",
       "      <td>1.0</td>\n",
       "    </tr>\n",
       "    <tr>\n",
       "      <th>std</th>\n",
       "      <td>5.91608</td>\n",
       "      <td>649.195687</td>\n",
       "      <td>33.714806</td>\n",
       "      <td>3.373880</td>\n",
       "      <td>0.001033</td>\n",
       "      <td>669.21408</td>\n",
       "      <td>5.163754</td>\n",
       "      <td>0.084203</td>\n",
       "      <td>20.430432</td>\n",
       "      <td>0.030385</td>\n",
       "      <td>0.009922</td>\n",
       "      <td>0.0</td>\n",
       "    </tr>\n",
       "    <tr>\n",
       "      <th>min</th>\n",
       "      <td>1.00000</td>\n",
       "      <td>4141.000000</td>\n",
       "      <td>108.701190</td>\n",
       "      <td>49.457349</td>\n",
       "      <td>0.890095</td>\n",
       "      <td>4236.00000</td>\n",
       "      <td>72.611879</td>\n",
       "      <td>0.502630</td>\n",
       "      <td>260.346000</td>\n",
       "      <td>0.661849</td>\n",
       "      <td>2.194066</td>\n",
       "      <td>1.0</td>\n",
       "    </tr>\n",
       "    <tr>\n",
       "      <th>25%</th>\n",
       "      <td>5.75000</td>\n",
       "      <td>4552.250000</td>\n",
       "      <td>115.167150</td>\n",
       "      <td>52.210008</td>\n",
       "      <td>0.891078</td>\n",
       "      <td>4748.75000</td>\n",
       "      <td>76.132143</td>\n",
       "      <td>0.592110</td>\n",
       "      <td>281.466000</td>\n",
       "      <td>0.722509</td>\n",
       "      <td>2.203371</td>\n",
       "      <td>1.0</td>\n",
       "    </tr>\n",
       "    <tr>\n",
       "      <th>50%</th>\n",
       "      <td>10.50000</td>\n",
       "      <td>5311.000000</td>\n",
       "      <td>123.525993</td>\n",
       "      <td>55.855814</td>\n",
       "      <td>0.891680</td>\n",
       "      <td>5447.50000</td>\n",
       "      <td>82.231920</td>\n",
       "      <td>0.656115</td>\n",
       "      <td>298.546000</td>\n",
       "      <td>0.738314</td>\n",
       "      <td>2.209129</td>\n",
       "      <td>1.0</td>\n",
       "    </tr>\n",
       "    <tr>\n",
       "      <th>75%</th>\n",
       "      <td>15.25000</td>\n",
       "      <td>5583.750000</td>\n",
       "      <td>127.055483</td>\n",
       "      <td>57.244755</td>\n",
       "      <td>0.892780</td>\n",
       "      <td>5770.00000</td>\n",
       "      <td>84.317548</td>\n",
       "      <td>0.683610</td>\n",
       "      <td>310.858500</td>\n",
       "      <td>0.764427</td>\n",
       "      <td>2.219795</td>\n",
       "      <td>1.0</td>\n",
       "    </tr>\n",
       "    <tr>\n",
       "      <th>max</th>\n",
       "      <td>20.00000</td>\n",
       "      <td>6332.000000</td>\n",
       "      <td>227.928583</td>\n",
       "      <td>61.312148</td>\n",
       "      <td>0.893225</td>\n",
       "      <td>6528.00000</td>\n",
       "      <td>89.789492</td>\n",
       "      <td>0.833791</td>\n",
       "      <td>328.799000</td>\n",
       "      <td>0.780418</td>\n",
       "      <td>2.224152</td>\n",
       "      <td>1.0</td>\n",
       "    </tr>\n",
       "  </tbody>\n",
       "</table>\n",
       "</div>"
      ],
      "text/plain": [
       "             ID       Daerah  SumbuUtama  SumbuKecil   Keunikan  AreaBulatan  \\\n",
       "count  20.00000    20.000000   20.000000   20.000000  20.000000     20.00000   \n",
       "mean   10.50000  5125.750000  131.277042   54.887276   0.891701   5286.70000   \n",
       "std     5.91608   649.195687   33.714806    3.373880   0.001033    669.21408   \n",
       "min     1.00000  4141.000000  108.701190   49.457349   0.890095   4236.00000   \n",
       "25%     5.75000  4552.250000  115.167150   52.210008   0.891078   4748.75000   \n",
       "50%    10.50000  5311.000000  123.525993   55.855814   0.891680   5447.50000   \n",
       "75%    15.25000  5583.750000  127.055483   57.244755   0.892780   5770.00000   \n",
       "max    20.00000  6332.000000  227.928583   61.312148   0.893225   6528.00000   \n",
       "\n",
       "        Diameter   KadarAir    Keliling    Bulatan     Ransum  Target  \n",
       "count  20.000000  20.000000   20.000000  20.000000  20.000000    20.0  \n",
       "mean   80.628633   0.650385  295.174050   0.737535   2.209402     1.0  \n",
       "std     5.163754   0.084203   20.430432   0.030385   0.009922     0.0  \n",
       "min    72.611879   0.502630  260.346000   0.661849   2.194066     1.0  \n",
       "25%    76.132143   0.592110  281.466000   0.722509   2.203371     1.0  \n",
       "50%    82.231920   0.656115  298.546000   0.738314   2.209129     1.0  \n",
       "75%    84.317548   0.683610  310.858500   0.764427   2.219795     1.0  \n",
       "max    89.789492   0.833791  328.799000   0.780418   2.224152     1.0  "
      ]
     },
     "execution_count": 143,
     "metadata": {},
     "output_type": "execute_result"
    }
   ],
   "source": [
    "dataset.loc[:19].describe()"
   ]
  },
  {
   "cell_type": "markdown",
   "metadata": {},
   "source": [
    "Boxplot dan descriptive statistics Bulatan bagian kedua"
   ]
  },
  {
   "cell_type": "code",
   "execution_count": 145,
   "metadata": {},
   "outputs": [
    {
     "data": {
      "text/plain": [
       "<AxesSubplot:>"
      ]
     },
     "execution_count": 145,
     "metadata": {},
     "output_type": "execute_result"
    },
    {
     "data": {
      "image/png": "[encoded data removed]",
      "text/plain": [
       "<Figure size 432x288 with 1 Axes>"
      ]
     },
     "metadata": {
      "needs_background": "light"
     },
     "output_type": "display_data"
    }
   ],
   "source": [
    "dataset.loc[480:].boxplot([\"Bulatan\"])"
   ]
  },
  {
   "cell_type": "code",
   "execution_count": 144,
   "metadata": {},
   "outputs": [
    {
     "data": {
      "text/html": [
       "<div>\n",
       "<style scoped>\n",
       "    .dataframe tbody tr th:only-of-type {\n",
       "        vertical-align: middle;\n",
       "    }\n",
       "\n",
       "    .dataframe tbody tr th {\n",
       "        vertical-align: top;\n",
       "    }\n",
       "\n",
       "    .dataframe thead th {\n",
       "        text-align: right;\n",
       "    }\n",
       "</style>\n",
       "<table border=\"1\" class=\"dataframe\">\n",
       "  <thead>\n",
       "    <tr style=\"text-align: right;\">\n",
       "      <th></th>\n",
       "      <th>ID</th>\n",
       "      <th>Daerah</th>\n",
       "      <th>SumbuUtama</th>\n",
       "      <th>SumbuKecil</th>\n",
       "      <th>Keunikan</th>\n",
       "      <th>AreaBulatan</th>\n",
       "      <th>Diameter</th>\n",
       "      <th>KadarAir</th>\n",
       "      <th>Keliling</th>\n",
       "      <th>Bulatan</th>\n",
       "      <th>Ransum</th>\n",
       "      <th>Target</th>\n",
       "    </tr>\n",
       "  </thead>\n",
       "  <tbody>\n",
       "    <tr>\n",
       "      <th>count</th>\n",
       "      <td>20.00000</td>\n",
       "      <td>20.000000</td>\n",
       "      <td>20.000000</td>\n",
       "      <td>20.000000</td>\n",
       "      <td>20.000000</td>\n",
       "      <td>20.000000</td>\n",
       "      <td>20.000000</td>\n",
       "      <td>20.000000</td>\n",
       "      <td>20.000000</td>\n",
       "      <td>20.000000</td>\n",
       "      <td>20.000000</td>\n",
       "      <td>20.0</td>\n",
       "    </tr>\n",
       "    <tr>\n",
       "      <th>mean</th>\n",
       "      <td>490.50000</td>\n",
       "      <td>4564.550000</td>\n",
       "      <td>113.170664</td>\n",
       "      <td>51.944126</td>\n",
       "      <td>0.888450</td>\n",
       "      <td>4682.600000</td>\n",
       "      <td>75.888929</td>\n",
       "      <td>0.664968</td>\n",
       "      <td>272.239650</td>\n",
       "      <td>0.767322</td>\n",
       "      <td>2.178936</td>\n",
       "      <td>2.0</td>\n",
       "    </tr>\n",
       "    <tr>\n",
       "      <th>std</th>\n",
       "      <td>5.91608</td>\n",
       "      <td>859.446791</td>\n",
       "      <td>10.992566</td>\n",
       "      <td>5.091327</td>\n",
       "      <td>0.001642</td>\n",
       "      <td>877.517155</td>\n",
       "      <td>7.443539</td>\n",
       "      <td>0.104035</td>\n",
       "      <td>26.636919</td>\n",
       "      <td>0.025115</td>\n",
       "      <td>0.015165</td>\n",
       "      <td>0.0</td>\n",
       "    </tr>\n",
       "    <tr>\n",
       "      <th>min</th>\n",
       "      <td>481.00000</td>\n",
       "      <td>2656.000000</td>\n",
       "      <td>86.567816</td>\n",
       "      <td>39.906517</td>\n",
       "      <td>0.885643</td>\n",
       "      <td>2721.000000</td>\n",
       "      <td>58.152594</td>\n",
       "      <td>0.528421</td>\n",
       "      <td>207.697000</td>\n",
       "      <td>0.711677</td>\n",
       "      <td>2.153467</td>\n",
       "      <td>2.0</td>\n",
       "    </tr>\n",
       "    <tr>\n",
       "      <th>25%</th>\n",
       "      <td>485.75000</td>\n",
       "      <td>4097.250000</td>\n",
       "      <td>107.691641</td>\n",
       "      <td>49.238579</td>\n",
       "      <td>0.887318</td>\n",
       "      <td>4200.250000</td>\n",
       "      <td>72.226587</td>\n",
       "      <td>0.583148</td>\n",
       "      <td>257.799500</td>\n",
       "      <td>0.753426</td>\n",
       "      <td>2.168453</td>\n",
       "      <td>2.0</td>\n",
       "    </tr>\n",
       "    <tr>\n",
       "      <th>50%</th>\n",
       "      <td>490.50000</td>\n",
       "      <td>4624.500000</td>\n",
       "      <td>114.461752</td>\n",
       "      <td>52.944960</td>\n",
       "      <td>0.888650</td>\n",
       "      <td>4776.500000</td>\n",
       "      <td>76.730879</td>\n",
       "      <td>0.646776</td>\n",
       "      <td>280.876500</td>\n",
       "      <td>0.773010</td>\n",
       "      <td>2.180614</td>\n",
       "      <td>2.0</td>\n",
       "    </tr>\n",
       "    <tr>\n",
       "      <th>75%</th>\n",
       "      <td>495.25000</td>\n",
       "      <td>5109.250000</td>\n",
       "      <td>120.314391</td>\n",
       "      <td>55.009252</td>\n",
       "      <td>0.889657</td>\n",
       "      <td>5221.750000</td>\n",
       "      <td>80.654640</td>\n",
       "      <td>0.706628</td>\n",
       "      <td>287.667750</td>\n",
       "      <td>0.780859</td>\n",
       "      <td>2.189959</td>\n",
       "      <td>2.0</td>\n",
       "    </tr>\n",
       "    <tr>\n",
       "      <th>max</th>\n",
       "      <td>500.00000</td>\n",
       "      <td>6063.000000</td>\n",
       "      <td>131.291578</td>\n",
       "      <td>60.178119</td>\n",
       "      <td>0.892647</td>\n",
       "      <td>6203.000000</td>\n",
       "      <td>87.861547</td>\n",
       "      <td>0.877897</td>\n",
       "      <td>313.372000</td>\n",
       "      <td>0.804733</td>\n",
       "      <td>2.218493</td>\n",
       "      <td>2.0</td>\n",
       "    </tr>\n",
       "  </tbody>\n",
       "</table>\n",
       "</div>"
      ],
      "text/plain": [
       "              ID       Daerah  SumbuUtama  SumbuKecil   Keunikan  AreaBulatan  \\\n",
       "count   20.00000    20.000000   20.000000   20.000000  20.000000    20.000000   \n",
       "mean   490.50000  4564.550000  113.170664   51.944126   0.888450  4682.600000   \n",
       "std      5.91608   859.446791   10.992566    5.091327   0.001642   877.517155   \n",
       "min    481.00000  2656.000000   86.567816   39.906517   0.885643  2721.000000   \n",
       "25%    485.75000  4097.250000  107.691641   49.238579   0.887318  4200.250000   \n",
       "50%    490.50000  4624.500000  114.461752   52.944960   0.888650  4776.500000   \n",
       "75%    495.25000  5109.250000  120.314391   55.009252   0.889657  5221.750000   \n",
       "max    500.00000  6063.000000  131.291578   60.178119   0.892647  6203.000000   \n",
       "\n",
       "        Diameter   KadarAir    Keliling    Bulatan     Ransum  Target  \n",
       "count  20.000000  20.000000   20.000000  20.000000  20.000000    20.0  \n",
       "mean   75.888929   0.664968  272.239650   0.767322   2.178936     2.0  \n",
       "std     7.443539   0.104035   26.636919   0.025115   0.015165     0.0  \n",
       "min    58.152594   0.528421  207.697000   0.711677   2.153467     2.0  \n",
       "25%    72.226587   0.583148  257.799500   0.753426   2.168453     2.0  \n",
       "50%    76.730879   0.646776  280.876500   0.773010   2.180614     2.0  \n",
       "75%    80.654640   0.706628  287.667750   0.780859   2.189959     2.0  \n",
       "max    87.861547   0.877897  313.372000   0.804733   2.218493     2.0  "
      ]
     },
     "execution_count": 144,
     "metadata": {},
     "output_type": "execute_result"
    }
   ],
   "source": [
    "dataset.loc[480:].describe()"
   ]
  },
  {
   "cell_type": "markdown",
   "metadata": {},
   "source": [
    "1. **Hipotesis nol**\n",
    "\n",
    "$Bulatan1$ dan $Bulatan2$ menunjukan bagian $20$ baris awal dan $20$ baris akhir dari kolom Bulatan\n",
    "\n",
    "$H_0 : \\mu_{Bulatan1} = \\mu_{Bulatan2}$\n",
    "\n",
    "2. **Hipotesis alternatif**\n",
    "\n",
    "$H_1 : \\mu_{Bulatan1} \\neq \\mu_{Bulatan2}$\n",
    "\n",
    "3. **Tingkat signifikan**\n",
    "\n",
    "$\\alpha = 0.05$\n",
    "\n",
    "4. **Penentuan uji statistik dan daerah kritis**\n",
    "\n",
    "Diasumsikan kolom Bulatan menuruti distribusi normal untuk mempermudah perhitungan.\n",
    "\n",
    "Untuk uji statistik 2 sampel digunakan $t$-distribution pada penghitungan uji statistik. Hipotesis yang diinginkan merupakan **two-tailed** dikarenakan tidak sama dengan hipotesis nol.\n",
    "\n",
    "![ttable](other/img/ttable.jpg)\n",
    "\n",
    "Karena derajat kebebasan tinggi, digunakan kalkulator untuk menemukan nilai kritis $t$. $t$ bernilai sekitar $1.965$ untuk mendapatkan $\\alpha = 2\\cdot0.025$.\n",
    "Sehingga daerah kritis terletak kisaran $c < -1.965$ atau $c > 1.965$ untuk mendapatkan nilai $\\alpha = 2\\cdot0.025$ dan memenuhi hipotesis alternatif ($H_1 : \\mu_{Bulatan1} \\neq \\mu_{Bulatan2}$).\n",
    "\n",
    "Keputusan didasarkan nilai uji statistik $t$ berada dalam daerah kritis atau tidak. Perhitungan nilai uji statistik $t$ adalah sebagai berikut\n",
    "\n",
    "$t = \\Large\\frac{(\\bar{X_1} - \\bar{X_2})-(\\mu_1 - \\mu_2)}{\\sqrt{\\Large\\frac{\\sigma_1^2}{\\Large n_{\\ 1}} + \\Large\\frac{\\sigma_2^2}{\\Large n_{\\large 2}}}}$\n",
    "\n",
    "Dengan $\\bar{X}$ adalah rata-rata pada sampel.\n",
    "\n",
    "5. **Perhitungan uji statistik dan $p$-value**\n",
    "\n",
    "Berdasarkan hipotesis dan statistik yang didapat pada descriptive statistics yang dilakukan diatas\n",
    "\n",
    "$\\mu_1 - \\mu_2 = 0$\n",
    "\n",
    "$\\bar{X_1} = 0.737535, \\, \\bar{X_2} = 0.767322$\n",
    "\n",
    "$\\sigma_1 = 0.030385, \\, \\sigma_2 = 0.025115$\n",
    "\n",
    "$n_1 = 20, \\, n_2 = 20$"
   ]
  },
  {
   "cell_type": "code",
   "execution_count": 154,
   "metadata": {},
   "outputs": [
    {
     "data": {
      "text/markdown": [
       "$t = -3.3792059099400866$"
      ],
      "text/plain": [
       "<IPython.core.display.Markdown object>"
      ]
     },
     "metadata": {},
     "output_type": "display_data"
    }
   ],
   "source": [
    "t = tScore(0.737535, 0.767322, 0, 0, 0.030385, 0.025115, 20, 20)\n",
    "printMarkdown(f\"$t = {t}$\")"
   ]
  },
  {
   "cell_type": "markdown",
   "metadata": {},
   "source": [
    "6. **Keputusan**\n",
    "\n",
    "Nilai $t$ yang dihitung dari uji statistik menunjukan bahwa $t$ terletak pada daerah kritis yakni $c < -1.96$ sehingga hipotesis nol ($H_0 : \\mu_{Bulatan1} = \\mu_{Bulatan2}$) **dapat ditolak**."
   ]
  },
  {
   "cell_type": "markdown",
   "metadata": {},
   "source": [
    "***\n",
    "```\n",
    "\n",
    "```"
   ]
  },
  {
   "cell_type": "markdown",
   "metadata": {},
   "source": [
    "##### 4.5.4. Proporsi nilai bagian awal Ransum yang lebih dari $2$, adalah lebih besar daripada, proporsi nilai yang sama di bagian akhir Ransum?"
   ]
  },
  {
   "cell_type": "markdown",
   "metadata": {},
   "source": [
    "Boxplot dan descriptive statistics Ransum bagian kedua"
   ]
  },
  {
   "cell_type": "code",
   "execution_count": 160,
   "metadata": {},
   "outputs": [
    {
     "data": {
      "text/plain": [
       "<AxesSubplot:>"
      ]
     },
     "execution_count": 160,
     "metadata": {},
     "output_type": "execute_result"
    },
    {
     "data": {
      "image/png": "[encoded data removed]",
      "text/plain": [
       "<Figure size 432x288 with 1 Axes>"
      ]
     },
     "metadata": {
      "needs_background": "light"
     },
     "output_type": "display_data"
    }
   ],
   "source": [
    "dataset.loc[:249].boxplot([\"Ransum\"])"
   ]
  },
  {
   "cell_type": "code",
   "execution_count": 159,
   "metadata": {},
   "outputs": [
    {
     "data": {
      "text/html": [
       "<div>\n",
       "<style scoped>\n",
       "    .dataframe tbody tr th:only-of-type {\n",
       "        vertical-align: middle;\n",
       "    }\n",
       "\n",
       "    .dataframe tbody tr th {\n",
       "        vertical-align: top;\n",
       "    }\n",
       "\n",
       "    .dataframe thead th {\n",
       "        text-align: right;\n",
       "    }\n",
       "</style>\n",
       "<table border=\"1\" class=\"dataframe\">\n",
       "  <thead>\n",
       "    <tr style=\"text-align: right;\">\n",
       "      <th></th>\n",
       "      <th>ID</th>\n",
       "      <th>Daerah</th>\n",
       "      <th>SumbuUtama</th>\n",
       "      <th>SumbuKecil</th>\n",
       "      <th>Keunikan</th>\n",
       "      <th>AreaBulatan</th>\n",
       "      <th>Diameter</th>\n",
       "      <th>KadarAir</th>\n",
       "      <th>Keliling</th>\n",
       "      <th>Bulatan</th>\n",
       "      <th>Ransum</th>\n",
       "      <th>Target</th>\n",
       "    </tr>\n",
       "  </thead>\n",
       "  <tbody>\n",
       "    <tr>\n",
       "      <th>count</th>\n",
       "      <td>250.000000</td>\n",
       "      <td>250.000000</td>\n",
       "      <td>250.000000</td>\n",
       "      <td>250.000000</td>\n",
       "      <td>250.000000</td>\n",
       "      <td>250.000000</td>\n",
       "      <td>250.000000</td>\n",
       "      <td>250.000000</td>\n",
       "      <td>250.000000</td>\n",
       "      <td>250.000000</td>\n",
       "      <td>250.000000</td>\n",
       "      <td>250.000000</td>\n",
       "    </tr>\n",
       "    <tr>\n",
       "      <th>mean</th>\n",
       "      <td>125.500000</td>\n",
       "      <td>5394.136000</td>\n",
       "      <td>128.973929</td>\n",
       "      <td>54.378581</td>\n",
       "      <td>0.904826</td>\n",
       "      <td>5549.804000</td>\n",
       "      <td>82.613746</td>\n",
       "      <td>0.635743</td>\n",
       "      <td>305.125020</td>\n",
       "      <td>0.728154</td>\n",
       "      <td>2.357643</td>\n",
       "      <td>1.004000</td>\n",
       "    </tr>\n",
       "    <tr>\n",
       "      <th>std</th>\n",
       "      <td>72.312977</td>\n",
       "      <td>845.269999</td>\n",
       "      <td>14.093670</td>\n",
       "      <td>4.203742</td>\n",
       "      <td>0.013431</td>\n",
       "      <td>867.025436</td>\n",
       "      <td>6.570311</td>\n",
       "      <td>0.095096</td>\n",
       "      <td>29.637571</td>\n",
       "      <td>0.051092</td>\n",
       "      <td>0.094939</td>\n",
       "      <td>0.063246</td>\n",
       "    </tr>\n",
       "    <tr>\n",
       "      <th>min</th>\n",
       "      <td>1.000000</td>\n",
       "      <td>3136.000000</td>\n",
       "      <td>92.229316</td>\n",
       "      <td>41.436419</td>\n",
       "      <td>0.719916</td>\n",
       "      <td>3270.000000</td>\n",
       "      <td>63.189233</td>\n",
       "      <td>0.418947</td>\n",
       "      <td>234.781000</td>\n",
       "      <td>0.261297</td>\n",
       "      <td>1.440796</td>\n",
       "      <td>1.000000</td>\n",
       "    </tr>\n",
       "    <tr>\n",
       "      <th>25%</th>\n",
       "      <td>63.250000</td>\n",
       "      <td>4817.000000</td>\n",
       "      <td>122.008029</td>\n",
       "      <td>51.753392</td>\n",
       "      <td>0.901810</td>\n",
       "      <td>4961.250000</td>\n",
       "      <td>78.314712</td>\n",
       "      <td>0.553903</td>\n",
       "      <td>286.563500</td>\n",
       "      <td>0.718566</td>\n",
       "      <td>2.314103</td>\n",
       "      <td>1.000000</td>\n",
       "    </tr>\n",
       "    <tr>\n",
       "      <th>50%</th>\n",
       "      <td>125.500000</td>\n",
       "      <td>5444.500000</td>\n",
       "      <td>128.659787</td>\n",
       "      <td>54.507285</td>\n",
       "      <td>0.907613</td>\n",
       "      <td>5551.000000</td>\n",
       "      <td>83.259548</td>\n",
       "      <td>0.611873</td>\n",
       "      <td>304.742500</td>\n",
       "      <td>0.735247</td>\n",
       "      <td>2.382048</td>\n",
       "      <td>1.000000</td>\n",
       "    </tr>\n",
       "    <tr>\n",
       "      <th>75%</th>\n",
       "      <td>187.750000</td>\n",
       "      <td>5940.000000</td>\n",
       "      <td>135.848720</td>\n",
       "      <td>57.150251</td>\n",
       "      <td>0.910973</td>\n",
       "      <td>6093.750000</td>\n",
       "      <td>86.965749</td>\n",
       "      <td>0.712129</td>\n",
       "      <td>320.882750</td>\n",
       "      <td>0.752251</td>\n",
       "      <td>2.424445</td>\n",
       "      <td>1.000000</td>\n",
       "    </tr>\n",
       "    <tr>\n",
       "      <th>max</th>\n",
       "      <td>250.000000</td>\n",
       "      <td>7453.000000</td>\n",
       "      <td>227.928583</td>\n",
       "      <td>64.012769</td>\n",
       "      <td>0.914001</td>\n",
       "      <td>7720.000000</td>\n",
       "      <td>97.413830</td>\n",
       "      <td>0.878899</td>\n",
       "      <td>448.305000</td>\n",
       "      <td>0.785460</td>\n",
       "      <td>2.464809</td>\n",
       "      <td>2.000000</td>\n",
       "    </tr>\n",
       "  </tbody>\n",
       "</table>\n",
       "</div>"
      ],
      "text/plain": [
       "               ID       Daerah  SumbuUtama  SumbuKecil    Keunikan  \\\n",
       "count  250.000000   250.000000  250.000000  250.000000  250.000000   \n",
       "mean   125.500000  5394.136000  128.973929   54.378581    0.904826   \n",
       "std     72.312977   845.269999   14.093670    4.203742    0.013431   \n",
       "min      1.000000  3136.000000   92.229316   41.436419    0.719916   \n",
       "25%     63.250000  4817.000000  122.008029   51.753392    0.901810   \n",
       "50%    125.500000  5444.500000  128.659787   54.507285    0.907613   \n",
       "75%    187.750000  5940.000000  135.848720   57.150251    0.910973   \n",
       "max    250.000000  7453.000000  227.928583   64.012769    0.914001   \n",
       "\n",
       "       AreaBulatan    Diameter    KadarAir    Keliling     Bulatan  \\\n",
       "count   250.000000  250.000000  250.000000  250.000000  250.000000   \n",
       "mean   5549.804000   82.613746    0.635743  305.125020    0.728154   \n",
       "std     867.025436    6.570311    0.095096   29.637571    0.051092   \n",
       "min    3270.000000   63.189233    0.418947  234.781000    0.261297   \n",
       "25%    4961.250000   78.314712    0.553903  286.563500    0.718566   \n",
       "50%    5551.000000   83.259548    0.611873  304.742500    0.735247   \n",
       "75%    6093.750000   86.965749    0.712129  320.882750    0.752251   \n",
       "max    7720.000000   97.413830    0.878899  448.305000    0.785460   \n",
       "\n",
       "           Ransum      Target  \n",
       "count  250.000000  250.000000  \n",
       "mean     2.357643    1.004000  \n",
       "std      0.094939    0.063246  \n",
       "min      1.440796    1.000000  \n",
       "25%      2.314103    1.000000  \n",
       "50%      2.382048    1.000000  \n",
       "75%      2.424445    1.000000  \n",
       "max      2.464809    2.000000  "
      ]
     },
     "execution_count": 159,
     "metadata": {},
     "output_type": "execute_result"
    }
   ],
   "source": [
    "dataset.loc[:249].describe()"
   ]
  },
  {
   "cell_type": "markdown",
   "metadata": {},
   "source": [
    "Boxplot dan descriptive statistics Ransum bagian kedua"
   ]
  },
  {
   "cell_type": "code",
   "execution_count": 157,
   "metadata": {},
   "outputs": [
    {
     "data": {
      "text/plain": [
       "<AxesSubplot:>"
      ]
     },
     "execution_count": 157,
     "metadata": {},
     "output_type": "execute_result"
    },
    {
     "data": {
      "image/png": "[encoded data removed]",
      "text/plain": [
       "<Figure size 432x288 with 1 Axes>"
      ]
     },
     "metadata": {
      "needs_background": "light"
     },
     "output_type": "display_data"
    }
   ],
   "source": [
    "dataset.loc[250:].boxplot([\"Ransum\"])"
   ]
  },
  {
   "cell_type": "code",
   "execution_count": 158,
   "metadata": {},
   "outputs": [
    {
     "data": {
      "text/html": [
       "<div>\n",
       "<style scoped>\n",
       "    .dataframe tbody tr th:only-of-type {\n",
       "        vertical-align: middle;\n",
       "    }\n",
       "\n",
       "    .dataframe tbody tr th {\n",
       "        vertical-align: top;\n",
       "    }\n",
       "\n",
       "    .dataframe thead th {\n",
       "        text-align: right;\n",
       "    }\n",
       "</style>\n",
       "<table border=\"1\" class=\"dataframe\">\n",
       "  <thead>\n",
       "    <tr style=\"text-align: right;\">\n",
       "      <th></th>\n",
       "      <th>ID</th>\n",
       "      <th>Daerah</th>\n",
       "      <th>SumbuUtama</th>\n",
       "      <th>SumbuKecil</th>\n",
       "      <th>Keunikan</th>\n",
       "      <th>AreaBulatan</th>\n",
       "      <th>Diameter</th>\n",
       "      <th>KadarAir</th>\n",
       "      <th>Keliling</th>\n",
       "      <th>Bulatan</th>\n",
       "      <th>Ransum</th>\n",
       "      <th>Target</th>\n",
       "    </tr>\n",
       "  </thead>\n",
       "  <tbody>\n",
       "    <tr>\n",
       "      <th>count</th>\n",
       "      <td>250.000000</td>\n",
       "      <td>250.000000</td>\n",
       "      <td>250.000000</td>\n",
       "      <td>250.000000</td>\n",
       "      <td>250.000000</td>\n",
       "      <td>250.000000</td>\n",
       "      <td>250.000000</td>\n",
       "      <td>250.000000</td>\n",
       "      <td>250.000000</td>\n",
       "      <td>250.000000</td>\n",
       "      <td>250.000000</td>\n",
       "      <td>250.0</td>\n",
       "    </tr>\n",
       "    <tr>\n",
       "      <th>mean</th>\n",
       "      <td>375.500000</td>\n",
       "      <td>4208.356000</td>\n",
       "      <td>103.116414</td>\n",
       "      <td>53.051911</td>\n",
       "      <td>0.852702</td>\n",
       "      <td>4324.292000</td>\n",
       "      <td>72.928570</td>\n",
       "      <td>0.661000</td>\n",
       "      <td>257.834424</td>\n",
       "      <td>0.795321</td>\n",
       "      <td>1.944187</td>\n",
       "      <td>2.0</td>\n",
       "    </tr>\n",
       "    <tr>\n",
       "      <th>std</th>\n",
       "      <td>72.312977</td>\n",
       "      <td>727.679702</td>\n",
       "      <td>11.643519</td>\n",
       "      <td>3.828688</td>\n",
       "      <td>0.033736</td>\n",
       "      <td>738.566466</td>\n",
       "      <td>6.310964</td>\n",
       "      <td>0.092101</td>\n",
       "      <td>28.149351</td>\n",
       "      <td>0.052484</td>\n",
       "      <td>0.173747</td>\n",
       "      <td>0.0</td>\n",
       "    </tr>\n",
       "    <tr>\n",
       "      <th>min</th>\n",
       "      <td>251.000000</td>\n",
       "      <td>2522.000000</td>\n",
       "      <td>74.133114</td>\n",
       "      <td>39.906517</td>\n",
       "      <td>0.725553</td>\n",
       "      <td>2579.000000</td>\n",
       "      <td>56.666658</td>\n",
       "      <td>0.409927</td>\n",
       "      <td>197.015000</td>\n",
       "      <td>0.174590</td>\n",
       "      <td>1.453137</td>\n",
       "      <td>2.0</td>\n",
       "    </tr>\n",
       "    <tr>\n",
       "      <th>25%</th>\n",
       "      <td>313.250000</td>\n",
       "      <td>3733.500000</td>\n",
       "      <td>95.519781</td>\n",
       "      <td>50.797123</td>\n",
       "      <td>0.839186</td>\n",
       "      <td>3827.250000</td>\n",
       "      <td>68.946644</td>\n",
       "      <td>0.590431</td>\n",
       "      <td>240.300000</td>\n",
       "      <td>0.773805</td>\n",
       "      <td>1.838760</td>\n",
       "      <td>2.0</td>\n",
       "    </tr>\n",
       "    <tr>\n",
       "      <th>50%</th>\n",
       "      <td>375.500000</td>\n",
       "      <td>4171.500000</td>\n",
       "      <td>104.332979</td>\n",
       "      <td>52.666834</td>\n",
       "      <td>0.863701</td>\n",
       "      <td>4283.000000</td>\n",
       "      <td>72.878794</td>\n",
       "      <td>0.634284</td>\n",
       "      <td>257.184000</td>\n",
       "      <td>0.796387</td>\n",
       "      <td>1.984110</td>\n",
       "      <td>2.0</td>\n",
       "    </tr>\n",
       "    <tr>\n",
       "      <th>75%</th>\n",
       "      <td>437.750000</td>\n",
       "      <td>4622.500000</td>\n",
       "      <td>110.482779</td>\n",
       "      <td>55.658914</td>\n",
       "      <td>0.876217</td>\n",
       "      <td>4759.750000</td>\n",
       "      <td>76.717337</td>\n",
       "      <td>0.737766</td>\n",
       "      <td>272.856250</td>\n",
       "      <td>0.816398</td>\n",
       "      <td>2.075044</td>\n",
       "      <td>2.0</td>\n",
       "    </tr>\n",
       "    <tr>\n",
       "      <th>max</th>\n",
       "      <td>500.000000</td>\n",
       "      <td>6946.000000</td>\n",
       "      <td>136.303603</td>\n",
       "      <td>68.977700</td>\n",
       "      <td>0.892647</td>\n",
       "      <td>7115.000000</td>\n",
       "      <td>94.042128</td>\n",
       "      <td>0.877897</td>\n",
       "      <td>488.837000</td>\n",
       "      <td>0.904748</td>\n",
       "      <td>2.218493</td>\n",
       "      <td>2.0</td>\n",
       "    </tr>\n",
       "  </tbody>\n",
       "</table>\n",
       "</div>"
      ],
      "text/plain": [
       "               ID       Daerah  SumbuUtama  SumbuKecil    Keunikan  \\\n",
       "count  250.000000   250.000000  250.000000  250.000000  250.000000   \n",
       "mean   375.500000  4208.356000  103.116414   53.051911    0.852702   \n",
       "std     72.312977   727.679702   11.643519    3.828688    0.033736   \n",
       "min    251.000000  2522.000000   74.133114   39.906517    0.725553   \n",
       "25%    313.250000  3733.500000   95.519781   50.797123    0.839186   \n",
       "50%    375.500000  4171.500000  104.332979   52.666834    0.863701   \n",
       "75%    437.750000  4622.500000  110.482779   55.658914    0.876217   \n",
       "max    500.000000  6946.000000  136.303603   68.977700    0.892647   \n",
       "\n",
       "       AreaBulatan    Diameter    KadarAir    Keliling     Bulatan  \\\n",
       "count   250.000000  250.000000  250.000000  250.000000  250.000000   \n",
       "mean   4324.292000   72.928570    0.661000  257.834424    0.795321   \n",
       "std     738.566466    6.310964    0.092101   28.149351    0.052484   \n",
       "min    2579.000000   56.666658    0.409927  197.015000    0.174590   \n",
       "25%    3827.250000   68.946644    0.590431  240.300000    0.773805   \n",
       "50%    4283.000000   72.878794    0.634284  257.184000    0.796387   \n",
       "75%    4759.750000   76.717337    0.737766  272.856250    0.816398   \n",
       "max    7115.000000   94.042128    0.877897  488.837000    0.904748   \n",
       "\n",
       "           Ransum  Target  \n",
       "count  250.000000   250.0  \n",
       "mean     1.944187     2.0  \n",
       "std      0.173747     0.0  \n",
       "min      1.453137     2.0  \n",
       "25%      1.838760     2.0  \n",
       "50%      1.984110     2.0  \n",
       "75%      2.075044     2.0  \n",
       "max      2.218493     2.0  "
      ]
     },
     "execution_count": 158,
     "metadata": {},
     "output_type": "execute_result"
    }
   ],
   "source": [
    "dataset.loc[250:].describe()"
   ]
  },
  {
   "cell_type": "markdown",
   "metadata": {},
   "source": [
    "1. **Hipotesis nol**\n",
    "\n",
    "$Ransum1$ dan $Ransum2$ menunjukan bagian awal dan akhir dari kolom Ransum\n",
    "\n",
    "$X$ adalah variabel random $Ransum1$ dan $Y$ adalah variabel random $Ransum2$.\n",
    "\n",
    "$H_0 : P(X > 2) = P(Y > 2)$\n",
    "\n",
    "2. **Hipotesis alternatif**\n",
    "\n",
    "$H_1 : P(X > 2) < P(Y > 2)$\n",
    "\n",
    "3. **Tingkat signifikan**\n",
    "\n",
    "$\\alpha = 0.05$\n",
    "\n",
    "4. **Penentuan uji statistik dan daerah kritis**\n",
    "\n",
    "Diasumsikan kolom Ransum menuruti distribusi normal untuk mempermudah perhitungan.\n",
    "\n",
    "Untuk proporsi dua sampel digunakan tabel distribusi normal pada penghitungan uji statistik. Hipotesis yang diinginkan merupakan **one-tailed** dikarenakan kurang dari dengan hipotesis nol.\n",
    "\n",
    "![ztable](other/img/ztable.png)\n",
    "\n",
    "Pada tabel terlihat $z$ bernilai sekitar $1.65$ untuk mendapatkan nilai kisaran $0.9505$.\n",
    "Sehingga daerah kritis terletak kisaran $c < -1.65$ untuk mendapatkan nilai $\\alpha = 1 - 0.9505$ dan memenuhi hipotesis alternatif ($H_1 : P(X > 2) < P(Y > 2)$).\n",
    "\n",
    "Hipotesis nol akan didasarkan dengan nilai uji statistik $z_t$ masuk ke dalam daerah kritis atau tidak. Nilai uji statistik $z_t$ dapat dihitung dengan\n",
    "\n",
    "$z_t = \\Large\\frac{(\\hat{p}_1 - \\hat{p}_2) - (p_1 - p_2)}{\\sqrt{\\hat{p}_c(1-\\hat{p}_c)(\\frac{1}{n_1} + \\frac{1}{n_2})}}$\n",
    "\n",
    "$\\hat{p}_c = \\Large\\frac{x_1 + x_2}{n_1 + n_2} $ \n",
    "\n",
    "Dengan $\\hat{p}$ adalah proporsi sampel.\n",
    "\n",
    "5. **Perhitungan uji statistik dan $p$-value**\n",
    "\n",
    "Berdasarkan hipotesis dan statistik yang didapat pada descriptive statistics yang dilakukan diatas\n",
    "\n",
    "$P(X > 2) = P(Y > 2) \\Leftrightarrow p_1 = p_2 $\n",
    "\n",
    "$\\mu_1 = 2.357643, \\, \\mu_2 = 1.944187$\n",
    "\n",
    "$\\sigma_1 = 0.094939, \\, \\sigma_2 = 0.173747$\n",
    "\n",
    "$n_1 = 250, \\, n_2 = 250$"
   ]
  },
  {
   "cell_type": "markdown",
   "metadata": {},
   "source": [
    "Perhitungan $\\hat{p}_1$"
   ]
  },
  {
   "cell_type": "code",
   "execution_count": 178,
   "metadata": {},
   "outputs": [
    {
     "data": {
      "text/markdown": [
       "$\\hat{p}_1 = 0.996$"
      ],
      "text/plain": [
       "<IPython.core.display.Markdown object>"
      ]
     },
     "metadata": {},
     "output_type": "display_data"
    }
   ],
   "source": [
    "lowerSectionCount = 0\n",
    "for i in range(0, 250):\n",
    "    if dataset[\"Ransum\"][i] > 2:\n",
    "        lowerSectionCount += 1\n",
    "\n",
    "p1 = lowerSectionCount/250\n",
    "printMarkdown(\"$\\\\hat{p}_1 = \" + f\"{p1}$\")"
   ]
  },
  {
   "cell_type": "markdown",
   "metadata": {},
   "source": [
    "Perhitungan $\\hat{p}_2$"
   ]
  },
  {
   "cell_type": "code",
   "execution_count": 183,
   "metadata": {},
   "outputs": [
    {
     "data": {
      "text/markdown": [
       "$\\hat{p}_2 = 0.464$"
      ],
      "text/plain": [
       "<IPython.core.display.Markdown object>"
      ]
     },
     "metadata": {},
     "output_type": "display_data"
    }
   ],
   "source": [
    "upperSectionCount = 0\n",
    "for i in range(250, 500):\n",
    "    if dataset[\"Ransum\"][i] > 2:\n",
    "        upperSectionCount += 1\n",
    "\n",
    "p2 = upperSectionCount/250\n",
    "printMarkdown(\"$\\\\hat{p}_2 = \" + f\"{p2}$\")"
   ]
  },
  {
   "cell_type": "markdown",
   "metadata": {},
   "source": [
    "Perhitungan $\\hat{p}_c$"
   ]
  },
  {
   "cell_type": "code",
   "execution_count": 180,
   "metadata": {},
   "outputs": [
    {
     "data": {
      "text/markdown": [
       "$\\hat{p}_c = 0.73$"
      ],
      "text/plain": [
       "<IPython.core.display.Markdown object>"
      ]
     },
     "metadata": {},
     "output_type": "display_data"
    }
   ],
   "source": [
    "pc = (lowerSectionCount + upperSectionCount)/500\n",
    "printMarkdown(\"$\\\\hat{p}_c = \" + f\"{pc}$\")"
   ]
  },
  {
   "cell_type": "code",
   "execution_count": 182,
   "metadata": {},
   "outputs": [
    {
     "data": {
      "text/markdown": [
       "$z_t = 13.397486455610238$"
      ],
      "text/plain": [
       "<IPython.core.display.Markdown object>"
      ]
     },
     "metadata": {},
     "output_type": "display_data"
    }
   ],
   "source": [
    "zt = (p1-p2)/(pc*(1-pc)/125)**(0.5)\n",
    "printMarkdown(\"$z_t = \" + f\"{zt}$\")"
   ]
  },
  {
   "cell_type": "markdown",
   "metadata": {},
   "source": [
    "6. **Keputusan**\n",
    "\n",
    "Nilai $z_t$ yang dihitung dari uji statistik menunjukan bahwa $z_t$ tidak terletak pada daerah kritis yakni $c < -1.65$ sehingga hipotesis nol ($H_0 : P(X > 2) = P(Y > 2)$) **gagal untuk ditolak**."
   ]
  },
  {
   "cell_type": "markdown",
   "metadata": {},
   "source": [
    "***\n",
    "```\n",
    "\n",
    "```"
   ]
  },
  {
   "cell_type": "markdown",
   "metadata": {},
   "source": [
    "##### 4.5.5. Bagian awal kolom Diameter memiliki variansi yang sama dengan bagian akhirnya?"
   ]
  },
  {
   "cell_type": "markdown",
   "metadata": {},
   "source": [
    "Boxplot dan descriptive statistics Diameter bagian kedua"
   ]
  },
  {
   "cell_type": "code",
   "execution_count": 191,
   "metadata": {},
   "outputs": [
    {
     "data": {
      "text/plain": [
       "<AxesSubplot:>"
      ]
     },
     "execution_count": 191,
     "metadata": {},
     "output_type": "execute_result"
    },
    {
     "data": {
      "image/png": "[encoded data removed]",
      "text/plain": [
       "<Figure size 432x288 with 1 Axes>"
      ]
     },
     "metadata": {
      "needs_background": "light"
     },
     "output_type": "display_data"
    }
   ],
   "source": [
    "dataset.loc[:249].boxplot([\"Diameter\"])"
   ]
  },
  {
   "cell_type": "code",
   "execution_count": 190,
   "metadata": {},
   "outputs": [
    {
     "data": {
      "text/html": [
       "<div>\n",
       "<style scoped>\n",
       "    .dataframe tbody tr th:only-of-type {\n",
       "        vertical-align: middle;\n",
       "    }\n",
       "\n",
       "    .dataframe tbody tr th {\n",
       "        vertical-align: top;\n",
       "    }\n",
       "\n",
       "    .dataframe thead th {\n",
       "        text-align: right;\n",
       "    }\n",
       "</style>\n",
       "<table border=\"1\" class=\"dataframe\">\n",
       "  <thead>\n",
       "    <tr style=\"text-align: right;\">\n",
       "      <th></th>\n",
       "      <th>ID</th>\n",
       "      <th>Daerah</th>\n",
       "      <th>SumbuUtama</th>\n",
       "      <th>SumbuKecil</th>\n",
       "      <th>Keunikan</th>\n",
       "      <th>AreaBulatan</th>\n",
       "      <th>Diameter</th>\n",
       "      <th>KadarAir</th>\n",
       "      <th>Keliling</th>\n",
       "      <th>Bulatan</th>\n",
       "      <th>Ransum</th>\n",
       "      <th>Target</th>\n",
       "    </tr>\n",
       "  </thead>\n",
       "  <tbody>\n",
       "    <tr>\n",
       "      <th>count</th>\n",
       "      <td>250.000000</td>\n",
       "      <td>250.000000</td>\n",
       "      <td>250.000000</td>\n",
       "      <td>250.000000</td>\n",
       "      <td>250.000000</td>\n",
       "      <td>250.000000</td>\n",
       "      <td>250.000000</td>\n",
       "      <td>250.000000</td>\n",
       "      <td>250.000000</td>\n",
       "      <td>250.000000</td>\n",
       "      <td>250.000000</td>\n",
       "      <td>250.000000</td>\n",
       "    </tr>\n",
       "    <tr>\n",
       "      <th>mean</th>\n",
       "      <td>125.500000</td>\n",
       "      <td>5394.136000</td>\n",
       "      <td>128.973929</td>\n",
       "      <td>54.378581</td>\n",
       "      <td>0.904826</td>\n",
       "      <td>5549.804000</td>\n",
       "      <td>82.613746</td>\n",
       "      <td>0.635743</td>\n",
       "      <td>305.125020</td>\n",
       "      <td>0.728154</td>\n",
       "      <td>2.357643</td>\n",
       "      <td>1.004000</td>\n",
       "    </tr>\n",
       "    <tr>\n",
       "      <th>std</th>\n",
       "      <td>72.312977</td>\n",
       "      <td>845.269999</td>\n",
       "      <td>14.093670</td>\n",
       "      <td>4.203742</td>\n",
       "      <td>0.013431</td>\n",
       "      <td>867.025436</td>\n",
       "      <td>6.570311</td>\n",
       "      <td>0.095096</td>\n",
       "      <td>29.637571</td>\n",
       "      <td>0.051092</td>\n",
       "      <td>0.094939</td>\n",
       "      <td>0.063246</td>\n",
       "    </tr>\n",
       "    <tr>\n",
       "      <th>min</th>\n",
       "      <td>1.000000</td>\n",
       "      <td>3136.000000</td>\n",
       "      <td>92.229316</td>\n",
       "      <td>41.436419</td>\n",
       "      <td>0.719916</td>\n",
       "      <td>3270.000000</td>\n",
       "      <td>63.189233</td>\n",
       "      <td>0.418947</td>\n",
       "      <td>234.781000</td>\n",
       "      <td>0.261297</td>\n",
       "      <td>1.440796</td>\n",
       "      <td>1.000000</td>\n",
       "    </tr>\n",
       "    <tr>\n",
       "      <th>25%</th>\n",
       "      <td>63.250000</td>\n",
       "      <td>4817.000000</td>\n",
       "      <td>122.008029</td>\n",
       "      <td>51.753392</td>\n",
       "      <td>0.901810</td>\n",
       "      <td>4961.250000</td>\n",
       "      <td>78.314712</td>\n",
       "      <td>0.553903</td>\n",
       "      <td>286.563500</td>\n",
       "      <td>0.718566</td>\n",
       "      <td>2.314103</td>\n",
       "      <td>1.000000</td>\n",
       "    </tr>\n",
       "    <tr>\n",
       "      <th>50%</th>\n",
       "      <td>125.500000</td>\n",
       "      <td>5444.500000</td>\n",
       "      <td>128.659787</td>\n",
       "      <td>54.507285</td>\n",
       "      <td>0.907613</td>\n",
       "      <td>5551.000000</td>\n",
       "      <td>83.259548</td>\n",
       "      <td>0.611873</td>\n",
       "      <td>304.742500</td>\n",
       "      <td>0.735247</td>\n",
       "      <td>2.382048</td>\n",
       "      <td>1.000000</td>\n",
       "    </tr>\n",
       "    <tr>\n",
       "      <th>75%</th>\n",
       "      <td>187.750000</td>\n",
       "      <td>5940.000000</td>\n",
       "      <td>135.848720</td>\n",
       "      <td>57.150251</td>\n",
       "      <td>0.910973</td>\n",
       "      <td>6093.750000</td>\n",
       "      <td>86.965749</td>\n",
       "      <td>0.712129</td>\n",
       "      <td>320.882750</td>\n",
       "      <td>0.752251</td>\n",
       "      <td>2.424445</td>\n",
       "      <td>1.000000</td>\n",
       "    </tr>\n",
       "    <tr>\n",
       "      <th>max</th>\n",
       "      <td>250.000000</td>\n",
       "      <td>7453.000000</td>\n",
       "      <td>227.928583</td>\n",
       "      <td>64.012769</td>\n",
       "      <td>0.914001</td>\n",
       "      <td>7720.000000</td>\n",
       "      <td>97.413830</td>\n",
       "      <td>0.878899</td>\n",
       "      <td>448.305000</td>\n",
       "      <td>0.785460</td>\n",
       "      <td>2.464809</td>\n",
       "      <td>2.000000</td>\n",
       "    </tr>\n",
       "  </tbody>\n",
       "</table>\n",
       "</div>"
      ],
      "text/plain": [
       "               ID       Daerah  SumbuUtama  SumbuKecil    Keunikan  \\\n",
       "count  250.000000   250.000000  250.000000  250.000000  250.000000   \n",
       "mean   125.500000  5394.136000  128.973929   54.378581    0.904826   \n",
       "std     72.312977   845.269999   14.093670    4.203742    0.013431   \n",
       "min      1.000000  3136.000000   92.229316   41.436419    0.719916   \n",
       "25%     63.250000  4817.000000  122.008029   51.753392    0.901810   \n",
       "50%    125.500000  5444.500000  128.659787   54.507285    0.907613   \n",
       "75%    187.750000  5940.000000  135.848720   57.150251    0.910973   \n",
       "max    250.000000  7453.000000  227.928583   64.012769    0.914001   \n",
       "\n",
       "       AreaBulatan    Diameter    KadarAir    Keliling     Bulatan  \\\n",
       "count   250.000000  250.000000  250.000000  250.000000  250.000000   \n",
       "mean   5549.804000   82.613746    0.635743  305.125020    0.728154   \n",
       "std     867.025436    6.570311    0.095096   29.637571    0.051092   \n",
       "min    3270.000000   63.189233    0.418947  234.781000    0.261297   \n",
       "25%    4961.250000   78.314712    0.553903  286.563500    0.718566   \n",
       "50%    5551.000000   83.259548    0.611873  304.742500    0.735247   \n",
       "75%    6093.750000   86.965749    0.712129  320.882750    0.752251   \n",
       "max    7720.000000   97.413830    0.878899  448.305000    0.785460   \n",
       "\n",
       "           Ransum      Target  \n",
       "count  250.000000  250.000000  \n",
       "mean     2.357643    1.004000  \n",
       "std      0.094939    0.063246  \n",
       "min      1.440796    1.000000  \n",
       "25%      2.314103    1.000000  \n",
       "50%      2.382048    1.000000  \n",
       "75%      2.424445    1.000000  \n",
       "max      2.464809    2.000000  "
      ]
     },
     "execution_count": 190,
     "metadata": {},
     "output_type": "execute_result"
    }
   ],
   "source": [
    "dataset.loc[:249].describe()"
   ]
  },
  {
   "cell_type": "markdown",
   "metadata": {},
   "source": [
    "Boxplot dan descriptive statistics Diameter bagian kedua"
   ]
  },
  {
   "cell_type": "code",
   "execution_count": 188,
   "metadata": {},
   "outputs": [
    {
     "data": {
      "text/plain": [
       "<AxesSubplot:>"
      ]
     },
     "execution_count": 188,
     "metadata": {},
     "output_type": "execute_result"
    },
    {
     "data": {
      "image/png": "[encoded data removed]",
      "text/plain": [
       "<Figure size 432x288 with 1 Axes>"
      ]
     },
     "metadata": {
      "needs_background": "light"
     },
     "output_type": "display_data"
    }
   ],
   "source": [
    "dataset.loc[250:].boxplot([\"Diameter\"])"
   ]
  },
  {
   "cell_type": "code",
   "execution_count": 189,
   "metadata": {},
   "outputs": [
    {
     "data": {
      "text/html": [
       "<div>\n",
       "<style scoped>\n",
       "    .dataframe tbody tr th:only-of-type {\n",
       "        vertical-align: middle;\n",
       "    }\n",
       "\n",
       "    .dataframe tbody tr th {\n",
       "        vertical-align: top;\n",
       "    }\n",
       "\n",
       "    .dataframe thead th {\n",
       "        text-align: right;\n",
       "    }\n",
       "</style>\n",
       "<table border=\"1\" class=\"dataframe\">\n",
       "  <thead>\n",
       "    <tr style=\"text-align: right;\">\n",
       "      <th></th>\n",
       "      <th>ID</th>\n",
       "      <th>Daerah</th>\n",
       "      <th>SumbuUtama</th>\n",
       "      <th>SumbuKecil</th>\n",
       "      <th>Keunikan</th>\n",
       "      <th>AreaBulatan</th>\n",
       "      <th>Diameter</th>\n",
       "      <th>KadarAir</th>\n",
       "      <th>Keliling</th>\n",
       "      <th>Bulatan</th>\n",
       "      <th>Ransum</th>\n",
       "      <th>Target</th>\n",
       "    </tr>\n",
       "  </thead>\n",
       "  <tbody>\n",
       "    <tr>\n",
       "      <th>count</th>\n",
       "      <td>250.000000</td>\n",
       "      <td>250.000000</td>\n",
       "      <td>250.000000</td>\n",
       "      <td>250.000000</td>\n",
       "      <td>250.000000</td>\n",
       "      <td>250.000000</td>\n",
       "      <td>250.000000</td>\n",
       "      <td>250.000000</td>\n",
       "      <td>250.000000</td>\n",
       "      <td>250.000000</td>\n",
       "      <td>250.000000</td>\n",
       "      <td>250.0</td>\n",
       "    </tr>\n",
       "    <tr>\n",
       "      <th>mean</th>\n",
       "      <td>375.500000</td>\n",
       "      <td>4208.356000</td>\n",
       "      <td>103.116414</td>\n",
       "      <td>53.051911</td>\n",
       "      <td>0.852702</td>\n",
       "      <td>4324.292000</td>\n",
       "      <td>72.928570</td>\n",
       "      <td>0.661000</td>\n",
       "      <td>257.834424</td>\n",
       "      <td>0.795321</td>\n",
       "      <td>1.944187</td>\n",
       "      <td>2.0</td>\n",
       "    </tr>\n",
       "    <tr>\n",
       "      <th>std</th>\n",
       "      <td>72.312977</td>\n",
       "      <td>727.679702</td>\n",
       "      <td>11.643519</td>\n",
       "      <td>3.828688</td>\n",
       "      <td>0.033736</td>\n",
       "      <td>738.566466</td>\n",
       "      <td>6.310964</td>\n",
       "      <td>0.092101</td>\n",
       "      <td>28.149351</td>\n",
       "      <td>0.052484</td>\n",
       "      <td>0.173747</td>\n",
       "      <td>0.0</td>\n",
       "    </tr>\n",
       "    <tr>\n",
       "      <th>min</th>\n",
       "      <td>251.000000</td>\n",
       "      <td>2522.000000</td>\n",
       "      <td>74.133114</td>\n",
       "      <td>39.906517</td>\n",
       "      <td>0.725553</td>\n",
       "      <td>2579.000000</td>\n",
       "      <td>56.666658</td>\n",
       "      <td>0.409927</td>\n",
       "      <td>197.015000</td>\n",
       "      <td>0.174590</td>\n",
       "      <td>1.453137</td>\n",
       "      <td>2.0</td>\n",
       "    </tr>\n",
       "    <tr>\n",
       "      <th>25%</th>\n",
       "      <td>313.250000</td>\n",
       "      <td>3733.500000</td>\n",
       "      <td>95.519781</td>\n",
       "      <td>50.797123</td>\n",
       "      <td>0.839186</td>\n",
       "      <td>3827.250000</td>\n",
       "      <td>68.946644</td>\n",
       "      <td>0.590431</td>\n",
       "      <td>240.300000</td>\n",
       "      <td>0.773805</td>\n",
       "      <td>1.838760</td>\n",
       "      <td>2.0</td>\n",
       "    </tr>\n",
       "    <tr>\n",
       "      <th>50%</th>\n",
       "      <td>375.500000</td>\n",
       "      <td>4171.500000</td>\n",
       "      <td>104.332979</td>\n",
       "      <td>52.666834</td>\n",
       "      <td>0.863701</td>\n",
       "      <td>4283.000000</td>\n",
       "      <td>72.878794</td>\n",
       "      <td>0.634284</td>\n",
       "      <td>257.184000</td>\n",
       "      <td>0.796387</td>\n",
       "      <td>1.984110</td>\n",
       "      <td>2.0</td>\n",
       "    </tr>\n",
       "    <tr>\n",
       "      <th>75%</th>\n",
       "      <td>437.750000</td>\n",
       "      <td>4622.500000</td>\n",
       "      <td>110.482779</td>\n",
       "      <td>55.658914</td>\n",
       "      <td>0.876217</td>\n",
       "      <td>4759.750000</td>\n",
       "      <td>76.717337</td>\n",
       "      <td>0.737766</td>\n",
       "      <td>272.856250</td>\n",
       "      <td>0.816398</td>\n",
       "      <td>2.075044</td>\n",
       "      <td>2.0</td>\n",
       "    </tr>\n",
       "    <tr>\n",
       "      <th>max</th>\n",
       "      <td>500.000000</td>\n",
       "      <td>6946.000000</td>\n",
       "      <td>136.303603</td>\n",
       "      <td>68.977700</td>\n",
       "      <td>0.892647</td>\n",
       "      <td>7115.000000</td>\n",
       "      <td>94.042128</td>\n",
       "      <td>0.877897</td>\n",
       "      <td>488.837000</td>\n",
       "      <td>0.904748</td>\n",
       "      <td>2.218493</td>\n",
       "      <td>2.0</td>\n",
       "    </tr>\n",
       "  </tbody>\n",
       "</table>\n",
       "</div>"
      ],
      "text/plain": [
       "               ID       Daerah  SumbuUtama  SumbuKecil    Keunikan  \\\n",
       "count  250.000000   250.000000  250.000000  250.000000  250.000000   \n",
       "mean   375.500000  4208.356000  103.116414   53.051911    0.852702   \n",
       "std     72.312977   727.679702   11.643519    3.828688    0.033736   \n",
       "min    251.000000  2522.000000   74.133114   39.906517    0.725553   \n",
       "25%    313.250000  3733.500000   95.519781   50.797123    0.839186   \n",
       "50%    375.500000  4171.500000  104.332979   52.666834    0.863701   \n",
       "75%    437.750000  4622.500000  110.482779   55.658914    0.876217   \n",
       "max    500.000000  6946.000000  136.303603   68.977700    0.892647   \n",
       "\n",
       "       AreaBulatan    Diameter    KadarAir    Keliling     Bulatan  \\\n",
       "count   250.000000  250.000000  250.000000  250.000000  250.000000   \n",
       "mean   4324.292000   72.928570    0.661000  257.834424    0.795321   \n",
       "std     738.566466    6.310964    0.092101   28.149351    0.052484   \n",
       "min    2579.000000   56.666658    0.409927  197.015000    0.174590   \n",
       "25%    3827.250000   68.946644    0.590431  240.300000    0.773805   \n",
       "50%    4283.000000   72.878794    0.634284  257.184000    0.796387   \n",
       "75%    4759.750000   76.717337    0.737766  272.856250    0.816398   \n",
       "max    7115.000000   94.042128    0.877897  488.837000    0.904748   \n",
       "\n",
       "           Ransum  Target  \n",
       "count  250.000000   250.0  \n",
       "mean     1.944187     2.0  \n",
       "std      0.173747     0.0  \n",
       "min      1.453137     2.0  \n",
       "25%      1.838760     2.0  \n",
       "50%      1.984110     2.0  \n",
       "75%      2.075044     2.0  \n",
       "max      2.218493     2.0  "
      ]
     },
     "execution_count": 189,
     "metadata": {},
     "output_type": "execute_result"
    }
   ],
   "source": [
    "dataset.loc[250:].describe()"
   ]
  },
  {
   "cell_type": "markdown",
   "metadata": {},
   "source": [
    "1. **Hipotesis nol**\n",
    "\n",
    "$Diameter1$ dan $Diameter2$ menunjukan bagian awal dan akhir dari kolom Diameter\n",
    "\n",
    "$H_0 : \\sigma^2_{Diameter1} = \\sigma^2_{Diameter2}$\n",
    "\n",
    "2. **Hipotesis alternatif**\n",
    "\n",
    "$H_1 : \\sigma^2_{Diameter1} \\neq \\sigma^2_{Diameter2}$\n",
    "\n",
    "3. **Tingkat signifikan**\n",
    "\n",
    "$\\alpha = 0.05$\n",
    "\n",
    "4. **Penentuan uji statistik dan daerah kritis**\n",
    "\n",
    "Diasumsikan kolom Diameter menuruti distribusi normal untuk mempermudah perhitungan.\n",
    "\n",
    "Tes varians digunakan tabel $F$-distribution pada penghitungan uji statistik. Hipotesis yang diinginkan merupakan **two-tailed** dikarenakan tidak sama dengan hipotesis nol.\n",
    "\n",
    "![ftable](other/img/ftable.png)\n",
    "\n",
    "Karena derajat kebebasan tinggi, digunakan kalkulator untuk mendapatkan nilai $f$. $f$ bernilai sekitar $1.28$ untuk mendapatkan nilai kisaran $0.975$.\n",
    "Sehingga daerah kritis terletak kisaran $c > 1.28$ atau $c < \\frac{1}{1.28}$ untuk mendapatkan nilai $\\alpha = 1 - 0.975$ dan memenuhi hipotesis alternatif ($H_1 : \\sigma^2_{Diameter1} \\neq \\sigma^2_{Diameter2}$).\n",
    "\n",
    "Hipotesis nol akan didasarkan dengan nilai uji statistik $F_c$ masuk ke dalam daerah kritis atau tidak. Nilai uji statistik $F_c$ dapat dihitung dengan\n",
    "\n",
    "$F_c = \\Large\\frac{\\sigma_2^2}{\\sigma_1^2}$\n",
    "\n",
    "5. **Perhitungan uji statistik dan $p$-value**\n",
    "\n",
    "Berdasarkan hipotesis dan statistik yang didapat pada descriptive statistics yang dilakukan diatas\n",
    "\n",
    "$\\sigma_1 = 6.570311, \\, \\sigma_2 = 6.310964$\n",
    "\n",
    "$n_1 = 250, \\, n_2 = 250$"
   ]
  },
  {
   "cell_type": "markdown",
   "metadata": {},
   "source": [
    "Perhitungan $F_c$"
   ]
  },
  {
   "cell_type": "code",
   "execution_count": 185,
   "metadata": {
    "scrolled": true
   },
   "outputs": [
    {
     "data": {
      "text/markdown": [
       "$F_c = 1.083878117523831$"
      ],
      "text/plain": [
       "<IPython.core.display.Markdown object>"
      ]
     },
     "metadata": {},
     "output_type": "display_data"
    }
   ],
   "source": [
    "fc = 6.570311**2/6.310964**2\n",
    "printMarkdown(f\"$F_c = {fc}$\")"
   ]
  },
  {
   "cell_type": "markdown",
   "metadata": {},
   "source": [
    "Batas bawah daerah kritis"
   ]
  },
  {
   "cell_type": "code",
   "execution_count": 187,
   "metadata": {},
   "outputs": [
    {
     "data": {
      "text/markdown": [
       "$c < 0.78125$"
      ],
      "text/plain": [
       "<IPython.core.display.Markdown object>"
      ]
     },
     "metadata": {},
     "output_type": "display_data"
    }
   ],
   "source": [
    "printMarkdown(f\"$c < {1/1.28}$\")"
   ]
  },
  {
   "cell_type": "markdown",
   "metadata": {},
   "source": [
    "6. **Keputusan**\n",
    "\n",
    "Nilai $F_c$ yang dihitung dari uji statistik menunjukan bahwa $F_c$ tidak terletak pada daerah kritis yakni $c < 0.78125$ dan $c > 1.28$ sehingga hipotesis nol ($H_0 : \\sigma^2_{Diameter1} = \\sigma^2_{Diameter2}$) **gagal untuk ditolak**."
   ]
  },
  {
   "cell_type": "markdown",
   "metadata": {},
   "source": [
    "***\n",
    "```\n",
    "\n",
    "\n",
    "\n",
    "\n",
    "\n",
    "```"
   ]
  },
  {
   "cell_type": "markdown",
   "metadata": {},
   "source": [
    "### 4.6. Test korelasi\n",
    "Tentukan apakah setiap kolom non-target berkorelasi dengan kolom target, dengan menggambarkan juga scatter plot nya. Gunakan correlation test."
   ]
  },
  {
   "cell_type": "code",
   "execution_count": 63,
   "metadata": {},
   "outputs": [],
   "source": [
    "# Pengimportan library yang digunakan untuk tes korelasi\n",
    "import numpy as np\n",
    "import matplotlib.pyplot as plt\n",
    "\n",
    "# Penambahan warning suppresion pada seaborn FutureWarning\n",
    "import warnings\n",
    "warnings.simplefilter(action=\"ignore\", category=FutureWarning)"
   ]
  },
  {
   "cell_type": "markdown",
   "metadata": {},
   "source": [
    "Test korelasi akan menghasilkan Pearson Correlation Coefficient $\\rho_{X,Y}$ untuk suatu random variable $X$ dan $Y$ yang memiliki rentang nilai $-1 \\geq \\rho_{X,Y}\\geq 1$.\n",
    "- Bila mendekati $1$, maka variabel $X$ dan $Y$ berkolerasi berbanding lurus.\n",
    "- Bila mendekati $0$, maka variabel $X$ dan $Y$  tidak berkolerasi.\n",
    "- Bila mendekati $-1$, maka variabel $X$ dan $Y$  berkolerasi berbanding terbalik.\n",
    "\n",
    "#### Klasifikasi\n",
    "- **Perfect**\n",
    "  - Koefisien bernilai tepat $\\pm 1$, dapat dikatakan sebagai perfect correlation\n",
    "- **High degree**\n",
    "  - Koefisien bernilai $0.5 \\leq | \\rho_{X,Y} | < 1$, dapat dikatakan sebagai strong correlation.\n",
    "- **Moderate degree**\n",
    "  - Koefisien bernilai $0.3 \\leq | \\rho_{X,Y} | < 0.5$, dapat dikatakan sebagai medium correlation.\n",
    "- **Low degree**\n",
    "  - Koefisien bernilai  $0 < | \\rho_{X,Y} | < 0.3$, dapat dikatakan sebagai small correlation.\n",
    "- **No correlation**\n",
    "  - Koefisien bernilai tepat $0$, dapat dikatakan sebagai no correlation."
   ]
  },
  {
   "cell_type": "markdown",
   "metadata": {},
   "source": [
    "***\n",
    "#### Daerah"
   ]
  },
  {
   "cell_type": "code",
   "execution_count": 64,
   "metadata": {},
   "outputs": [
    {
     "data": {
      "text/markdown": [
       "Kolom Daerah dengan kolom target"
      ],
      "text/plain": [
       "<IPython.core.display.Markdown object>"
      ]
     },
     "metadata": {},
     "output_type": "display_data"
    },
    {
     "data": {
      "text/markdown": [
       "$\\rho_{X,Y} = -0.6027466517416661$"
      ],
      "text/plain": [
       "<IPython.core.display.Markdown object>"
      ]
     },
     "metadata": {},
     "output_type": "display_data"
    },
    {
     "name": "stdout",
     "output_type": "stream",
     "text": [
      "\n"
     ]
    },
    {
     "data": {
      "text/plain": [
       "<matplotlib.collections.PathCollection at 0x14fdffd0>"
      ]
     },
     "execution_count": 64,
     "metadata": {},
     "output_type": "execute_result"
    },
    {
     "data": {
      "image/png": "[encoded data removed]",
      "text/plain": [
       "<Figure size 432x288 with 1 Axes>"
      ]
     },
     "metadata": {
      "needs_background": "light"
     },
     "output_type": "display_data"
    }
   ],
   "source": [
    "printMarkdown(\"Kolom Daerah dengan kolom target\")\n",
    "rho = np.corrcoef(dataset[\"Daerah\"], dataset[\"Target\"])\n",
    "printMarkdown(\"$\\\\rho_{X,Y} = \" + str(rho[0][1]) + \"$\") # rho[0][1] = rho[1][0]. Dipilih satu untuk ditampilkan\n",
    "print()\n",
    "plt.scatter(dataset[\"Daerah\"], dataset[\"Target\"])"
   ]
  },
  {
   "cell_type": "markdown",
   "metadata": {},
   "source": [
    "Dari nilai koefisien Pearson dan Scatterplot di atas, maka dapat disimpulkan bahwa kolom Daerah dan Target\n",
    "berkorelasi **berbanding terbalik** secara **strong correlation**."
   ]
  },
  {
   "cell_type": "code",
   "execution_count": 65,
   "metadata": {},
   "outputs": [
    {
     "data": {
      "text/plain": [
       "<AxesSubplot:xlabel='Daerah', ylabel='Target'>"
      ]
     },
     "execution_count": 65,
     "metadata": {},
     "output_type": "execute_result"
    },
    {
     "data": {
      "image/png": "[encoded data removed]",
      "text/plain": [
       "<Figure size 432x288 with 1 Axes>"
      ]
     },
     "metadata": {
      "needs_background": "light"
     },
     "output_type": "display_data"
    }
   ],
   "source": [
    "# Dapat dilihat lebih jelas pada regplot berikut:\n",
    "sns.regplot(dataset[\"Daerah\"], dataset[\"Target\"])"
   ]
  },
  {
   "cell_type": "markdown",
   "metadata": {},
   "source": [
    "***\n",
    "```\n",
    "\n",
    "```"
   ]
  },
  {
   "cell_type": "markdown",
   "metadata": {},
   "source": [
    "#### SumbuUtama"
   ]
  },
  {
   "cell_type": "code",
   "execution_count": 66,
   "metadata": {},
   "outputs": [
    {
     "data": {
      "text/markdown": [
       "Kolom SumbuUtama dengan kolom target"
      ],
      "text/plain": [
       "<IPython.core.display.Markdown object>"
      ]
     },
     "metadata": {},
     "output_type": "display_data"
    },
    {
     "data": {
      "text/markdown": [
       "$\\rho_{X,Y} = -0.7130906104204593$"
      ],
      "text/plain": [
       "<IPython.core.display.Markdown object>"
      ]
     },
     "metadata": {},
     "output_type": "display_data"
    },
    {
     "name": "stdout",
     "output_type": "stream",
     "text": [
      "\n"
     ]
    },
    {
     "data": {
      "text/plain": [
       "<matplotlib.collections.PathCollection at 0x160555b0>"
      ]
     },
     "execution_count": 66,
     "metadata": {},
     "output_type": "execute_result"
    },
    {
     "data": {
      "image/png": "[encoded data removed]",
      "text/plain": [
       "<Figure size 432x288 with 1 Axes>"
      ]
     },
     "metadata": {
      "needs_background": "light"
     },
     "output_type": "display_data"
    }
   ],
   "source": [
    "printMarkdown(\"Kolom SumbuUtama dengan kolom target\")\n",
    "rho = np.corrcoef(dataset[\"SumbuUtama\"], dataset[\"Target\"])\n",
    "printMarkdown(\"$\\\\rho_{X,Y} = \" + str(rho[0][1]) + \"$\") # rho[0][1] = rho[1][0]. Dipilih satu untuk ditampilkan\n",
    "print()\n",
    "plt.scatter(dataset[\"SumbuUtama\"], dataset[\"Target\"])"
   ]
  },
  {
   "cell_type": "markdown",
   "metadata": {},
   "source": [
    "Dari nilai koefisien Pearson dan Scatterplot di atas, maka dapat disimpulkan bahwa kolom SumbuUtama dan Target \n",
    "berkorelasi **berbanding terbalik** secara **strong correlation**."
   ]
  },
  {
   "cell_type": "code",
   "execution_count": 67,
   "metadata": {},
   "outputs": [
    {
     "data": {
      "text/plain": [
       "<AxesSubplot:xlabel='SumbuUtama', ylabel='Target'>"
      ]
     },
     "execution_count": 67,
     "metadata": {},
     "output_type": "execute_result"
    },
    {
     "data": {
      "image/png": "[encoded data removed]",
      "text/plain": [
       "<Figure size 432x288 with 1 Axes>"
      ]
     },
     "metadata": {
      "needs_background": "light"
     },
     "output_type": "display_data"
    }
   ],
   "source": [
    "# Dapat dilihat lebih jelas pada regplot berikut:\n",
    "sns.regplot(dataset[\"SumbuUtama\"], dataset[\"Target\"])"
   ]
  },
  {
   "cell_type": "markdown",
   "metadata": {},
   "source": [
    "***\n",
    "```\n",
    "\n",
    "```"
   ]
  },
  {
   "cell_type": "markdown",
   "metadata": {},
   "source": [
    "#### SumbuKecil"
   ]
  },
  {
   "cell_type": "code",
   "execution_count": 68,
   "metadata": {},
   "outputs": [
    {
     "data": {
      "text/markdown": [
       "Kolom SumbuKecil dengan kolom target"
      ],
      "text/plain": [
       "<IPython.core.display.Markdown object>"
      ]
     },
     "metadata": {},
     "output_type": "display_data"
    },
    {
     "data": {
      "text/markdown": [
       "$\\rho_{X,Y} = -0.15297517335535027$"
      ],
      "text/plain": [
       "<IPython.core.display.Markdown object>"
      ]
     },
     "metadata": {},
     "output_type": "display_data"
    },
    {
     "name": "stdout",
     "output_type": "stream",
     "text": [
      "\n"
     ]
    },
    {
     "data": {
      "text/plain": [
       "<matplotlib.collections.PathCollection at 0x160baa90>"
      ]
     },
     "execution_count": 68,
     "metadata": {},
     "output_type": "execute_result"
    },
    {
     "data": {
      "image/png": "[encoded data removed]",
      "text/plain": [
       "<Figure size 432x288 with 1 Axes>"
      ]
     },
     "metadata": {
      "needs_background": "light"
     },
     "output_type": "display_data"
    }
   ],
   "source": [
    "printMarkdown(\"Kolom SumbuKecil dengan kolom target\")\n",
    "rho = np.corrcoef(dataset[\"SumbuKecil\"], dataset[\"Target\"])\n",
    "printMarkdown(\"$\\\\rho_{X,Y} = \" + str(rho[0][1]) + \"$\") # rho[0][1] = rho[1][0]. Dipilih satu untuk ditampilkan\n",
    "print()\n",
    "plt.scatter(dataset[\"SumbuKecil\"], dataset[\"Target\"])"
   ]
  },
  {
   "cell_type": "markdown",
   "metadata": {},
   "source": [
    "Dari nilai koefisien Pearson dan Scatterplot di atas, maka dapat disimpulkan bahwa kolom SumbuKecil dan Target \n",
    "berkorelasi **berbanding terbalik** secara **small correlation**."
   ]
  },
  {
   "cell_type": "code",
   "execution_count": 69,
   "metadata": {},
   "outputs": [
    {
     "data": {
      "text/plain": [
       "<AxesSubplot:xlabel='SumbuKecil', ylabel='Target'>"
      ]
     },
     "execution_count": 69,
     "metadata": {},
     "output_type": "execute_result"
    },
    {
     "data": {
      "image/png": "[encoded data removed]",
      "text/plain": [
       "<Figure size 432x288 with 1 Axes>"
      ]
     },
     "metadata": {
      "needs_background": "light"
     },
     "output_type": "display_data"
    }
   ],
   "source": [
    "# Dapat dilihat lebih jelas pada regplot berikut:\n",
    "sns.regplot(dataset[\"SumbuKecil\"], dataset[\"Target\"])"
   ]
  },
  {
   "cell_type": "markdown",
   "metadata": {},
   "source": [
    "***\n",
    "```\n",
    "\n",
    "```"
   ]
  },
  {
   "cell_type": "markdown",
   "metadata": {},
   "source": [
    "#### Keunikan"
   ]
  },
  {
   "cell_type": "code",
   "execution_count": 70,
   "metadata": {},
   "outputs": [
    {
     "data": {
      "text/markdown": [
       "Kolom Keunikan dengan kolom target"
      ],
      "text/plain": [
       "<IPython.core.display.Markdown object>"
      ]
     },
     "metadata": {},
     "output_type": "display_data"
    },
    {
     "data": {
      "text/markdown": [
       "$\\rho_{X,Y} = -0.7304563686511923$"
      ],
      "text/plain": [
       "<IPython.core.display.Markdown object>"
      ]
     },
     "metadata": {},
     "output_type": "display_data"
    },
    {
     "name": "stdout",
     "output_type": "stream",
     "text": [
      "\n"
     ]
    },
    {
     "data": {
      "text/plain": [
       "<matplotlib.collections.PathCollection at 0x14eef630>"
      ]
     },
     "execution_count": 70,
     "metadata": {},
     "output_type": "execute_result"
    },
    {
     "data": {
      "image/png": "[encoded data removed]",
      "text/plain": [
       "<Figure size 432x288 with 1 Axes>"
      ]
     },
     "metadata": {
      "needs_background": "light"
     },
     "output_type": "display_data"
    }
   ],
   "source": [
    "printMarkdown(\"Kolom Keunikan dengan kolom target\")\n",
    "rho = np.corrcoef(dataset[\"Keunikan\"], dataset[\"Target\"])\n",
    "printMarkdown(\"$\\\\rho_{X,Y} = \" + str(rho[0][1]) + \"$\") # rho[0][1] = rho[1][0]. Dipilih satu untuk ditampilkan\n",
    "print()\n",
    "plt.scatter(dataset[\"Keunikan\"], dataset[\"Target\"])"
   ]
  },
  {
   "cell_type": "markdown",
   "metadata": {},
   "source": [
    "Dari nilai koefisien Pearson dan Scatterplot di atas, maka dapat disimpulkan bahwa kolom Keunikan dan Target berkorelasi **berbanding terbalik** secara **high degree**."
   ]
  },
  {
   "cell_type": "code",
   "execution_count": 71,
   "metadata": {
    "scrolled": true
   },
   "outputs": [
    {
     "data": {
      "text/plain": [
       "<AxesSubplot:xlabel='Keunikan', ylabel='Target'>"
      ]
     },
     "execution_count": 71,
     "metadata": {},
     "output_type": "execute_result"
    },
    {
     "data": {
      "image/png": "[encoded data removed]",
      "text/plain": [
       "<Figure size 432x288 with 1 Axes>"
      ]
     },
     "metadata": {
      "needs_background": "light"
     },
     "output_type": "display_data"
    }
   ],
   "source": [
    "# Dapat dilihat lebih jelas pada regplot berikut:\n",
    "sns.regplot(dataset[\"Keunikan\"], dataset[\"Target\"])"
   ]
  },
  {
   "cell_type": "markdown",
   "metadata": {},
   "source": [
    "***\n",
    "```\n",
    "\n",
    "```"
   ]
  },
  {
   "cell_type": "markdown",
   "metadata": {},
   "source": [
    "#### AreaBulatan"
   ]
  },
  {
   "cell_type": "code",
   "execution_count": 72,
   "metadata": {},
   "outputs": [
    {
     "data": {
      "text/markdown": [
       "Kolom AreaBulatan dengan kolom target"
      ],
      "text/plain": [
       "<IPython.core.display.Markdown object>"
      ]
     },
     "metadata": {},
     "output_type": "display_data"
    },
    {
     "data": {
      "text/markdown": [
       "$\\rho_{X,Y} = -0.6073125434153751$"
      ],
      "text/plain": [
       "<IPython.core.display.Markdown object>"
      ]
     },
     "metadata": {},
     "output_type": "display_data"
    },
    {
     "name": "stdout",
     "output_type": "stream",
     "text": [
      "\n"
     ]
    },
    {
     "data": {
      "text/plain": [
       "<matplotlib.collections.PathCollection at 0x161dd270>"
      ]
     },
     "execution_count": 72,
     "metadata": {},
     "output_type": "execute_result"
    },
    {
     "data": {
      "image/png": "[encoded data removed]",
      "text/plain": [
       "<Figure size 432x288 with 1 Axes>"
      ]
     },
     "metadata": {
      "needs_background": "light"
     },
     "output_type": "display_data"
    }
   ],
   "source": [
    "printMarkdown(\"Kolom AreaBulatan dengan kolom target\")\n",
    "rho = np.corrcoef(dataset[\"AreaBulatan\"], dataset[\"Target\"])\n",
    "printMarkdown(\"$\\\\rho_{X,Y} = \" + str(rho[0][1]) + \"$\") # rho[0][1] = rho[1][0]. Dipilih satu untuk ditampilkan\n",
    "print()\n",
    "plt.scatter(dataset[\"AreaBulatan\"], dataset[\"Target\"])"
   ]
  },
  {
   "cell_type": "markdown",
   "metadata": {},
   "source": [
    "Dari nilai koefisien Pearson dan Scatterplot di atas, maka dapat disimpulkan bahwa kolom AreaBulatan dan Target berkorelasi **berbanding terbalik** secara **strong correlation**."
   ]
  },
  {
   "cell_type": "code",
   "execution_count": 73,
   "metadata": {},
   "outputs": [
    {
     "data": {
      "text/plain": [
       "<AxesSubplot:xlabel='AreaBulatan', ylabel='Target'>"
      ]
     },
     "execution_count": 73,
     "metadata": {},
     "output_type": "execute_result"
    },
    {
     "data": {
      "image/png": "[encoded data removed]",
      "text/plain": [
       "<Figure size 432x288 with 1 Axes>"
      ]
     },
     "metadata": {
      "needs_background": "light"
     },
     "output_type": "display_data"
    }
   ],
   "source": [
    "# Dapat dilihat lebih jelas pada regplot berikut:\n",
    "sns.regplot(dataset[\"AreaBulatan\"], dataset[\"Target\"])"
   ]
  },
  {
   "cell_type": "markdown",
   "metadata": {},
   "source": [
    "***\n",
    "```\n",
    "\n",
    "```"
   ]
  },
  {
   "cell_type": "markdown",
   "metadata": {},
   "source": [
    "#### Diameter"
   ]
  },
  {
   "cell_type": "code",
   "execution_count": 74,
   "metadata": {},
   "outputs": [
    {
     "data": {
      "text/markdown": [
       "Kolom Diameter dengan kolom target"
      ],
      "text/plain": [
       "<IPython.core.display.Markdown object>"
      ]
     },
     "metadata": {},
     "output_type": "display_data"
    },
    {
     "data": {
      "text/markdown": [
       "$\\rho_{X,Y} = -0.6025356896618813$"
      ],
      "text/plain": [
       "<IPython.core.display.Markdown object>"
      ]
     },
     "metadata": {},
     "output_type": "display_data"
    },
    {
     "name": "stdout",
     "output_type": "stream",
     "text": [
      "\n"
     ]
    },
    {
     "data": {
      "text/plain": [
       "<matplotlib.collections.PathCollection at 0x162615b0>"
      ]
     },
     "execution_count": 74,
     "metadata": {},
     "output_type": "execute_result"
    },
    {
     "data": {
      "image/png": "[encoded data removed]",
      "text/plain": [
       "<Figure size 432x288 with 1 Axes>"
      ]
     },
     "metadata": {
      "needs_background": "light"
     },
     "output_type": "display_data"
    }
   ],
   "source": [
    "printMarkdown(\"Kolom Diameter dengan kolom target\")\n",
    "rho = np.corrcoef(dataset[\"Diameter\"], dataset[\"Target\"])\n",
    "printMarkdown(\"$\\\\rho_{X,Y} = \" + str(rho[0][1]) + \"$\") # rho[0][1] = rho[1][0]. Dipilih satu untuk ditampilkan\n",
    "print()\n",
    "plt.scatter(dataset[\"Diameter\"], dataset[\"Target\"])"
   ]
  },
  {
   "cell_type": "markdown",
   "metadata": {},
   "source": [
    "Dari nilai koefisien Pearson dan Scatterplot di atas, maka dapat disimpulkan bahwa kolom Diameter dan Target berkorelasi **berbanding terbalik** secara **strong correlation**."
   ]
  },
  {
   "cell_type": "code",
   "execution_count": 75,
   "metadata": {},
   "outputs": [
    {
     "data": {
      "text/plain": [
       "<AxesSubplot:xlabel='Diameter', ylabel='Target'>"
      ]
     },
     "execution_count": 75,
     "metadata": {},
     "output_type": "execute_result"
    },
    {
     "data": {
      "image/png": "[encoded data removed]",
      "text/plain": [
       "<Figure size 432x288 with 1 Axes>"
      ]
     },
     "metadata": {
      "needs_background": "light"
     },
     "output_type": "display_data"
    }
   ],
   "source": [
    "# Dapat dilihat lebih jelas pada regplot berikut:\n",
    "sns.regplot(dataset[\"Diameter\"], dataset[\"Target\"])"
   ]
  },
  {
   "cell_type": "markdown",
   "metadata": {},
   "source": [
    "***\n",
    "```\n",
    "\n",
    "```"
   ]
  },
  {
   "cell_type": "markdown",
   "metadata": {},
   "source": [
    "#### KadarAir"
   ]
  },
  {
   "cell_type": "code",
   "execution_count": 76,
   "metadata": {},
   "outputs": [
    {
     "data": {
      "text/markdown": [
       "Kolom KadarAir dengan kolom target"
      ],
      "text/plain": [
       "<IPython.core.display.Markdown object>"
      ]
     },
     "metadata": {},
     "output_type": "display_data"
    },
    {
     "data": {
      "text/markdown": [
       "$\\rho_{X,Y} = 0.13434422605727642$"
      ],
      "text/plain": [
       "<IPython.core.display.Markdown object>"
      ]
     },
     "metadata": {},
     "output_type": "display_data"
    },
    {
     "name": "stdout",
     "output_type": "stream",
     "text": [
      "\n"
     ]
    },
    {
     "data": {
      "text/plain": [
       "<matplotlib.collections.PathCollection at 0x162ecfb0>"
      ]
     },
     "execution_count": 76,
     "metadata": {},
     "output_type": "execute_result"
    },
    {
     "data": {
      "image/png": "[encoded data removed]",
      "text/plain": [
       "<Figure size 432x288 with 1 Axes>"
      ]
     },
     "metadata": {
      "needs_background": "light"
     },
     "output_type": "display_data"
    }
   ],
   "source": [
    "printMarkdown(\"Kolom KadarAir dengan kolom target\")\n",
    "rho = np.corrcoef(dataset[\"KadarAir\"], dataset[\"Target\"])\n",
    "printMarkdown(\"$\\\\rho_{X,Y} = \" + str(rho[0][1]) + \"$\") # rho[0][1] = rho[1][0]. Dipilih satu untuk ditampilkan\n",
    "print()\n",
    "plt.scatter(dataset[\"KadarAir\"], dataset[\"Target\"])"
   ]
  },
  {
   "cell_type": "markdown",
   "metadata": {},
   "source": [
    "Dari nilai koefisien Pearson dan Scatterplot di atas, maka dapat disimpulkan bahwa kolom KadarAir dan Target berkorelasi **berbanding lurus** secara **small correlation**."
   ]
  },
  {
   "cell_type": "code",
   "execution_count": 77,
   "metadata": {},
   "outputs": [
    {
     "data": {
      "text/plain": [
       "<AxesSubplot:xlabel='KadarAir', ylabel='Target'>"
      ]
     },
     "execution_count": 77,
     "metadata": {},
     "output_type": "execute_result"
    },
    {
     "data": {
      "image/png": "[encoded data removed]",
      "text/plain": [
       "<Figure size 432x288 with 1 Axes>"
      ]
     },
     "metadata": {
      "needs_background": "light"
     },
     "output_type": "display_data"
    }
   ],
   "source": [
    "# Dapat dilihat lebih jelas pada regplot berikut:\n",
    "sns.regplot(dataset[\"KadarAir\"], dataset[\"Target\"])"
   ]
  },
  {
   "cell_type": "markdown",
   "metadata": {},
   "source": [
    "***\n",
    "```\n",
    "\n",
    "```"
   ]
  },
  {
   "cell_type": "markdown",
   "metadata": {},
   "source": [
    "#### Keliling"
   ]
  },
  {
   "cell_type": "code",
   "execution_count": 78,
   "metadata": {},
   "outputs": [
    {
     "data": {
      "text/markdown": [
       "Kolom Keliling dengan kolom target"
      ],
      "text/plain": [
       "<IPython.core.display.Markdown object>"
      ]
     },
     "metadata": {},
     "output_type": "display_data"
    },
    {
     "data": {
      "text/markdown": [
       "$\\rho_{X,Y} = -0.6348607454756855$"
      ],
      "text/plain": [
       "<IPython.core.display.Markdown object>"
      ]
     },
     "metadata": {},
     "output_type": "display_data"
    },
    {
     "name": "stdout",
     "output_type": "stream",
     "text": [
      "\n"
     ]
    },
    {
     "data": {
      "text/plain": [
       "<matplotlib.collections.PathCollection at 0x16376f90>"
      ]
     },
     "execution_count": 78,
     "metadata": {},
     "output_type": "execute_result"
    },
    {
     "data": {
      "image/png": "[encoded data removed]",
      "text/plain": [
       "<Figure size 432x288 with 1 Axes>"
      ]
     },
     "metadata": {
      "needs_background": "light"
     },
     "output_type": "display_data"
    }
   ],
   "source": [
    "printMarkdown(\"Kolom Keliling dengan kolom target\")\n",
    "rho = np.corrcoef(dataset[\"Keliling\"], dataset[\"Target\"])\n",
    "printMarkdown(\"$\\\\rho_{X,Y} = \" + str(rho[0][1]) + \"$\") # rho[0][1] = rho[1][0]. Dipilih satu untuk ditampilkan\n",
    "print()\n",
    "plt.scatter(dataset[\"Keliling\"], dataset[\"Target\"])"
   ]
  },
  {
   "cell_type": "markdown",
   "metadata": {},
   "source": [
    "***\n",
    "```\n",
    "\n",
    "\n",
    "\n",
    "\n",
    "\n",
    "```"
   ]
  },
  {
   "cell_type": "markdown",
   "metadata": {},
   "source": [
    "## Referensi\n",
    "\n",
    "Uji hipotesis<br>\n",
    "https://en.wikipedia.org/wiki/Statistical_hypothesis_testing<br>\n",
    "https://en.wikipedia.org/wiki/Lady_tasting_tea<br>\n",
    "https://en.wikipedia.org/wiki/Neyman%E2%80%93Pearson_lemma<br>\n",
    "https://www.statisticshowto.com/probability-and-statistics/hypothesis-testing/<br>\n",
    "https://en.wikipedia.org/wiki/One-_and_two-tailed_tests<br>\n",
    "https://en.wikipedia.org/wiki/Exclusion_of_the_null_hypothesis<br>\n",
    "https://online.stat.psu.edu/statprogram/reviews/statistical-concepts/proportions<br>\n",
    "https://www.jmp.com/en_ch/statistics-knowledge-portal/t-test/two-sample-t-test.html<br>\n",
    "https://online.stat.psu.edu/stat800/lesson/5/5.5<br>\n",
    "\n",
    "Library<br>\n",
    "https://stackoverflow.com/questions/37947496/how-to-print-like-jupyter-notebooks-default-cell-output/37947698<br>\n",
    "https://pandas.pydata.org/pandas-docs/stable/reference/api/pandas.DataFrame.html<br>\n",
    "\n",
    "Korelasi dan uji distribusi normal<br>\n",
    "https://en.wikipedia.org/wiki/Pearson_correlation_coefficient<br>\n",
    "https://en.wikipedia.org/wiki/D%27Agostino%27s_K-squared_test<br>\n",
    "https://en.wikipedia.org/wiki/Omnibus_test<br>"
   ]
  }
 ],
 "metadata": {
  "kernelspec": {
   "display_name": "python 3.7.7 kernel",
   "language": "python",
   "name": "python377kern"
  },
  "language_info": {
   "codemirror_mode": {
    "name": "ipython",
    "version": 3
   },
   "file_extension": ".py",
   "mimetype": "text/x-python",
   "name": "python",
   "nbconvert_exporter": "python",
   "pygments_lexer": "ipython3",
   "version": "3.7.7"
  }
 },
 "nbformat": 4,
 "nbformat_minor": 2
}
